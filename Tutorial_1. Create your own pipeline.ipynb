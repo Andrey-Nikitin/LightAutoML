{
 "cells": [
  {
   "cell_type": "markdown",
   "metadata": {},
   "source": [
    "# Step 0.1. Import necessary libraries "
   ]
  },
  {
   "cell_type": "code",
   "execution_count": 1,
   "metadata": {},
   "outputs": [],
   "source": [
    "# Standard python libraries\n",
    "import logging\n",
    "import os\n",
    "import time\n",
    "logging.basicConfig(format='[%(asctime)s] (%(levelname)s): %(message)s', level=logging.INFO)\n",
    "\n",
    "# Installed libraries\n",
    "import numpy as np\n",
    "import pandas as pd\n",
    "from sklearn.metrics import roc_auc_score\n",
    "from sklearn.model_selection import train_test_split\n",
    "import torch\n",
    "\n",
    "# Imports from our package\n",
    "from lightautoml.automl.base import AutoML\n",
    "from lightautoml.ml_algo.boost_lgbm import BoostLGBM\n",
    "from lightautoml.ml_algo.tuning.optuna import OptunaTuner\n",
    "from lightautoml.pipelines.features.lgb_pipeline import LGBSimpleFeatures\n",
    "from lightautoml.pipelines.ml.base import MLPipeline\n",
    "from lightautoml.pipelines.selection.importance_based import ImportanceCutoffSelector, ModelBasedImportanceEstimator\n",
    "from lightautoml.reader.base import PandasToPandasReader\n",
    "from lightautoml.tasks import Task\n",
    "from lightautoml.utils.profiler import Profiler\n",
    "from lightautoml.automl.blend import WeightedBlender"
   ]
  },
  {
   "cell_type": "markdown",
   "metadata": {},
   "source": [
    "# Step 0.2. Parameters "
   ]
  },
  {
   "cell_type": "code",
   "execution_count": 2,
   "metadata": {},
   "outputs": [],
   "source": [
    "N_THREADS = 8 # threads cnt for lgbm and linear models\n",
    "N_FOLDS = 5 # folds cnt for AutoML\n",
    "RANDOM_STATE = 42 # fixed random state for various reasons\n",
    "TEST_SIZE = 0.2 # Test size for metric check\n",
    "TARGET_NAME = 'TARGET' # Target column name"
   ]
  },
  {
   "cell_type": "markdown",
   "metadata": {},
   "source": [
    "# Step 0.3. Fix torch number of threads and numpy seed "
   ]
  },
  {
   "cell_type": "code",
   "execution_count": 3,
   "metadata": {},
   "outputs": [],
   "source": [
    "np.random.seed(RANDOM_STATE)\n",
    "torch.set_num_threads(N_THREADS)"
   ]
  },
  {
   "cell_type": "markdown",
   "metadata": {},
   "source": [
    "# Step 0.4. Change profiling decorators settings "
   ]
  },
  {
   "cell_type": "markdown",
   "metadata": {},
   "source": [
    "By default, profiling decorators are turned off for speed and memory reduction. If you want to see profiling report after using LAMA, you need to turn on the decorators using command below: "
   ]
  },
  {
   "cell_type": "code",
   "execution_count": 4,
   "metadata": {},
   "outputs": [
    {
     "name": "stdout",
     "output_type": "stream",
     "text": [
      "ALL_FUNCS len = 378\n"
     ]
    }
   ],
   "source": [
    "p = Profiler()\n",
    "p.change_deco_settings({'enabled': True})"
   ]
  },
  {
   "cell_type": "markdown",
   "metadata": {},
   "source": [
    "# Step 0.5. Example data load "
   ]
  },
  {
   "cell_type": "code",
   "execution_count": 5,
   "metadata": {},
   "outputs": [
    {
     "name": "stdout",
     "output_type": "stream",
     "text": [
      "CPU times: user 60.6 ms, sys: 19.8 ms, total: 80.3 ms\n",
      "Wall time: 79.7 ms\n"
     ]
    },
    {
     "data": {
      "text/html": [
       "<div>\n",
       "<style scoped>\n",
       "    .dataframe tbody tr th:only-of-type {\n",
       "        vertical-align: middle;\n",
       "    }\n",
       "\n",
       "    .dataframe tbody tr th {\n",
       "        vertical-align: top;\n",
       "    }\n",
       "\n",
       "    .dataframe thead th {\n",
       "        text-align: right;\n",
       "    }\n",
       "</style>\n",
       "<table border=\"1\" class=\"dataframe\">\n",
       "  <thead>\n",
       "    <tr style=\"text-align: right;\">\n",
       "      <th></th>\n",
       "      <th>SK_ID_CURR</th>\n",
       "      <th>TARGET</th>\n",
       "      <th>NAME_CONTRACT_TYPE</th>\n",
       "      <th>CODE_GENDER</th>\n",
       "      <th>FLAG_OWN_CAR</th>\n",
       "      <th>FLAG_OWN_REALTY</th>\n",
       "      <th>CNT_CHILDREN</th>\n",
       "      <th>AMT_INCOME_TOTAL</th>\n",
       "      <th>AMT_CREDIT</th>\n",
       "      <th>AMT_ANNUITY</th>\n",
       "      <th>...</th>\n",
       "      <th>FLAG_DOCUMENT_18</th>\n",
       "      <th>FLAG_DOCUMENT_19</th>\n",
       "      <th>FLAG_DOCUMENT_20</th>\n",
       "      <th>FLAG_DOCUMENT_21</th>\n",
       "      <th>AMT_REQ_CREDIT_BUREAU_HOUR</th>\n",
       "      <th>AMT_REQ_CREDIT_BUREAU_DAY</th>\n",
       "      <th>AMT_REQ_CREDIT_BUREAU_WEEK</th>\n",
       "      <th>AMT_REQ_CREDIT_BUREAU_MON</th>\n",
       "      <th>AMT_REQ_CREDIT_BUREAU_QRT</th>\n",
       "      <th>AMT_REQ_CREDIT_BUREAU_YEAR</th>\n",
       "    </tr>\n",
       "  </thead>\n",
       "  <tbody>\n",
       "    <tr>\n",
       "      <th>0</th>\n",
       "      <td>313802</td>\n",
       "      <td>0</td>\n",
       "      <td>Cash loans</td>\n",
       "      <td>M</td>\n",
       "      <td>N</td>\n",
       "      <td>Y</td>\n",
       "      <td>0</td>\n",
       "      <td>270000.0</td>\n",
       "      <td>327024.0</td>\n",
       "      <td>15372.0</td>\n",
       "      <td>...</td>\n",
       "      <td>0</td>\n",
       "      <td>0</td>\n",
       "      <td>0</td>\n",
       "      <td>0</td>\n",
       "      <td>0.0</td>\n",
       "      <td>0.0</td>\n",
       "      <td>0.0</td>\n",
       "      <td>0.0</td>\n",
       "      <td>0.0</td>\n",
       "      <td>1.0</td>\n",
       "    </tr>\n",
       "    <tr>\n",
       "      <th>1</th>\n",
       "      <td>319656</td>\n",
       "      <td>0</td>\n",
       "      <td>Cash loans</td>\n",
       "      <td>F</td>\n",
       "      <td>N</td>\n",
       "      <td>N</td>\n",
       "      <td>0</td>\n",
       "      <td>108000.0</td>\n",
       "      <td>675000.0</td>\n",
       "      <td>19737.0</td>\n",
       "      <td>...</td>\n",
       "      <td>0</td>\n",
       "      <td>0</td>\n",
       "      <td>0</td>\n",
       "      <td>0</td>\n",
       "      <td>0.0</td>\n",
       "      <td>0.0</td>\n",
       "      <td>0.0</td>\n",
       "      <td>0.0</td>\n",
       "      <td>0.0</td>\n",
       "      <td>0.0</td>\n",
       "    </tr>\n",
       "    <tr>\n",
       "      <th>2</th>\n",
       "      <td>207678</td>\n",
       "      <td>0</td>\n",
       "      <td>Revolving loans</td>\n",
       "      <td>F</td>\n",
       "      <td>Y</td>\n",
       "      <td>Y</td>\n",
       "      <td>2</td>\n",
       "      <td>112500.0</td>\n",
       "      <td>270000.0</td>\n",
       "      <td>13500.0</td>\n",
       "      <td>...</td>\n",
       "      <td>0</td>\n",
       "      <td>0</td>\n",
       "      <td>0</td>\n",
       "      <td>0</td>\n",
       "      <td>0.0</td>\n",
       "      <td>0.0</td>\n",
       "      <td>0.0</td>\n",
       "      <td>0.0</td>\n",
       "      <td>0.0</td>\n",
       "      <td>1.0</td>\n",
       "    </tr>\n",
       "    <tr>\n",
       "      <th>3</th>\n",
       "      <td>381593</td>\n",
       "      <td>0</td>\n",
       "      <td>Cash loans</td>\n",
       "      <td>F</td>\n",
       "      <td>N</td>\n",
       "      <td>N</td>\n",
       "      <td>1</td>\n",
       "      <td>67500.0</td>\n",
       "      <td>142200.0</td>\n",
       "      <td>9630.0</td>\n",
       "      <td>...</td>\n",
       "      <td>0</td>\n",
       "      <td>0</td>\n",
       "      <td>0</td>\n",
       "      <td>0</td>\n",
       "      <td>0.0</td>\n",
       "      <td>0.0</td>\n",
       "      <td>0.0</td>\n",
       "      <td>0.0</td>\n",
       "      <td>0.0</td>\n",
       "      <td>4.0</td>\n",
       "    </tr>\n",
       "    <tr>\n",
       "      <th>4</th>\n",
       "      <td>258153</td>\n",
       "      <td>0</td>\n",
       "      <td>Cash loans</td>\n",
       "      <td>F</td>\n",
       "      <td>Y</td>\n",
       "      <td>Y</td>\n",
       "      <td>0</td>\n",
       "      <td>337500.0</td>\n",
       "      <td>1483231.5</td>\n",
       "      <td>46570.5</td>\n",
       "      <td>...</td>\n",
       "      <td>0</td>\n",
       "      <td>0</td>\n",
       "      <td>0</td>\n",
       "      <td>0</td>\n",
       "      <td>0.0</td>\n",
       "      <td>0.0</td>\n",
       "      <td>0.0</td>\n",
       "      <td>2.0</td>\n",
       "      <td>0.0</td>\n",
       "      <td>0.0</td>\n",
       "    </tr>\n",
       "  </tbody>\n",
       "</table>\n",
       "<p>5 rows × 122 columns</p>\n",
       "</div>"
      ],
      "text/plain": [
       "   SK_ID_CURR  TARGET NAME_CONTRACT_TYPE CODE_GENDER FLAG_OWN_CAR  \\\n",
       "0      313802       0         Cash loans           M            N   \n",
       "1      319656       0         Cash loans           F            N   \n",
       "2      207678       0    Revolving loans           F            Y   \n",
       "3      381593       0         Cash loans           F            N   \n",
       "4      258153       0         Cash loans           F            Y   \n",
       "\n",
       "  FLAG_OWN_REALTY  CNT_CHILDREN  AMT_INCOME_TOTAL  AMT_CREDIT  AMT_ANNUITY  \\\n",
       "0               Y             0          270000.0    327024.0      15372.0   \n",
       "1               N             0          108000.0    675000.0      19737.0   \n",
       "2               Y             2          112500.0    270000.0      13500.0   \n",
       "3               N             1           67500.0    142200.0       9630.0   \n",
       "4               Y             0          337500.0   1483231.5      46570.5   \n",
       "\n",
       "   ...  FLAG_DOCUMENT_18 FLAG_DOCUMENT_19 FLAG_DOCUMENT_20 FLAG_DOCUMENT_21  \\\n",
       "0  ...                 0                0                0                0   \n",
       "1  ...                 0                0                0                0   \n",
       "2  ...                 0                0                0                0   \n",
       "3  ...                 0                0                0                0   \n",
       "4  ...                 0                0                0                0   \n",
       "\n",
       "  AMT_REQ_CREDIT_BUREAU_HOUR AMT_REQ_CREDIT_BUREAU_DAY  \\\n",
       "0                        0.0                       0.0   \n",
       "1                        0.0                       0.0   \n",
       "2                        0.0                       0.0   \n",
       "3                        0.0                       0.0   \n",
       "4                        0.0                       0.0   \n",
       "\n",
       "   AMT_REQ_CREDIT_BUREAU_WEEK  AMT_REQ_CREDIT_BUREAU_MON  \\\n",
       "0                         0.0                        0.0   \n",
       "1                         0.0                        0.0   \n",
       "2                         0.0                        0.0   \n",
       "3                         0.0                        0.0   \n",
       "4                         0.0                        2.0   \n",
       "\n",
       "   AMT_REQ_CREDIT_BUREAU_QRT  AMT_REQ_CREDIT_BUREAU_YEAR  \n",
       "0                        0.0                         1.0  \n",
       "1                        0.0                         0.0  \n",
       "2                        0.0                         1.0  \n",
       "3                        0.0                         4.0  \n",
       "4                        0.0                         0.0  \n",
       "\n",
       "[5 rows x 122 columns]"
      ]
     },
     "execution_count": 5,
     "metadata": {},
     "output_type": "execute_result"
    }
   ],
   "source": [
    "%%time\n",
    "\n",
    "data = pd.read_csv('./example_data/test_data_files/sampled_app_train.csv')\n",
    "data.head()"
   ]
  },
  {
   "cell_type": "markdown",
   "metadata": {},
   "source": [
    "# Step 0.6. (Optional) Some user feature preparation "
   ]
  },
  {
   "cell_type": "markdown",
   "metadata": {},
   "source": [
    "Cell below shows some user feature preparations to create task more difficult (this block can be omitted if you don't want to change the initial data):"
   ]
  },
  {
   "cell_type": "code",
   "execution_count": 6,
   "metadata": {},
   "outputs": [
    {
     "name": "stderr",
     "output_type": "stream",
     "text": [
      "[2020-10-17 19:27:03,353] (INFO): Note: detected 96 virtual cores but NumExpr set to maximum of 64, check \"NUMEXPR_MAX_THREADS\" environment variable.\n",
      "[2020-10-17 19:27:03,354] (INFO): Note: NumExpr detected 96 cores but \"NUMEXPR_MAX_THREADS\" not set, so enforcing safe limit of 8.\n",
      "[2020-10-17 19:27:03,354] (INFO): NumExpr defaulting to 8 threads.\n"
     ]
    },
    {
     "name": "stdout",
     "output_type": "stream",
     "text": [
      "CPU times: user 108 ms, sys: 5.33 ms, total: 113 ms\n",
      "Wall time: 111 ms\n"
     ]
    }
   ],
   "source": [
    "%%time\n",
    "\n",
    "data['BIRTH_DATE'] = (np.datetime64('2018-01-01') + data['DAYS_BIRTH'].astype(np.dtype('timedelta64[D]'))).astype(str)\n",
    "data['EMP_DATE'] = (np.datetime64('2018-01-01') + np.clip(data['DAYS_EMPLOYED'], None, 0).astype(np.dtype('timedelta64[D]'))\n",
    "                    ).astype(str)\n",
    "\n",
    "data['constant'] = 1\n",
    "data['allnan'] = np.nan\n",
    "\n",
    "data.drop(['DAYS_BIRTH', 'DAYS_EMPLOYED'], axis=1, inplace=True)"
   ]
  },
  {
   "cell_type": "markdown",
   "metadata": {},
   "source": [
    "# Step 0.7. (Optional) Data splitting for train-test "
   ]
  },
  {
   "cell_type": "markdown",
   "metadata": {},
   "source": [
    "Block below can be omitted if you are going to train model only or you have specific train and test files:"
   ]
  },
  {
   "cell_type": "code",
   "execution_count": 7,
   "metadata": {},
   "outputs": [
    {
     "name": "stderr",
     "output_type": "stream",
     "text": [
      "[2020-10-17 19:27:03,428] (INFO): Data splitted. Parts sizes: train_data = (8000, 124), test_data = (2000, 124)\n"
     ]
    },
    {
     "name": "stdout",
     "output_type": "stream",
     "text": [
      "CPU times: user 13.9 ms, sys: 0 ns, total: 13.9 ms\n",
      "Wall time: 12.8 ms\n"
     ]
    }
   ],
   "source": [
    "%%time\n",
    "\n",
    "train_data, test_data = train_test_split(data, \n",
    "                                         test_size=TEST_SIZE, \n",
    "                                         stratify=data[TARGET_NAME], \n",
    "                                         random_state=RANDOM_STATE)\n",
    "train_data.reset_index(drop=True, inplace=True)\n",
    "test_data.reset_index(drop=True, inplace=True)\n",
    "logging.info('Data splitted. Parts sizes: train_data = {}, test_data = {}'\n",
    "              .format(train_data.shape, test_data.shape))"
   ]
  },
  {
   "cell_type": "code",
   "execution_count": 8,
   "metadata": {},
   "outputs": [
    {
     "data": {
      "text/html": [
       "<div>\n",
       "<style scoped>\n",
       "    .dataframe tbody tr th:only-of-type {\n",
       "        vertical-align: middle;\n",
       "    }\n",
       "\n",
       "    .dataframe tbody tr th {\n",
       "        vertical-align: top;\n",
       "    }\n",
       "\n",
       "    .dataframe thead th {\n",
       "        text-align: right;\n",
       "    }\n",
       "</style>\n",
       "<table border=\"1\" class=\"dataframe\">\n",
       "  <thead>\n",
       "    <tr style=\"text-align: right;\">\n",
       "      <th></th>\n",
       "      <th>SK_ID_CURR</th>\n",
       "      <th>TARGET</th>\n",
       "      <th>NAME_CONTRACT_TYPE</th>\n",
       "      <th>CODE_GENDER</th>\n",
       "      <th>FLAG_OWN_CAR</th>\n",
       "      <th>FLAG_OWN_REALTY</th>\n",
       "      <th>CNT_CHILDREN</th>\n",
       "      <th>AMT_INCOME_TOTAL</th>\n",
       "      <th>AMT_CREDIT</th>\n",
       "      <th>AMT_ANNUITY</th>\n",
       "      <th>...</th>\n",
       "      <th>AMT_REQ_CREDIT_BUREAU_HOUR</th>\n",
       "      <th>AMT_REQ_CREDIT_BUREAU_DAY</th>\n",
       "      <th>AMT_REQ_CREDIT_BUREAU_WEEK</th>\n",
       "      <th>AMT_REQ_CREDIT_BUREAU_MON</th>\n",
       "      <th>AMT_REQ_CREDIT_BUREAU_QRT</th>\n",
       "      <th>AMT_REQ_CREDIT_BUREAU_YEAR</th>\n",
       "      <th>BIRTH_DATE</th>\n",
       "      <th>EMP_DATE</th>\n",
       "      <th>constant</th>\n",
       "      <th>allnan</th>\n",
       "    </tr>\n",
       "  </thead>\n",
       "  <tbody>\n",
       "    <tr>\n",
       "      <th>0</th>\n",
       "      <td>112261</td>\n",
       "      <td>0</td>\n",
       "      <td>Cash loans</td>\n",
       "      <td>F</td>\n",
       "      <td>N</td>\n",
       "      <td>N</td>\n",
       "      <td>1</td>\n",
       "      <td>90000.0</td>\n",
       "      <td>640080.0</td>\n",
       "      <td>31261.5</td>\n",
       "      <td>...</td>\n",
       "      <td>0.0</td>\n",
       "      <td>0.0</td>\n",
       "      <td>0.0</td>\n",
       "      <td>0.0</td>\n",
       "      <td>1.0</td>\n",
       "      <td>0.0</td>\n",
       "      <td>1985-06-28</td>\n",
       "      <td>2012-06-21</td>\n",
       "      <td>1</td>\n",
       "      <td>NaN</td>\n",
       "    </tr>\n",
       "    <tr>\n",
       "      <th>1</th>\n",
       "      <td>115058</td>\n",
       "      <td>0</td>\n",
       "      <td>Cash loans</td>\n",
       "      <td>F</td>\n",
       "      <td>N</td>\n",
       "      <td>Y</td>\n",
       "      <td>0</td>\n",
       "      <td>180000.0</td>\n",
       "      <td>239850.0</td>\n",
       "      <td>23850.0</td>\n",
       "      <td>...</td>\n",
       "      <td>0.0</td>\n",
       "      <td>0.0</td>\n",
       "      <td>0.0</td>\n",
       "      <td>0.0</td>\n",
       "      <td>0.0</td>\n",
       "      <td>3.0</td>\n",
       "      <td>1953-12-27</td>\n",
       "      <td>2018-01-01</td>\n",
       "      <td>1</td>\n",
       "      <td>NaN</td>\n",
       "    </tr>\n",
       "    <tr>\n",
       "      <th>2</th>\n",
       "      <td>326623</td>\n",
       "      <td>0</td>\n",
       "      <td>Cash loans</td>\n",
       "      <td>F</td>\n",
       "      <td>N</td>\n",
       "      <td>Y</td>\n",
       "      <td>0</td>\n",
       "      <td>112500.0</td>\n",
       "      <td>337500.0</td>\n",
       "      <td>31086.0</td>\n",
       "      <td>...</td>\n",
       "      <td>0.0</td>\n",
       "      <td>0.0</td>\n",
       "      <td>0.0</td>\n",
       "      <td>0.0</td>\n",
       "      <td>0.0</td>\n",
       "      <td>2.0</td>\n",
       "      <td>1975-06-21</td>\n",
       "      <td>2016-06-17</td>\n",
       "      <td>1</td>\n",
       "      <td>NaN</td>\n",
       "    </tr>\n",
       "    <tr>\n",
       "      <th>3</th>\n",
       "      <td>191976</td>\n",
       "      <td>0</td>\n",
       "      <td>Cash loans</td>\n",
       "      <td>M</td>\n",
       "      <td>Y</td>\n",
       "      <td>Y</td>\n",
       "      <td>1</td>\n",
       "      <td>67500.0</td>\n",
       "      <td>135000.0</td>\n",
       "      <td>9018.0</td>\n",
       "      <td>...</td>\n",
       "      <td>NaN</td>\n",
       "      <td>NaN</td>\n",
       "      <td>NaN</td>\n",
       "      <td>NaN</td>\n",
       "      <td>NaN</td>\n",
       "      <td>NaN</td>\n",
       "      <td>1988-04-27</td>\n",
       "      <td>2009-06-05</td>\n",
       "      <td>1</td>\n",
       "      <td>NaN</td>\n",
       "    </tr>\n",
       "    <tr>\n",
       "      <th>4</th>\n",
       "      <td>281519</td>\n",
       "      <td>0</td>\n",
       "      <td>Revolving loans</td>\n",
       "      <td>F</td>\n",
       "      <td>N</td>\n",
       "      <td>Y</td>\n",
       "      <td>0</td>\n",
       "      <td>67500.0</td>\n",
       "      <td>202500.0</td>\n",
       "      <td>10125.0</td>\n",
       "      <td>...</td>\n",
       "      <td>0.0</td>\n",
       "      <td>0.0</td>\n",
       "      <td>0.0</td>\n",
       "      <td>0.0</td>\n",
       "      <td>0.0</td>\n",
       "      <td>2.0</td>\n",
       "      <td>1975-06-13</td>\n",
       "      <td>1997-01-22</td>\n",
       "      <td>1</td>\n",
       "      <td>NaN</td>\n",
       "    </tr>\n",
       "  </tbody>\n",
       "</table>\n",
       "<p>5 rows × 124 columns</p>\n",
       "</div>"
      ],
      "text/plain": [
       "   SK_ID_CURR  TARGET NAME_CONTRACT_TYPE CODE_GENDER FLAG_OWN_CAR  \\\n",
       "0      112261       0         Cash loans           F            N   \n",
       "1      115058       0         Cash loans           F            N   \n",
       "2      326623       0         Cash loans           F            N   \n",
       "3      191976       0         Cash loans           M            Y   \n",
       "4      281519       0    Revolving loans           F            N   \n",
       "\n",
       "  FLAG_OWN_REALTY  CNT_CHILDREN  AMT_INCOME_TOTAL  AMT_CREDIT  AMT_ANNUITY  \\\n",
       "0               N             1           90000.0    640080.0      31261.5   \n",
       "1               Y             0          180000.0    239850.0      23850.0   \n",
       "2               Y             0          112500.0    337500.0      31086.0   \n",
       "3               Y             1           67500.0    135000.0       9018.0   \n",
       "4               Y             0           67500.0    202500.0      10125.0   \n",
       "\n",
       "   ...  AMT_REQ_CREDIT_BUREAU_HOUR AMT_REQ_CREDIT_BUREAU_DAY  \\\n",
       "0  ...                         0.0                       0.0   \n",
       "1  ...                         0.0                       0.0   \n",
       "2  ...                         0.0                       0.0   \n",
       "3  ...                         NaN                       NaN   \n",
       "4  ...                         0.0                       0.0   \n",
       "\n",
       "  AMT_REQ_CREDIT_BUREAU_WEEK AMT_REQ_CREDIT_BUREAU_MON  \\\n",
       "0                        0.0                       0.0   \n",
       "1                        0.0                       0.0   \n",
       "2                        0.0                       0.0   \n",
       "3                        NaN                       NaN   \n",
       "4                        0.0                       0.0   \n",
       "\n",
       "  AMT_REQ_CREDIT_BUREAU_QRT AMT_REQ_CREDIT_BUREAU_YEAR  BIRTH_DATE  \\\n",
       "0                       1.0                        0.0  1985-06-28   \n",
       "1                       0.0                        3.0  1953-12-27   \n",
       "2                       0.0                        2.0  1975-06-21   \n",
       "3                       NaN                        NaN  1988-04-27   \n",
       "4                       0.0                        2.0  1975-06-13   \n",
       "\n",
       "     EMP_DATE  constant  allnan  \n",
       "0  2012-06-21         1     NaN  \n",
       "1  2018-01-01         1     NaN  \n",
       "2  2016-06-17         1     NaN  \n",
       "3  2009-06-05         1     NaN  \n",
       "4  1997-01-22         1     NaN  \n",
       "\n",
       "[5 rows x 124 columns]"
      ]
     },
     "execution_count": 8,
     "metadata": {},
     "output_type": "execute_result"
    }
   ],
   "source": [
    "train_data.head()"
   ]
  },
  {
   "cell_type": "markdown",
   "metadata": {},
   "source": [
    "# ========= AutoML creation =========\n",
    "\n",
    "![AutoML pipeline for this task](imgs/tutorial_1_pipeline.png)\n",
    "\n",
    "\n",
    "## Step 1. Create Task and PandasReader"
   ]
  },
  {
   "cell_type": "code",
   "execution_count": 9,
   "metadata": {},
   "outputs": [
    {
     "name": "stdout",
     "output_type": "stream",
     "text": [
      "CPU times: user 4.31 ms, sys: 0 ns, total: 4.31 ms\n",
      "Wall time: 3.73 ms\n"
     ]
    }
   ],
   "source": [
    "%%time\n",
    "\n",
    "task = Task('binary')\n",
    "reader = PandasToPandasReader(task, cv=N_FOLDS, random_state=RANDOM_STATE)"
   ]
  },
  {
   "cell_type": "markdown",
   "metadata": {},
   "source": [
    "## Step 2. Create feature selector (if necessary) "
   ]
  },
  {
   "cell_type": "code",
   "execution_count": 10,
   "metadata": {},
   "outputs": [
    {
     "name": "stdout",
     "output_type": "stream",
     "text": [
      "CPU times: user 1.18 ms, sys: 0 ns, total: 1.18 ms\n",
      "Wall time: 1.1 ms\n"
     ]
    },
    {
     "name": "stderr",
     "output_type": "stream",
     "text": [
      "/mnt/alex/lightautoml_17-10-2020_tutorials/lightautoml/utils/timer.py:208: UserWarning:\n",
      "\n",
      "Copying TaskTimer may affect the parent PipelineTimer, so copy will create new unlimited TaskTimer\n",
      "\n"
     ]
    }
   ],
   "source": [
    "%%time\n",
    "\n",
    "model0 = BoostLGBM(\n",
    "    default_params={'learning_rate': 0.05, 'num_leaves': 64, 'seed': 42, 'num_threads': N_THREADS}\n",
    ")\n",
    "pipe0 = LGBSimpleFeatures()\n",
    "mbie = ModelBasedImportanceEstimator()\n",
    "selector = ImportanceCutoffSelector(pipe0, model0, mbie, cutoff=0)"
   ]
  },
  {
   "cell_type": "markdown",
   "metadata": {},
   "source": [
    "## Step 3.1. Create 1st level ML pipeline for AutoML "
   ]
  },
  {
   "cell_type": "markdown",
   "metadata": {},
   "source": [
    "Our first level ML pipeline:\n",
    "- Simple features for gradient boosting built on selected features (using step 2) \n",
    "- 2 different models:\n",
    "    * LightGBM with params tuning (using OptunaTuner)\n",
    "    * LightGBM with heuristic params\n"
   ]
  },
  {
   "cell_type": "code",
   "execution_count": 11,
   "metadata": {},
   "outputs": [
    {
     "name": "stdout",
     "output_type": "stream",
     "text": [
      "CPU times: user 648 µs, sys: 0 ns, total: 648 µs\n",
      "Wall time: 650 µs\n"
     ]
    }
   ],
   "source": [
    "%%time \n",
    "\n",
    "pipe = LGBSimpleFeatures()\n",
    "\n",
    "params_tuner1 = OptunaTuner(n_trials=20, timeout=30) # stop after 20 iterations or after 30 seconds \n",
    "model1 = BoostLGBM(\n",
    "    default_params={'learning_rate': 0.05, 'num_leaves': 128, 'seed': 1, 'num_threads': N_THREADS}\n",
    ")\n",
    "model2 = BoostLGBM(\n",
    "    default_params={'learning_rate': 0.025, 'num_leaves': 64, 'seed': 2, 'num_threads': N_THREADS}\n",
    ")\n",
    "\n",
    "pipeline_lvl1 = MLPipeline([\n",
    "    (model1, params_tuner1),\n",
    "    model2\n",
    "], pre_selection=selector, features_pipeline=pipe, post_selection=None)"
   ]
  },
  {
   "cell_type": "markdown",
   "metadata": {},
   "source": [
    "## Step 3.2. Create 2nd level ML pipeline for AutoML "
   ]
  },
  {
   "cell_type": "markdown",
   "metadata": {},
   "source": [
    "Our second level ML pipeline:\n",
    "- Using simple features as well, but now it will be Out-Of-Fold (OOF) predictions of algos from 1st level\n",
    "- Only one LGBM model without params tuning\n",
    "- Without feature selection on this stage because we want to use all OOFs here"
   ]
  },
  {
   "cell_type": "code",
   "execution_count": 12,
   "metadata": {},
   "outputs": [
    {
     "name": "stdout",
     "output_type": "stream",
     "text": [
      "CPU times: user 171 µs, sys: 296 µs, total: 467 µs\n",
      "Wall time: 468 µs\n"
     ]
    }
   ],
   "source": [
    "%%time\n",
    "\n",
    "pipe1 = LGBSimpleFeatures()\n",
    "\n",
    "model = BoostLGBM(\n",
    "    default_params={'learning_rate': 0.05, 'num_leaves': 64, 'max_bin': 1024, 'seed': 3, 'num_threads': N_THREADS},\n",
    "    freeze_defaults=True\n",
    ")\n",
    "\n",
    "pipeline_lvl2 = MLPipeline([model], pre_selection=None, features_pipeline=pipe1, post_selection=None)"
   ]
  },
  {
   "cell_type": "markdown",
   "metadata": {},
   "source": [
    "## Step 4. Create AutoML pipeline "
   ]
  },
  {
   "cell_type": "markdown",
   "metadata": {},
   "source": [
    "AutoML pipeline consist of:\n",
    "- Reader for data preparation\n",
    "- First level ML pipeline (as built in step 3.1)\n",
    "- Second level ML pipeline (as built in step 3.2)\n",
    "- `Skip_conn = False` equals here \"not to use initial features on the second level pipeline\""
   ]
  },
  {
   "cell_type": "code",
   "execution_count": 13,
   "metadata": {},
   "outputs": [
    {
     "name": "stdout",
     "output_type": "stream",
     "text": [
      "CPU times: user 171 µs, sys: 296 µs, total: 467 µs\n",
      "Wall time: 470 µs\n"
     ]
    }
   ],
   "source": [
    "%%time \n",
    "\n",
    "automl = AutoML(reader, [\n",
    "    [pipeline_lvl1],\n",
    "    [pipeline_lvl2],\n",
    "], skip_conn=False)"
   ]
  },
  {
   "cell_type": "markdown",
   "metadata": {},
   "source": [
    "## Step 5. Train AutoML on loaded data "
   ]
  },
  {
   "cell_type": "markdown",
   "metadata": {},
   "source": [
    "In cell below we train AutoML with target column `TARGET` to receive fitted model and OOF predictions:"
   ]
  },
  {
   "cell_type": "code",
   "execution_count": 14,
   "metadata": {},
   "outputs": [
    {
     "name": "stderr",
     "output_type": "stream",
     "text": [
      "/mnt/alex/lightautoml_17-10-2020_tutorials/lightautoml/reader/guess_roles.py:351: SettingWithCopyWarning:\n",
      "\n",
      "\n",
      "A value is trying to be set on a copy of a slice from a DataFrame.\n",
      "Try using .loc[row_indexer,col_indexer] = value instead\n",
      "\n",
      "See the caveats in the documentation: https://pandas.pydata.org/pandas-docs/stable/user_guide/indexing.html#returning-a-view-versus-a-copy\n",
      "\n"
     ]
    },
    {
     "name": "stdout",
     "output_type": "stream",
     "text": [
      "Feats was rejected during automatic roles guess: []\n",
      "Train process start. Time left 9999999996.342949 secs\n",
      "Training until validation scores don't improve for 100 rounds\n",
      "[100]\tvalid's auc: 0.716183\n",
      "Early stopping, best iteration is:\n",
      "[16]\tvalid's auc: 0.720694\n",
      "Time history [0.5748012065887451]. Time left 8999999995.444473\n"
     ]
    },
    {
     "name": "stderr",
     "output_type": "stream",
     "text": [
      "/mnt/alex/lightautoml_17-10-2020_tutorials/lightautoml/utils/timer.py:208: UserWarning:\n",
      "\n",
      "Copying TaskTimer may affect the parent PipelineTimer, so copy will create new unlimited TaskTimer\n",
      "\n",
      "\u001b[32m[I 2020-10-17 19:27:08,359]\u001b[0m A new study created in memory with name: no-name-4b02960a-af27-487d-89d3-b8a6a0e5898e\u001b[0m\n"
     ]
    },
    {
     "name": "stdout",
     "output_type": "stream",
     "text": [
      "Optuna may run 6299999996.61487 secs\n",
      "Training until validation scores don't improve for 100 rounds\n",
      "[100]\tvalid's auc: 0.718332\n",
      "[200]\tvalid's auc: 0.716862\n"
     ]
    },
    {
     "name": "stderr",
     "output_type": "stream",
     "text": [
      "\u001b[32m[I 2020-10-17 19:27:09,969]\u001b[0m Trial 0 finished with value: 0.7226454127042673 and parameters: {'feature_fraction': 0.6872700594236812, 'num_leaves': 108}. Best is trial 0 with value: 0.7226454127042673.\u001b[0m\n"
     ]
    },
    {
     "name": "stdout",
     "output_type": "stream",
     "text": [
      "Early stopping, best iteration is:\n",
      "[133]\tvalid's auc: 0.722645\n",
      "Time history [1.603386640548706]. Time left 8999999998.39481\n",
      "Training until validation scores don't improve for 100 rounds\n"
     ]
    },
    {
     "name": "stderr",
     "output_type": "stream",
     "text": [
      "/mnt/alex/lightautoml_17-10-2020_tutorials/lightautoml/utils/timer.py:208: UserWarning:\n",
      "\n",
      "Copying TaskTimer may affect the parent PipelineTimer, so copy will create new unlimited TaskTimer\n",
      "\n"
     ]
    },
    {
     "name": "stdout",
     "output_type": "stream",
     "text": [
      "[100]\tvalid's auc: 0.729792\n",
      "[200]\tvalid's auc: 0.731156\n"
     ]
    },
    {
     "name": "stderr",
     "output_type": "stream",
     "text": [
      "\u001b[32m[I 2020-10-17 19:27:11,632]\u001b[0m Trial 1 finished with value: 0.7331227181123745 and parameters: {'feature_fraction': 0.5917173949330818, 'num_leaves': 87}. Best is trial 1 with value: 0.7331227181123745.\u001b[0m\n"
     ]
    },
    {
     "name": "stdout",
     "output_type": "stream",
     "text": [
      "Early stopping, best iteration is:\n",
      "[137]\tvalid's auc: 0.733123\n",
      "Time history [1.6527469158172607]. Time left 8999999998.34526\n",
      "Training until validation scores don't improve for 100 rounds\n"
     ]
    },
    {
     "name": "stderr",
     "output_type": "stream",
     "text": [
      "/mnt/alex/lightautoml_17-10-2020_tutorials/lightautoml/utils/timer.py:208: UserWarning:\n",
      "\n",
      "Copying TaskTimer may affect the parent PipelineTimer, so copy will create new unlimited TaskTimer\n",
      "\n"
     ]
    },
    {
     "name": "stdout",
     "output_type": "stream",
     "text": [
      "[100]\tvalid's auc: 0.725099\n"
     ]
    },
    {
     "name": "stderr",
     "output_type": "stream",
     "text": [
      "\u001b[32m[I 2020-10-17 19:27:12,818]\u001b[0m Trial 2 finished with value: 0.732246045619043 and parameters: {'feature_fraction': 0.7993292420985183, 'num_leaves': 118}. Best is trial 1 with value: 0.7331227181123745.\u001b[0m\n"
     ]
    },
    {
     "name": "stdout",
     "output_type": "stream",
     "text": [
      "Early stopping, best iteration is:\n",
      "[49]\tvalid's auc: 0.732246\n",
      "Time history [1.1755106449127197]. Time left 8999999998.82258\n",
      "Training until validation scores don't improve for 100 rounds\n"
     ]
    },
    {
     "name": "stderr",
     "output_type": "stream",
     "text": [
      "/mnt/alex/lightautoml_17-10-2020_tutorials/lightautoml/utils/timer.py:208: UserWarning:\n",
      "\n",
      "Copying TaskTimer may affect the parent PipelineTimer, so copy will create new unlimited TaskTimer\n",
      "\n"
     ]
    },
    {
     "name": "stdout",
     "output_type": "stream",
     "text": [
      "[100]\tvalid's auc: 0.724741\n",
      "[200]\tvalid's auc: 0.727237\n",
      "[300]\tvalid's auc: 0.728632\n"
     ]
    },
    {
     "name": "stderr",
     "output_type": "stream",
     "text": [
      "\u001b[32m[I 2020-10-17 19:27:15,220]\u001b[0m Trial 3 finished with value: 0.7324919415622945 and parameters: {'feature_fraction': 0.7229163764267956, 'num_leaves': 230}. Best is trial 1 with value: 0.7331227181123745.\u001b[0m\n"
     ]
    },
    {
     "name": "stdout",
     "output_type": "stream",
     "text": [
      "Early stopping, best iteration is:\n",
      "[262]\tvalid's auc: 0.732492\n",
      "Time history [2.39115309715271]. Time left 8999999997.607006\n",
      "Training until validation scores don't improve for 100 rounds\n"
     ]
    },
    {
     "name": "stderr",
     "output_type": "stream",
     "text": [
      "/mnt/alex/lightautoml_17-10-2020_tutorials/lightautoml/utils/timer.py:208: UserWarning:\n",
      "\n",
      "Copying TaskTimer may affect the parent PipelineTimer, so copy will create new unlimited TaskTimer\n",
      "\n"
     ]
    },
    {
     "name": "stdout",
     "output_type": "stream",
     "text": [
      "[100]\tvalid's auc: 0.724842\n"
     ]
    },
    {
     "name": "stderr",
     "output_type": "stream",
     "text": [
      "\u001b[32m[I 2020-10-17 19:27:16,312]\u001b[0m Trial 4 finished with value: 0.7303750982247382 and parameters: {'feature_fraction': 0.5290418060840998, 'num_leaves': 103}. Best is trial 1 with value: 0.7331227181123745.\u001b[0m\n"
     ]
    },
    {
     "name": "stdout",
     "output_type": "stream",
     "text": [
      "Early stopping, best iteration is:\n",
      "[51]\tvalid's auc: 0.730375\n",
      "Time history [1.0813498497009277]. Time left 8999999998.91668\n",
      "Training until validation scores don't improve for 100 rounds\n"
     ]
    },
    {
     "name": "stderr",
     "output_type": "stream",
     "text": [
      "/mnt/alex/lightautoml_17-10-2020_tutorials/lightautoml/utils/timer.py:208: UserWarning:\n",
      "\n",
      "Copying TaskTimer may affect the parent PipelineTimer, so copy will create new unlimited TaskTimer\n",
      "\n"
     ]
    },
    {
     "name": "stdout",
     "output_type": "stream",
     "text": [
      "[100]\tvalid's auc: 0.72937\n",
      "[200]\tvalid's auc: 0.731059\n"
     ]
    },
    {
     "name": "stderr",
     "output_type": "stream",
     "text": [
      "\u001b[32m[I 2020-10-17 19:27:18,055]\u001b[0m Trial 5 finished with value: 0.7331441003683093 and parameters: {'feature_fraction': 0.6668543055695109, 'num_leaves': 119}. Best is trial 5 with value: 0.7331441003683093.\u001b[0m\n"
     ]
    },
    {
     "name": "stdout",
     "output_type": "stream",
     "text": [
      "Early stopping, best iteration is:\n",
      "[146]\tvalid's auc: 0.733144\n",
      "Time history [1.7328863143920898]. Time left 8999999998.265182\n",
      "Training until validation scores don't improve for 100 rounds\n"
     ]
    },
    {
     "name": "stderr",
     "output_type": "stream",
     "text": [
      "/mnt/alex/lightautoml_17-10-2020_tutorials/lightautoml/utils/timer.py:208: UserWarning:\n",
      "\n",
      "Copying TaskTimer may affect the parent PipelineTimer, so copy will create new unlimited TaskTimer\n",
      "\n"
     ]
    },
    {
     "name": "stdout",
     "output_type": "stream",
     "text": [
      "[100]\tvalid's auc: 0.730803\n",
      "[200]\tvalid's auc: 0.732123\n",
      "Early stopping, best iteration is:\n",
      "[130]\tvalid's auc: 0.738019\n"
     ]
    },
    {
     "name": "stderr",
     "output_type": "stream",
     "text": [
      "\u001b[32m[I 2020-10-17 19:27:19,757]\u001b[0m Trial 6 finished with value: 0.7380192547214695 and parameters: {'feature_fraction': 0.8540362888980227, 'num_leaves': 165}. Best is trial 6 with value: 0.7380192547214695.\u001b[0m\n"
     ]
    },
    {
     "name": "stdout",
     "output_type": "stream",
     "text": [
      "Time history [1.6908142566680908]. Time left 8999999998.307238\n",
      "Training until validation scores don't improve for 100 rounds\n"
     ]
    },
    {
     "name": "stderr",
     "output_type": "stream",
     "text": [
      "/mnt/alex/lightautoml_17-10-2020_tutorials/lightautoml/utils/timer.py:208: UserWarning:\n",
      "\n",
      "Copying TaskTimer may affect the parent PipelineTimer, so copy will create new unlimited TaskTimer\n",
      "\n"
     ]
    },
    {
     "name": "stdout",
     "output_type": "stream",
     "text": [
      "[100]\tvalid's auc: 0.724842\n"
     ]
    },
    {
     "name": "stderr",
     "output_type": "stream",
     "text": [
      "\u001b[32m[I 2020-10-17 19:27:20,852]\u001b[0m Trial 7 finished with value: 0.7303750982247382 and parameters: {'feature_fraction': 0.5282057895135501, 'num_leaves': 103}. Best is trial 6 with value: 0.7380192547214695.\u001b[0m\n"
     ]
    },
    {
     "name": "stdout",
     "output_type": "stream",
     "text": [
      "Early stopping, best iteration is:\n",
      "[51]\tvalid's auc: 0.730375\n",
      "Time history [1.0859391689300537]. Time left 8999999998.912317\n",
      "Training until validation scores don't improve for 100 rounds\n"
     ]
    },
    {
     "name": "stderr",
     "output_type": "stream",
     "text": [
      "/mnt/alex/lightautoml_17-10-2020_tutorials/lightautoml/utils/timer.py:208: UserWarning:\n",
      "\n",
      "Copying TaskTimer may affect the parent PipelineTimer, so copy will create new unlimited TaskTimer\n",
      "\n"
     ]
    },
    {
     "name": "stdout",
     "output_type": "stream",
     "text": [
      "[100]\tvalid's auc: 0.737993\n"
     ]
    },
    {
     "name": "stderr",
     "output_type": "stream",
     "text": [
      "\u001b[32m[I 2020-10-17 19:27:21,706]\u001b[0m Trial 8 finished with value: 0.7463850623560038 and parameters: {'feature_fraction': 0.9162213204002109, 'num_leaves': 53}. Best is trial 8 with value: 0.7463850623560038.\u001b[0m\n"
     ]
    },
    {
     "name": "stdout",
     "output_type": "stream",
     "text": [
      "Early stopping, best iteration is:\n",
      "[44]\tvalid's auc: 0.746385\n",
      "Time history [0.844886064529419]. Time left 8999999999.15337\n",
      "Training until validation scores don't improve for 100 rounds\n"
     ]
    },
    {
     "name": "stderr",
     "output_type": "stream",
     "text": [
      "/mnt/alex/lightautoml_17-10-2020_tutorials/lightautoml/utils/timer.py:208: UserWarning:\n",
      "\n",
      "Copying TaskTimer may affect the parent PipelineTimer, so copy will create new unlimited TaskTimer\n",
      "\n"
     ]
    },
    {
     "name": "stdout",
     "output_type": "stream",
     "text": [
      "[100]\tvalid's auc: 0.72271\n"
     ]
    },
    {
     "name": "stderr",
     "output_type": "stream",
     "text": [
      "\u001b[32m[I 2020-10-17 19:27:23,161]\u001b[0m Trial 9 finished with value: 0.7257458398148297 and parameters: {'feature_fraction': 0.5003893829205072, 'num_leaves': 203}. Best is trial 8 with value: 0.7463850623560038.\u001b[0m\n"
     ]
    },
    {
     "name": "stdout",
     "output_type": "stream",
     "text": [
      "[200]\tvalid's auc: 0.716696\n",
      "Early stopping, best iteration is:\n",
      "[115]\tvalid's auc: 0.725746\n",
      "Time history [1.446056842803955]. Time left 8999999998.552149\n",
      "Training until validation scores don't improve for 100 rounds\n"
     ]
    },
    {
     "name": "stderr",
     "output_type": "stream",
     "text": [
      "/mnt/alex/lightautoml_17-10-2020_tutorials/lightautoml/utils/timer.py:208: UserWarning:\n",
      "\n",
      "Copying TaskTimer may affect the parent PipelineTimer, so copy will create new unlimited TaskTimer\n",
      "\n"
     ]
    },
    {
     "name": "stdout",
     "output_type": "stream",
     "text": [
      "[100]\tvalid's auc: 0.754371\n"
     ]
    },
    {
     "name": "stderr",
     "output_type": "stream",
     "text": [
      "\u001b[32m[I 2020-10-17 19:27:23,761]\u001b[0m Trial 10 finished with value: 0.7550288393176923 and parameters: {'feature_fraction': 0.9889980370406001, 'num_leaves': 16}. Best is trial 10 with value: 0.7550288393176923.\u001b[0m\n"
     ]
    },
    {
     "name": "stdout",
     "output_type": "stream",
     "text": [
      "[200]\tvalid's auc: 0.743461\n",
      "Early stopping, best iteration is:\n",
      "[125]\tvalid's auc: 0.755029\n",
      "Time history [0.5859663486480713]. Time left 8999999999.407024\n",
      "Training until validation scores don't improve for 100 rounds\n"
     ]
    },
    {
     "name": "stderr",
     "output_type": "stream",
     "text": [
      "/mnt/alex/lightautoml_17-10-2020_tutorials/lightautoml/utils/timer.py:208: UserWarning:\n",
      "\n",
      "Copying TaskTimer may affect the parent PipelineTimer, so copy will create new unlimited TaskTimer\n",
      "\n"
     ]
    },
    {
     "name": "stdout",
     "output_type": "stream",
     "text": [
      "[100]\tvalid's auc: 0.754371\n"
     ]
    },
    {
     "name": "stderr",
     "output_type": "stream",
     "text": [
      "\u001b[32m[I 2020-10-17 19:27:24,358]\u001b[0m Trial 11 finished with value: 0.7550288393176923 and parameters: {'feature_fraction': 0.9936916651465633, 'num_leaves': 16}. Best is trial 10 with value: 0.7550288393176923.\u001b[0m\n"
     ]
    },
    {
     "name": "stdout",
     "output_type": "stream",
     "text": [
      "[200]\tvalid's auc: 0.743461\n",
      "Early stopping, best iteration is:\n",
      "[125]\tvalid's auc: 0.755029\n",
      "Time history [0.5828959941864014]. Time left 8999999999.410696\n",
      "Training until validation scores don't improve for 100 rounds\n"
     ]
    },
    {
     "name": "stderr",
     "output_type": "stream",
     "text": [
      "/mnt/alex/lightautoml_17-10-2020_tutorials/lightautoml/utils/timer.py:208: UserWarning:\n",
      "\n",
      "Copying TaskTimer may affect the parent PipelineTimer, so copy will create new unlimited TaskTimer\n",
      "\n",
      "\u001b[32m[I 2020-10-17 19:27:24,758]\u001b[0m Trial 12 finished with value: 0.7536523565918822 and parameters: {'feature_fraction': 0.9687670811213088, 'num_leaves': 18}. Best is trial 10 with value: 0.7550288393176923.\u001b[0m\n"
     ]
    },
    {
     "name": "stdout",
     "output_type": "stream",
     "text": [
      "[100]\tvalid's auc: 0.74692\n",
      "Early stopping, best iteration is:\n",
      "[36]\tvalid's auc: 0.753652\n",
      "Time history [0.38729405403137207]. Time left 8999999999.606272\n",
      "Training until validation scores don't improve for 100 rounds\n"
     ]
    },
    {
     "name": "stderr",
     "output_type": "stream",
     "text": [
      "/mnt/alex/lightautoml_17-10-2020_tutorials/lightautoml/utils/timer.py:208: UserWarning:\n",
      "\n",
      "Copying TaskTimer may affect the parent PipelineTimer, so copy will create new unlimited TaskTimer\n",
      "\n"
     ]
    },
    {
     "name": "stdout",
     "output_type": "stream",
     "text": [
      "[100]\tvalid's auc: 0.752233\n"
     ]
    },
    {
     "name": "stderr",
     "output_type": "stream",
     "text": [
      "\u001b[32m[I 2020-10-17 19:27:25,306]\u001b[0m Trial 13 finished with value: 0.7537298672696464 and parameters: {'feature_fraction': 0.9971650985967954, 'num_leaves': 16}. Best is trial 10 with value: 0.7550288393176923.\u001b[0m\n"
     ]
    },
    {
     "name": "stdout",
     "output_type": "stream",
     "text": [
      "[200]\tvalid's auc: 0.741232\n",
      "Early stopping, best iteration is:\n",
      "[102]\tvalid's auc: 0.75373\n",
      "Time history [0.5337867736816406]. Time left 8999999999.459757\n",
      "Training until validation scores don't improve for 100 rounds\n"
     ]
    },
    {
     "name": "stderr",
     "output_type": "stream",
     "text": [
      "/mnt/alex/lightautoml_17-10-2020_tutorials/lightautoml/utils/timer.py:208: UserWarning:\n",
      "\n",
      "Copying TaskTimer may affect the parent PipelineTimer, so copy will create new unlimited TaskTimer\n",
      "\n",
      "\u001b[32m[I 2020-10-17 19:27:26,076]\u001b[0m Trial 14 finished with value: 0.7445408427816177 and parameters: {'feature_fraction': 0.9153368210114127, 'num_leaves': 50}. Best is trial 10 with value: 0.7550288393176923.\u001b[0m\n"
     ]
    },
    {
     "name": "stdout",
     "output_type": "stream",
     "text": [
      "[100]\tvalid's auc: 0.740473\n",
      "Early stopping, best iteration is:\n",
      "[32]\tvalid's auc: 0.744541\n",
      "Time history [0.7559072971343994]. Time left 8999999999.237331\n"
     ]
    },
    {
     "name": "stderr",
     "output_type": "stream",
     "text": [
      "/mnt/alex/lightautoml_17-10-2020_tutorials/lightautoml/utils/timer.py:208: UserWarning:\n",
      "\n",
      "Copying TaskTimer may affect the parent PipelineTimer, so copy will create new unlimited TaskTimer\n",
      "\n"
     ]
    },
    {
     "name": "stdout",
     "output_type": "stream",
     "text": [
      "Training until validation scores don't improve for 100 rounds\n"
     ]
    },
    {
     "name": "stderr",
     "output_type": "stream",
     "text": [
      "\u001b[32m[I 2020-10-17 19:27:26,848]\u001b[0m Trial 15 finished with value: 0.7425309107237359 and parameters: {'feature_fraction': 0.997800619645706, 'num_leaves': 48}. Best is trial 10 with value: 0.7550288393176923.\u001b[0m\n"
     ]
    },
    {
     "name": "stdout",
     "output_type": "stream",
     "text": [
      "[100]\tvalid's auc: 0.735582\n",
      "Early stopping, best iteration is:\n",
      "[30]\tvalid's auc: 0.742531\n",
      "Time history [0.7556545734405518]. Time left 8999999999.23631\n"
     ]
    },
    {
     "name": "stderr",
     "output_type": "stream",
     "text": [
      "/mnt/alex/lightautoml_17-10-2020_tutorials/lightautoml/utils/timer.py:208: UserWarning:\n",
      "\n",
      "Copying TaskTimer may affect the parent PipelineTimer, so copy will create new unlimited TaskTimer\n",
      "\n"
     ]
    },
    {
     "name": "stdout",
     "output_type": "stream",
     "text": [
      "Training until validation scores don't improve for 100 rounds\n",
      "[100]\tvalid's auc: 0.755654\n"
     ]
    },
    {
     "name": "stderr",
     "output_type": "stream",
     "text": [
      "\u001b[32m[I 2020-10-17 19:27:27,346]\u001b[0m Trial 16 finished with value: 0.761539736249873 and parameters: {'feature_fraction': 0.9216897149325091, 'num_leaves': 16}. Best is trial 16 with value: 0.761539736249873.\u001b[0m\n"
     ]
    },
    {
     "name": "stdout",
     "output_type": "stream",
     "text": [
      "Early stopping, best iteration is:\n",
      "[88]\tvalid's auc: 0.76154\n",
      "Time history [0.4819636344909668]. Time left 8999999999.510593\n",
      "Training until validation scores don't improve for 100 rounds\n"
     ]
    },
    {
     "name": "stderr",
     "output_type": "stream",
     "text": [
      "/mnt/alex/lightautoml_17-10-2020_tutorials/lightautoml/utils/timer.py:208: UserWarning:\n",
      "\n",
      "Copying TaskTimer may affect the parent PipelineTimer, so copy will create new unlimited TaskTimer\n",
      "\n"
     ]
    },
    {
     "name": "stdout",
     "output_type": "stream",
     "text": [
      "[100]\tvalid's auc: 0.738821\n"
     ]
    },
    {
     "name": "stderr",
     "output_type": "stream",
     "text": [
      "\u001b[32m[I 2020-10-17 19:27:28,855]\u001b[0m Trial 17 finished with value: 0.7432311796056043 and parameters: {'feature_fraction': 0.9000391526693481, 'num_leaves': 73}. Best is trial 16 with value: 0.761539736249873.\u001b[0m\n"
     ]
    },
    {
     "name": "stdout",
     "output_type": "stream",
     "text": [
      "[200]\tvalid's auc: 0.73648\n",
      "Early stopping, best iteration is:\n",
      "[116]\tvalid's auc: 0.743231\n",
      "Time history [1.4956648349761963]. Time left 8999999998.497387\n",
      "Training until validation scores don't improve for 100 rounds\n"
     ]
    },
    {
     "name": "stderr",
     "output_type": "stream",
     "text": [
      "/mnt/alex/lightautoml_17-10-2020_tutorials/lightautoml/utils/timer.py:208: UserWarning:\n",
      "\n",
      "Copying TaskTimer may affect the parent PipelineTimer, so copy will create new unlimited TaskTimer\n",
      "\n"
     ]
    },
    {
     "name": "stdout",
     "output_type": "stream",
     "text": [
      "[100]\tvalid's auc: 0.725099\n"
     ]
    },
    {
     "name": "stderr",
     "output_type": "stream",
     "text": [
      "\u001b[32m[I 2020-10-17 19:27:30,028]\u001b[0m Trial 18 finished with value: 0.732246045619043 and parameters: {'feature_fraction': 0.7972778723084907, 'num_leaves': 160}. Best is trial 16 with value: 0.761539736249873.\u001b[0m\n"
     ]
    },
    {
     "name": "stdout",
     "output_type": "stream",
     "text": [
      "Early stopping, best iteration is:\n",
      "[49]\tvalid's auc: 0.732246\n",
      "Time history [1.1582400798797607]. Time left 8999999998.834608\n",
      "Training until validation scores don't improve for 100 rounds\n"
     ]
    },
    {
     "name": "stderr",
     "output_type": "stream",
     "text": [
      "/mnt/alex/lightautoml_17-10-2020_tutorials/lightautoml/utils/timer.py:208: UserWarning:\n",
      "\n",
      "Copying TaskTimer may affect the parent PipelineTimer, so copy will create new unlimited TaskTimer\n",
      "\n"
     ]
    },
    {
     "name": "stdout",
     "output_type": "stream",
     "text": [
      "[100]\tvalid's auc: 0.746925\n",
      "Early stopping, best iteration is:\n",
      "[49]\tvalid's auc: 0.751896\n"
     ]
    },
    {
     "name": "stderr",
     "output_type": "stream",
     "text": [
      "\u001b[32m[I 2020-10-17 19:27:30,672]\u001b[0m Trial 19 finished with value: 0.7518963388232275 and parameters: {'feature_fraction': 0.853875799774876, 'num_leaves': 33}. Best is trial 16 with value: 0.761539736249873.\u001b[0m\n"
     ]
    },
    {
     "name": "stdout",
     "output_type": "stream",
     "text": [
      "Time history [0.6294820308685303]. Time left 8999999999.363365\n",
      "Training until validation scores don't improve for 100 rounds\n",
      "[100]\tvalid's auc: 0.755654\n",
      "Early stopping, best iteration is:\n",
      "[88]\tvalid's auc: 0.76154\n",
      "Training until validation scores don't improve for 100 rounds\n",
      "[100]\tvalid's auc: 0.726377\n",
      "Early stopping, best iteration is:\n",
      "[91]\tvalid's auc: 0.728547\n",
      "Training until validation scores don't improve for 100 rounds\n",
      "[100]\tvalid's auc: 0.72082\n",
      "Early stopping, best iteration is:\n",
      "[27]\tvalid's auc: 0.728147\n",
      "Training until validation scores don't improve for 100 rounds\n",
      "[100]\tvalid's auc: 0.719461\n",
      "[200]\tvalid's auc: 0.721563\n",
      "[300]\tvalid's auc: 0.721441\n",
      "Early stopping, best iteration is:\n",
      "[246]\tvalid's auc: 0.726695\n",
      "Training until validation scores don't improve for 100 rounds\n",
      "[100]\tvalid's auc: 0.751751\n",
      "Early stopping, best iteration is:\n",
      "[88]\tvalid's auc: 0.756146\n",
      "Time history [0.48363518714904785, 0.49312496185302734, 0.3303530216217041, 0.877387523651123, 0.48085737228393555]. Time left 8999999970.16146\n",
      "Training until validation scores don't improve for 100 rounds\n",
      "[100]\tvalid's auc: 0.727146\n",
      "Early stopping, best iteration is:\n",
      "[14]\tvalid's auc: 0.738645\n",
      "Training until validation scores don't improve for 100 rounds\n",
      "[100]\tvalid's auc: 0.719843\n",
      "[200]\tvalid's auc: 0.723134\n",
      "Early stopping, best iteration is:\n",
      "[149]\tvalid's auc: 0.726573\n",
      "Training until validation scores don't improve for 100 rounds\n",
      "[100]\tvalid's auc: 0.720024\n",
      "Early stopping, best iteration is:\n",
      "[86]\tvalid's auc: 0.722354\n",
      "Training until validation scores don't improve for 100 rounds\n",
      "[100]\tvalid's auc: 0.721669\n",
      "Early stopping, best iteration is:\n",
      "[85]\tvalid's auc: 0.725193\n",
      "Training until validation scores don't improve for 100 rounds\n",
      "[100]\tvalid's auc: 0.740314\n",
      "Early stopping, best iteration is:\n",
      "[87]\tvalid's auc: 0.742872\n",
      "Time history [0.6743271350860596, 1.4745676517486572, 1.1046338081359863, 1.1041312217712402, 1.098879098892212]. Time left 8999999964.686132\n",
      "Time left 9999999964.74234\n",
      "Train process start. Time left 9999999964.741144 secs\n",
      "Training until validation scores don't improve for 100 rounds\n",
      "[100]\tvalid's auc: 0.704201\n",
      "Early stopping, best iteration is:\n",
      "[24]\tvalid's auc: 0.718476\n",
      "Training until validation scores don't improve for 100 rounds\n",
      "[100]\tvalid's auc: 0.697125\n",
      "Early stopping, best iteration is:\n",
      "[37]\tvalid's auc: 0.709491\n",
      "Training until validation scores don't improve for 100 rounds\n",
      "[100]\tvalid's auc: 0.692197\n",
      "Early stopping, best iteration is:\n",
      "[7]\tvalid's auc: 0.705359\n",
      "Training until validation scores don't improve for 100 rounds\n",
      "[100]\tvalid's auc: 0.719501\n",
      "Early stopping, best iteration is:\n",
      "[29]\tvalid's auc: 0.723158\n",
      "Training until validation scores don't improve for 100 rounds\n"
     ]
    },
    {
     "name": "stderr",
     "output_type": "stream",
     "text": [
      "[2020-10-17 19:27:40,755] (INFO): oof_pred:\n",
      "array([[0.07475057],\n",
      "       [0.0326896 ],\n",
      "       [0.0394009 ],\n",
      "       ...,\n",
      "       [0.02765582],\n",
      "       [0.10423973],\n",
      "       [0.17042336]], dtype=float32)\n",
      "Shape = (8000, 1)\n"
     ]
    },
    {
     "name": "stdout",
     "output_type": "stream",
     "text": [
      "[100]\tvalid's auc: 0.683018\n",
      "Early stopping, best iteration is:\n",
      "[13]\tvalid's auc: 0.725899\n",
      "Time history [0.3892176151275635, 0.42418336868286133, 0.32747340202331543, 0.4074714183807373, 0.3507721424102783]. Time left 8999999962.785194\n",
      "Time left 9999999962.822792\n",
      "CPU times: user 4min 20s, sys: 2.18 s, total: 4min 23s\n",
      "Wall time: 37.2 s\n"
     ]
    }
   ],
   "source": [
    "%%time \n",
    "\n",
    "oof_pred = automl.fit_predict(train_data, roles={'target': TARGET_NAME})\n",
    "logging.info('oof_pred:\\n{}\\nShape = {}'.format(oof_pred, oof_pred.shape))"
   ]
  },
  {
   "cell_type": "markdown",
   "metadata": {},
   "source": [
    "## Step 6. Analyze fitted model  "
   ]
  },
  {
   "cell_type": "markdown",
   "metadata": {},
   "source": [
    "Below we analyze feature importances of different algos:"
   ]
  },
  {
   "cell_type": "code",
   "execution_count": 15,
   "metadata": {},
   "outputs": [
    {
     "name": "stderr",
     "output_type": "stream",
     "text": [
      "[2020-10-17 19:27:40,764] (INFO): Feature importances of selector:\n",
      "EXT_SOURCE_3              1029.681686\n",
      "EXT_SOURCE_2               894.265428\n",
      "BIRTH_DATE                 537.081401\n",
      "EXT_SOURCE_1               424.764621\n",
      "DAYS_LAST_PHONE_CHANGE     262.583100\n",
      "                             ...     \n",
      "FLAG_DOCUMENT_16             0.000000\n",
      "FLAG_DOCUMENT_14             0.000000\n",
      "FLAG_DOCUMENT_13             0.000000\n",
      "FLAG_DOCUMENT_11             0.000000\n",
      "FLAG_PHONE                   0.000000\n",
      "Length: 110, dtype: float64\n",
      "[2020-10-17 19:27:40,765] (INFO): ======================================================================\n",
      "[2020-10-17 19:27:40,767] (INFO): Feature importances of top level algorithm:\n",
      "Lvl_0_Pipe_0_Mod_0_LightGBM_prediction_0    2861.708537\n",
      "Lvl_0_Pipe_0_Mod_1_LightGBM_prediction_0    2043.129412\n",
      "dtype: float64\n",
      "[2020-10-17 19:27:40,768] (INFO): ======================================================================\n",
      "[2020-10-17 19:27:40,771] (INFO): Feature importances of lowest level algorithm - model 0:\n",
      "EXT_SOURCE_2                  1516.181118\n",
      "EXT_SOURCE_3                  1409.738812\n",
      "dtdiff__BIRTH_DATE             765.700954\n",
      "EXT_SOURCE_1                   596.701360\n",
      "DAYS_REGISTRATION              477.849832\n",
      "                                 ...     \n",
      "ord__FLAG_OWN_CAR                5.866736\n",
      "ord__EMERGENCYSTATE_MODE         5.557360\n",
      "ord__NAME_CONTRACT_TYPE          2.508428\n",
      "FLAG_DOCUMENT_6                  0.705082\n",
      "REG_REGION_NOT_WORK_REGION       0.000000\n",
      "Length: 85, dtype: float64\n",
      "[2020-10-17 19:27:40,771] (INFO): ======================================================================\n",
      "[2020-10-17 19:27:40,774] (INFO): Feature importances of lowest level algorithm - model 1:\n",
      "EXT_SOURCE_3                   2666.270588\n",
      "EXT_SOURCE_2                   2425.430385\n",
      "dtdiff__BIRTH_DATE             1607.440484\n",
      "DAYS_REGISTRATION              1217.128893\n",
      "SK_ID_CURR                     1136.992744\n",
      "                                  ...     \n",
      "LIVE_REGION_NOT_WORK_REGION       9.561320\n",
      "ord__EMERGENCYSTATE_MODE          7.256624\n",
      "REG_REGION_NOT_WORK_REGION        5.843864\n",
      "ord__NAME_CONTRACT_TYPE           3.890026\n",
      "FLAG_DOCUMENT_6                   3.523548\n",
      "Length: 85, dtype: float64\n",
      "[2020-10-17 19:27:40,775] (INFO): ======================================================================\n"
     ]
    }
   ],
   "source": [
    "logging.info('Feature importances of selector:\\n{}'\n",
    "              .format(selector.get_features_score()))\n",
    "logging.info('=' * 70)\n",
    "\n",
    "logging.info('Feature importances of top level algorithm:\\n{}'\n",
    "              .format(automl.levels[-1][0].ml_algos[0].get_features_score()))\n",
    "logging.info('=' * 70)\n",
    "\n",
    "logging.info('Feature importances of lowest level algorithm - model 0:\\n{}'\n",
    "              .format(automl.levels[0][0].ml_algos[0].get_features_score()))\n",
    "logging.info('=' * 70)\n",
    "\n",
    "logging.info('Feature importances of lowest level algorithm - model 1:\\n{}'\n",
    "              .format(automl.levels[0][0].ml_algos[1].get_features_score()))\n",
    "logging.info('=' * 70)"
   ]
  },
  {
   "cell_type": "markdown",
   "metadata": {},
   "source": [
    "## Step 7. Predict to test data and check scores"
   ]
  },
  {
   "cell_type": "code",
   "execution_count": 16,
   "metadata": {},
   "outputs": [
    {
     "name": "stderr",
     "output_type": "stream",
     "text": [
      "[2020-10-17 19:27:40,912] (INFO): Prediction for test data:\n",
      "array([[0.04925682],\n",
      "       [0.05368711],\n",
      "       [0.0534688 ],\n",
      "       ...,\n",
      "       [0.04521164],\n",
      "       [0.04988748],\n",
      "       [0.16970594]], dtype=float32)\n",
      "Shape = (2000, 1)\n",
      "[2020-10-17 19:27:40,913] (INFO): Check scores...\n",
      "[2020-10-17 19:27:40,916] (INFO): OOF score: 0.706138322789459\n",
      "[2020-10-17 19:27:40,919] (INFO): TEST score: 0.7235682744565217\n"
     ]
    },
    {
     "name": "stdout",
     "output_type": "stream",
     "text": [
      "CPU times: user 476 ms, sys: 3.26 ms, total: 480 ms\n",
      "Wall time: 133 ms\n"
     ]
    }
   ],
   "source": [
    "%%time\n",
    "\n",
    "test_pred = automl.predict(test_data)\n",
    "logging.info('Prediction for test data:\\n{}\\nShape = {}'\n",
    "              .format(test_pred, test_pred.shape))\n",
    "\n",
    "logging.info('Check scores...')\n",
    "logging.info('OOF score: {}'.format(roc_auc_score(train_data[TARGET_NAME].values, oof_pred.data[:, 0])))\n",
    "logging.info('TEST score: {}'.format(roc_auc_score(test_data[TARGET_NAME].values, test_pred.data[:, 0])))"
   ]
  },
  {
   "cell_type": "markdown",
   "metadata": {},
   "source": [
    "## Step 8. Profiling AutoML "
   ]
  },
  {
   "cell_type": "markdown",
   "metadata": {},
   "source": [
    "To build report here, we must turn on decorators on step 0.4. Report is interactive and you can go as deep into functions call stack as you want:"
   ]
  },
  {
   "cell_type": "code",
   "execution_count": null,
   "metadata": {},
   "outputs": [],
   "source": [
    "%%time\n",
    "p.profile('my_report_profile.html')\n",
    "assert os.path.exists('my_report_profile.html'), 'Profile report failed to build'"
   ]
  },
  {
   "cell_type": "markdown",
   "metadata": {},
   "source": [
    "# Appendix. Profiling report screenshots "
   ]
  },
  {
   "cell_type": "markdown",
   "metadata": {},
   "source": [
    "After loading HTML with profiling report, you can see fully folded report (please wait for green LOAD OK text for full load finish). If you click on triangle on the left, it unfolds and look like this:  \n",
    "\n",
    "<img src=\"imgs/tutorial_1_initial_report.png\" alt=\"Initial profiling report\" style=\"width: 500px;\"/>\n",
    "\n",
    "If we go even deeper we will receive situation like this:\n",
    "\n",
    "<img src=\"imgs/tutorial_1_unfolded_report.png\" alt=\"Profiling report after several unfoldings on different levels\" style=\"width: 500px;\"/>\n"
   ]
  },
  {
   "cell_type": "code",
   "execution_count": null,
   "metadata": {},
   "outputs": [],
   "source": []
  }
 ],
 "metadata": {
  "kernelspec": {
   "display_name": "Python 3",
   "language": "python",
   "name": "python3"
  },
  "language_info": {
   "codemirror_mode": {
    "name": "ipython",
    "version": 3
   },
   "file_extension": ".py",
   "mimetype": "text/x-python",
   "name": "python",
   "nbconvert_exporter": "python",
   "pygments_lexer": "ipython3",
   "version": "3.6.9"
  }
 },
 "nbformat": 4,
 "nbformat_minor": 4
}
