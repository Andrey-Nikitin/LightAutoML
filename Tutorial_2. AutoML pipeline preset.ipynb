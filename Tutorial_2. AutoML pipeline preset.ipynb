{
 "cells": [
  {
   "cell_type": "markdown",
   "metadata": {},
   "source": [
    "# Step 0.1. Import necessary libraries "
   ]
  },
  {
   "cell_type": "code",
   "execution_count": 1,
   "metadata": {},
   "outputs": [],
   "source": [
    "# Standard python libraries\n",
    "import logging\n",
    "import os\n",
    "import time\n",
    "logging.basicConfig(format='[%(asctime)s] (%(levelname)s): %(message)s', level=logging.INFO)\n",
    "\n",
    "# Installed libraries\n",
    "import numpy as np\n",
    "import pandas as pd\n",
    "from sklearn.metrics import roc_auc_score\n",
    "from sklearn.model_selection import train_test_split\n",
    "import torch\n",
    "\n",
    "# Imports from our package\n",
    "from lightautoml.automl.presets.tabular_presets import TabularAutoML, TabularUtilizedAutoML\n",
    "from lightautoml.dataset.roles import DatetimeRole\n",
    "from lightautoml.tasks import Task\n",
    "from lightautoml.utils.profiler import Profiler"
   ]
  },
  {
   "cell_type": "markdown",
   "metadata": {},
   "source": [
    "# Step 0.2. Parameters "
   ]
  },
  {
   "cell_type": "code",
   "execution_count": 2,
   "metadata": {},
   "outputs": [],
   "source": [
    "N_THREADS = 8 # threads cnt for lgbm and linear models\n",
    "N_FOLDS = 5 # folds cnt for AutoML\n",
    "RANDOM_STATE = 42 # fixed random state for various reasons\n",
    "TEST_SIZE = 0.2 # Test size for metric check\n",
    "TIMEOUT = 300 # Time in seconds for automl run\n",
    "TARGET_NAME = 'TARGET' # Target column name"
   ]
  },
  {
   "cell_type": "markdown",
   "metadata": {},
   "source": [
    "# Step 0.3. Fix torch number of threads and numpy seed "
   ]
  },
  {
   "cell_type": "code",
   "execution_count": 3,
   "metadata": {},
   "outputs": [],
   "source": [
    "np.random.seed(RANDOM_STATE)\n",
    "torch.set_num_threads(N_THREADS)"
   ]
  },
  {
   "cell_type": "markdown",
   "metadata": {},
   "source": [
    "# Step 0.4. Change profiling decorators settings "
   ]
  },
  {
   "cell_type": "markdown",
   "metadata": {},
   "source": [
    "By default, profiling decorators are turned off for speed and memory reduction. If you want to see profiling report after using LAMA, you need to turn on the decorators using command below: "
   ]
  },
  {
   "cell_type": "code",
   "execution_count": 4,
   "metadata": {},
   "outputs": [
    {
     "name": "stdout",
     "output_type": "stream",
     "text": [
      "ALL_FUNCS len = 418\n"
     ]
    }
   ],
   "source": [
    "p = Profiler()\n",
    "p.change_deco_settings({'enabled': True})"
   ]
  },
  {
   "cell_type": "markdown",
   "metadata": {},
   "source": [
    "# Step 0.5. Example data load "
   ]
  },
  {
   "cell_type": "code",
   "execution_count": 5,
   "metadata": {},
   "outputs": [
    {
     "name": "stdout",
     "output_type": "stream",
     "text": [
      "CPU times: user 80.8 ms, sys: 4.53 ms, total: 85.4 ms\n",
      "Wall time: 84.7 ms\n"
     ]
    },
    {
     "data": {
      "text/html": [
       "<div>\n",
       "<style scoped>\n",
       "    .dataframe tbody tr th:only-of-type {\n",
       "        vertical-align: middle;\n",
       "    }\n",
       "\n",
       "    .dataframe tbody tr th {\n",
       "        vertical-align: top;\n",
       "    }\n",
       "\n",
       "    .dataframe thead th {\n",
       "        text-align: right;\n",
       "    }\n",
       "</style>\n",
       "<table border=\"1\" class=\"dataframe\">\n",
       "  <thead>\n",
       "    <tr style=\"text-align: right;\">\n",
       "      <th></th>\n",
       "      <th>SK_ID_CURR</th>\n",
       "      <th>TARGET</th>\n",
       "      <th>NAME_CONTRACT_TYPE</th>\n",
       "      <th>CODE_GENDER</th>\n",
       "      <th>FLAG_OWN_CAR</th>\n",
       "      <th>FLAG_OWN_REALTY</th>\n",
       "      <th>CNT_CHILDREN</th>\n",
       "      <th>AMT_INCOME_TOTAL</th>\n",
       "      <th>AMT_CREDIT</th>\n",
       "      <th>AMT_ANNUITY</th>\n",
       "      <th>...</th>\n",
       "      <th>FLAG_DOCUMENT_18</th>\n",
       "      <th>FLAG_DOCUMENT_19</th>\n",
       "      <th>FLAG_DOCUMENT_20</th>\n",
       "      <th>FLAG_DOCUMENT_21</th>\n",
       "      <th>AMT_REQ_CREDIT_BUREAU_HOUR</th>\n",
       "      <th>AMT_REQ_CREDIT_BUREAU_DAY</th>\n",
       "      <th>AMT_REQ_CREDIT_BUREAU_WEEK</th>\n",
       "      <th>AMT_REQ_CREDIT_BUREAU_MON</th>\n",
       "      <th>AMT_REQ_CREDIT_BUREAU_QRT</th>\n",
       "      <th>AMT_REQ_CREDIT_BUREAU_YEAR</th>\n",
       "    </tr>\n",
       "  </thead>\n",
       "  <tbody>\n",
       "    <tr>\n",
       "      <th>0</th>\n",
       "      <td>313802</td>\n",
       "      <td>0</td>\n",
       "      <td>Cash loans</td>\n",
       "      <td>M</td>\n",
       "      <td>N</td>\n",
       "      <td>Y</td>\n",
       "      <td>0</td>\n",
       "      <td>270000.0</td>\n",
       "      <td>327024.0</td>\n",
       "      <td>15372.0</td>\n",
       "      <td>...</td>\n",
       "      <td>0</td>\n",
       "      <td>0</td>\n",
       "      <td>0</td>\n",
       "      <td>0</td>\n",
       "      <td>0.0</td>\n",
       "      <td>0.0</td>\n",
       "      <td>0.0</td>\n",
       "      <td>0.0</td>\n",
       "      <td>0.0</td>\n",
       "      <td>1.0</td>\n",
       "    </tr>\n",
       "    <tr>\n",
       "      <th>1</th>\n",
       "      <td>319656</td>\n",
       "      <td>0</td>\n",
       "      <td>Cash loans</td>\n",
       "      <td>F</td>\n",
       "      <td>N</td>\n",
       "      <td>N</td>\n",
       "      <td>0</td>\n",
       "      <td>108000.0</td>\n",
       "      <td>675000.0</td>\n",
       "      <td>19737.0</td>\n",
       "      <td>...</td>\n",
       "      <td>0</td>\n",
       "      <td>0</td>\n",
       "      <td>0</td>\n",
       "      <td>0</td>\n",
       "      <td>0.0</td>\n",
       "      <td>0.0</td>\n",
       "      <td>0.0</td>\n",
       "      <td>0.0</td>\n",
       "      <td>0.0</td>\n",
       "      <td>0.0</td>\n",
       "    </tr>\n",
       "    <tr>\n",
       "      <th>2</th>\n",
       "      <td>207678</td>\n",
       "      <td>0</td>\n",
       "      <td>Revolving loans</td>\n",
       "      <td>F</td>\n",
       "      <td>Y</td>\n",
       "      <td>Y</td>\n",
       "      <td>2</td>\n",
       "      <td>112500.0</td>\n",
       "      <td>270000.0</td>\n",
       "      <td>13500.0</td>\n",
       "      <td>...</td>\n",
       "      <td>0</td>\n",
       "      <td>0</td>\n",
       "      <td>0</td>\n",
       "      <td>0</td>\n",
       "      <td>0.0</td>\n",
       "      <td>0.0</td>\n",
       "      <td>0.0</td>\n",
       "      <td>0.0</td>\n",
       "      <td>0.0</td>\n",
       "      <td>1.0</td>\n",
       "    </tr>\n",
       "    <tr>\n",
       "      <th>3</th>\n",
       "      <td>381593</td>\n",
       "      <td>0</td>\n",
       "      <td>Cash loans</td>\n",
       "      <td>F</td>\n",
       "      <td>N</td>\n",
       "      <td>N</td>\n",
       "      <td>1</td>\n",
       "      <td>67500.0</td>\n",
       "      <td>142200.0</td>\n",
       "      <td>9630.0</td>\n",
       "      <td>...</td>\n",
       "      <td>0</td>\n",
       "      <td>0</td>\n",
       "      <td>0</td>\n",
       "      <td>0</td>\n",
       "      <td>0.0</td>\n",
       "      <td>0.0</td>\n",
       "      <td>0.0</td>\n",
       "      <td>0.0</td>\n",
       "      <td>0.0</td>\n",
       "      <td>4.0</td>\n",
       "    </tr>\n",
       "    <tr>\n",
       "      <th>4</th>\n",
       "      <td>258153</td>\n",
       "      <td>0</td>\n",
       "      <td>Cash loans</td>\n",
       "      <td>F</td>\n",
       "      <td>Y</td>\n",
       "      <td>Y</td>\n",
       "      <td>0</td>\n",
       "      <td>337500.0</td>\n",
       "      <td>1483231.5</td>\n",
       "      <td>46570.5</td>\n",
       "      <td>...</td>\n",
       "      <td>0</td>\n",
       "      <td>0</td>\n",
       "      <td>0</td>\n",
       "      <td>0</td>\n",
       "      <td>0.0</td>\n",
       "      <td>0.0</td>\n",
       "      <td>0.0</td>\n",
       "      <td>2.0</td>\n",
       "      <td>0.0</td>\n",
       "      <td>0.0</td>\n",
       "    </tr>\n",
       "  </tbody>\n",
       "</table>\n",
       "<p>5 rows × 122 columns</p>\n",
       "</div>"
      ],
      "text/plain": [
       "   SK_ID_CURR  TARGET NAME_CONTRACT_TYPE CODE_GENDER FLAG_OWN_CAR  \\\n",
       "0      313802       0         Cash loans           M            N   \n",
       "1      319656       0         Cash loans           F            N   \n",
       "2      207678       0    Revolving loans           F            Y   \n",
       "3      381593       0         Cash loans           F            N   \n",
       "4      258153       0         Cash loans           F            Y   \n",
       "\n",
       "  FLAG_OWN_REALTY  CNT_CHILDREN  AMT_INCOME_TOTAL  AMT_CREDIT  AMT_ANNUITY  \\\n",
       "0               Y             0          270000.0    327024.0      15372.0   \n",
       "1               N             0          108000.0    675000.0      19737.0   \n",
       "2               Y             2          112500.0    270000.0      13500.0   \n",
       "3               N             1           67500.0    142200.0       9630.0   \n",
       "4               Y             0          337500.0   1483231.5      46570.5   \n",
       "\n",
       "   ...  FLAG_DOCUMENT_18 FLAG_DOCUMENT_19 FLAG_DOCUMENT_20 FLAG_DOCUMENT_21  \\\n",
       "0  ...                 0                0                0                0   \n",
       "1  ...                 0                0                0                0   \n",
       "2  ...                 0                0                0                0   \n",
       "3  ...                 0                0                0                0   \n",
       "4  ...                 0                0                0                0   \n",
       "\n",
       "  AMT_REQ_CREDIT_BUREAU_HOUR AMT_REQ_CREDIT_BUREAU_DAY  \\\n",
       "0                        0.0                       0.0   \n",
       "1                        0.0                       0.0   \n",
       "2                        0.0                       0.0   \n",
       "3                        0.0                       0.0   \n",
       "4                        0.0                       0.0   \n",
       "\n",
       "   AMT_REQ_CREDIT_BUREAU_WEEK  AMT_REQ_CREDIT_BUREAU_MON  \\\n",
       "0                         0.0                        0.0   \n",
       "1                         0.0                        0.0   \n",
       "2                         0.0                        0.0   \n",
       "3                         0.0                        0.0   \n",
       "4                         0.0                        2.0   \n",
       "\n",
       "   AMT_REQ_CREDIT_BUREAU_QRT  AMT_REQ_CREDIT_BUREAU_YEAR  \n",
       "0                        0.0                         1.0  \n",
       "1                        0.0                         0.0  \n",
       "2                        0.0                         1.0  \n",
       "3                        0.0                         4.0  \n",
       "4                        0.0                         0.0  \n",
       "\n",
       "[5 rows x 122 columns]"
      ]
     },
     "execution_count": 5,
     "metadata": {},
     "output_type": "execute_result"
    }
   ],
   "source": [
    "%%time\n",
    "\n",
    "data = pd.read_csv('./example_data/test_data_files/sampled_app_train.csv')\n",
    "data.head()"
   ]
  },
  {
   "cell_type": "markdown",
   "metadata": {},
   "source": [
    "# Step 0.6. (Optional) Some user feature preparation "
   ]
  },
  {
   "cell_type": "markdown",
   "metadata": {},
   "source": [
    "Cell below shows some user feature preparations to create task more difficult (this block can be omitted if you don't want to change the initial data):"
   ]
  },
  {
   "cell_type": "code",
   "execution_count": 6,
   "metadata": {},
   "outputs": [
    {
     "name": "stderr",
     "output_type": "stream",
     "text": [
      "[2020-11-11 22:33:41,141] (INFO): Note: detected 96 virtual cores but NumExpr set to maximum of 64, check \"NUMEXPR_MAX_THREADS\" environment variable.\n",
      "[2020-11-11 22:33:41,142] (INFO): Note: NumExpr detected 96 cores but \"NUMEXPR_MAX_THREADS\" not set, so enforcing safe limit of 8.\n",
      "[2020-11-11 22:33:41,142] (INFO): NumExpr defaulting to 8 threads.\n"
     ]
    },
    {
     "name": "stdout",
     "output_type": "stream",
     "text": [
      "CPU times: user 112 ms, sys: 3.61 ms, total: 116 ms\n",
      "Wall time: 114 ms\n"
     ]
    }
   ],
   "source": [
    "%%time\n",
    "\n",
    "data['BIRTH_DATE'] = (np.datetime64('2018-01-01') + data['DAYS_BIRTH'].astype(np.dtype('timedelta64[D]'))).astype(str)\n",
    "data['EMP_DATE'] = (np.datetime64('2018-01-01') + np.clip(data['DAYS_EMPLOYED'], None, 0).astype(np.dtype('timedelta64[D]'))\n",
    "                    ).astype(str)\n",
    "\n",
    "data['constant'] = 1\n",
    "data['allnan'] = np.nan\n",
    "\n",
    "data['report_dt'] = np.datetime64('2018-01-01')\n",
    "\n",
    "data.drop(['DAYS_BIRTH', 'DAYS_EMPLOYED'], axis=1, inplace=True)"
   ]
  },
  {
   "cell_type": "markdown",
   "metadata": {},
   "source": [
    "# Step 0.7. (Optional) Data splitting for train-test "
   ]
  },
  {
   "cell_type": "markdown",
   "metadata": {},
   "source": [
    "Block below can be omitted if you are going to train model only or you have specific train and test files:"
   ]
  },
  {
   "cell_type": "code",
   "execution_count": 7,
   "metadata": {},
   "outputs": [
    {
     "name": "stderr",
     "output_type": "stream",
     "text": [
      "[2020-11-11 22:33:41,220] (INFO): Data splitted. Parts sizes: train_data = (8000, 125), test_data = (2000, 125)\n"
     ]
    },
    {
     "name": "stdout",
     "output_type": "stream",
     "text": [
      "CPU times: user 15.4 ms, sys: 0 ns, total: 15.4 ms\n",
      "Wall time: 14.1 ms\n"
     ]
    }
   ],
   "source": [
    "%%time\n",
    "\n",
    "train_data, test_data = train_test_split(data, \n",
    "                                         test_size=TEST_SIZE, \n",
    "                                         stratify=data[TARGET_NAME], \n",
    "                                         random_state=RANDOM_STATE)\n",
    "logging.info('Data splitted. Parts sizes: train_data = {}, test_data = {}'\n",
    "              .format(train_data.shape, test_data.shape))"
   ]
  },
  {
   "cell_type": "code",
   "execution_count": 8,
   "metadata": {},
   "outputs": [
    {
     "data": {
      "text/html": [
       "<div>\n",
       "<style scoped>\n",
       "    .dataframe tbody tr th:only-of-type {\n",
       "        vertical-align: middle;\n",
       "    }\n",
       "\n",
       "    .dataframe tbody tr th {\n",
       "        vertical-align: top;\n",
       "    }\n",
       "\n",
       "    .dataframe thead th {\n",
       "        text-align: right;\n",
       "    }\n",
       "</style>\n",
       "<table border=\"1\" class=\"dataframe\">\n",
       "  <thead>\n",
       "    <tr style=\"text-align: right;\">\n",
       "      <th></th>\n",
       "      <th>SK_ID_CURR</th>\n",
       "      <th>TARGET</th>\n",
       "      <th>NAME_CONTRACT_TYPE</th>\n",
       "      <th>CODE_GENDER</th>\n",
       "      <th>FLAG_OWN_CAR</th>\n",
       "      <th>FLAG_OWN_REALTY</th>\n",
       "      <th>CNT_CHILDREN</th>\n",
       "      <th>AMT_INCOME_TOTAL</th>\n",
       "      <th>AMT_CREDIT</th>\n",
       "      <th>AMT_ANNUITY</th>\n",
       "      <th>...</th>\n",
       "      <th>AMT_REQ_CREDIT_BUREAU_DAY</th>\n",
       "      <th>AMT_REQ_CREDIT_BUREAU_WEEK</th>\n",
       "      <th>AMT_REQ_CREDIT_BUREAU_MON</th>\n",
       "      <th>AMT_REQ_CREDIT_BUREAU_QRT</th>\n",
       "      <th>AMT_REQ_CREDIT_BUREAU_YEAR</th>\n",
       "      <th>BIRTH_DATE</th>\n",
       "      <th>EMP_DATE</th>\n",
       "      <th>constant</th>\n",
       "      <th>allnan</th>\n",
       "      <th>report_dt</th>\n",
       "    </tr>\n",
       "  </thead>\n",
       "  <tbody>\n",
       "    <tr>\n",
       "      <th>6444</th>\n",
       "      <td>112261</td>\n",
       "      <td>0</td>\n",
       "      <td>Cash loans</td>\n",
       "      <td>F</td>\n",
       "      <td>N</td>\n",
       "      <td>N</td>\n",
       "      <td>1</td>\n",
       "      <td>90000.0</td>\n",
       "      <td>640080.0</td>\n",
       "      <td>31261.5</td>\n",
       "      <td>...</td>\n",
       "      <td>0.0</td>\n",
       "      <td>0.0</td>\n",
       "      <td>0.0</td>\n",
       "      <td>1.0</td>\n",
       "      <td>0.0</td>\n",
       "      <td>1985-06-28</td>\n",
       "      <td>2012-06-21</td>\n",
       "      <td>1</td>\n",
       "      <td>NaN</td>\n",
       "      <td>2018-01-01</td>\n",
       "    </tr>\n",
       "    <tr>\n",
       "      <th>3586</th>\n",
       "      <td>115058</td>\n",
       "      <td>0</td>\n",
       "      <td>Cash loans</td>\n",
       "      <td>F</td>\n",
       "      <td>N</td>\n",
       "      <td>Y</td>\n",
       "      <td>0</td>\n",
       "      <td>180000.0</td>\n",
       "      <td>239850.0</td>\n",
       "      <td>23850.0</td>\n",
       "      <td>...</td>\n",
       "      <td>0.0</td>\n",
       "      <td>0.0</td>\n",
       "      <td>0.0</td>\n",
       "      <td>0.0</td>\n",
       "      <td>3.0</td>\n",
       "      <td>1953-12-27</td>\n",
       "      <td>2018-01-01</td>\n",
       "      <td>1</td>\n",
       "      <td>NaN</td>\n",
       "      <td>2018-01-01</td>\n",
       "    </tr>\n",
       "    <tr>\n",
       "      <th>9349</th>\n",
       "      <td>326623</td>\n",
       "      <td>0</td>\n",
       "      <td>Cash loans</td>\n",
       "      <td>F</td>\n",
       "      <td>N</td>\n",
       "      <td>Y</td>\n",
       "      <td>0</td>\n",
       "      <td>112500.0</td>\n",
       "      <td>337500.0</td>\n",
       "      <td>31086.0</td>\n",
       "      <td>...</td>\n",
       "      <td>0.0</td>\n",
       "      <td>0.0</td>\n",
       "      <td>0.0</td>\n",
       "      <td>0.0</td>\n",
       "      <td>2.0</td>\n",
       "      <td>1975-06-21</td>\n",
       "      <td>2016-06-17</td>\n",
       "      <td>1</td>\n",
       "      <td>NaN</td>\n",
       "      <td>2018-01-01</td>\n",
       "    </tr>\n",
       "    <tr>\n",
       "      <th>7734</th>\n",
       "      <td>191976</td>\n",
       "      <td>0</td>\n",
       "      <td>Cash loans</td>\n",
       "      <td>M</td>\n",
       "      <td>Y</td>\n",
       "      <td>Y</td>\n",
       "      <td>1</td>\n",
       "      <td>67500.0</td>\n",
       "      <td>135000.0</td>\n",
       "      <td>9018.0</td>\n",
       "      <td>...</td>\n",
       "      <td>NaN</td>\n",
       "      <td>NaN</td>\n",
       "      <td>NaN</td>\n",
       "      <td>NaN</td>\n",
       "      <td>NaN</td>\n",
       "      <td>1988-04-27</td>\n",
       "      <td>2009-06-05</td>\n",
       "      <td>1</td>\n",
       "      <td>NaN</td>\n",
       "      <td>2018-01-01</td>\n",
       "    </tr>\n",
       "    <tr>\n",
       "      <th>2174</th>\n",
       "      <td>281519</td>\n",
       "      <td>0</td>\n",
       "      <td>Revolving loans</td>\n",
       "      <td>F</td>\n",
       "      <td>N</td>\n",
       "      <td>Y</td>\n",
       "      <td>0</td>\n",
       "      <td>67500.0</td>\n",
       "      <td>202500.0</td>\n",
       "      <td>10125.0</td>\n",
       "      <td>...</td>\n",
       "      <td>0.0</td>\n",
       "      <td>0.0</td>\n",
       "      <td>0.0</td>\n",
       "      <td>0.0</td>\n",
       "      <td>2.0</td>\n",
       "      <td>1975-06-13</td>\n",
       "      <td>1997-01-22</td>\n",
       "      <td>1</td>\n",
       "      <td>NaN</td>\n",
       "      <td>2018-01-01</td>\n",
       "    </tr>\n",
       "  </tbody>\n",
       "</table>\n",
       "<p>5 rows × 125 columns</p>\n",
       "</div>"
      ],
      "text/plain": [
       "      SK_ID_CURR  TARGET NAME_CONTRACT_TYPE CODE_GENDER FLAG_OWN_CAR  \\\n",
       "6444      112261       0         Cash loans           F            N   \n",
       "3586      115058       0         Cash loans           F            N   \n",
       "9349      326623       0         Cash loans           F            N   \n",
       "7734      191976       0         Cash loans           M            Y   \n",
       "2174      281519       0    Revolving loans           F            N   \n",
       "\n",
       "     FLAG_OWN_REALTY  CNT_CHILDREN  AMT_INCOME_TOTAL  AMT_CREDIT  AMT_ANNUITY  \\\n",
       "6444               N             1           90000.0    640080.0      31261.5   \n",
       "3586               Y             0          180000.0    239850.0      23850.0   \n",
       "9349               Y             0          112500.0    337500.0      31086.0   \n",
       "7734               Y             1           67500.0    135000.0       9018.0   \n",
       "2174               Y             0           67500.0    202500.0      10125.0   \n",
       "\n",
       "      ...  AMT_REQ_CREDIT_BUREAU_DAY AMT_REQ_CREDIT_BUREAU_WEEK  \\\n",
       "6444  ...                        0.0                        0.0   \n",
       "3586  ...                        0.0                        0.0   \n",
       "9349  ...                        0.0                        0.0   \n",
       "7734  ...                        NaN                        NaN   \n",
       "2174  ...                        0.0                        0.0   \n",
       "\n",
       "     AMT_REQ_CREDIT_BUREAU_MON AMT_REQ_CREDIT_BUREAU_QRT  \\\n",
       "6444                       0.0                       1.0   \n",
       "3586                       0.0                       0.0   \n",
       "9349                       0.0                       0.0   \n",
       "7734                       NaN                       NaN   \n",
       "2174                       0.0                       0.0   \n",
       "\n",
       "     AMT_REQ_CREDIT_BUREAU_YEAR  BIRTH_DATE    EMP_DATE  constant  allnan  \\\n",
       "6444                        0.0  1985-06-28  2012-06-21         1     NaN   \n",
       "3586                        3.0  1953-12-27  2018-01-01         1     NaN   \n",
       "9349                        2.0  1975-06-21  2016-06-17         1     NaN   \n",
       "7734                        NaN  1988-04-27  2009-06-05         1     NaN   \n",
       "2174                        2.0  1975-06-13  1997-01-22         1     NaN   \n",
       "\n",
       "      report_dt  \n",
       "6444 2018-01-01  \n",
       "3586 2018-01-01  \n",
       "9349 2018-01-01  \n",
       "7734 2018-01-01  \n",
       "2174 2018-01-01  \n",
       "\n",
       "[5 rows x 125 columns]"
      ]
     },
     "execution_count": 8,
     "metadata": {},
     "output_type": "execute_result"
    }
   ],
   "source": [
    "train_data.head()"
   ]
  },
  {
   "cell_type": "markdown",
   "metadata": {},
   "source": [
    "# ========= AutoML preset usage =========\n",
    "\n",
    "\n",
    "## Step 1. Create Task"
   ]
  },
  {
   "cell_type": "code",
   "execution_count": 9,
   "metadata": {},
   "outputs": [
    {
     "name": "stdout",
     "output_type": "stream",
     "text": [
      "CPU times: user 1.66 ms, sys: 2.46 ms, total: 4.13 ms\n",
      "Wall time: 3.74 ms\n"
     ]
    }
   ],
   "source": [
    "%%time\n",
    "\n",
    "task = Task('binary', )"
   ]
  },
  {
   "cell_type": "markdown",
   "metadata": {},
   "source": [
    "## Step 2. Setup columns roles"
   ]
  },
  {
   "cell_type": "markdown",
   "metadata": {},
   "source": [
    "Roles setup here set target column and base date, which is used to calculate date differences:"
   ]
  },
  {
   "cell_type": "code",
   "execution_count": 10,
   "metadata": {},
   "outputs": [
    {
     "name": "stdout",
     "output_type": "stream",
     "text": [
      "CPU times: user 3 µs, sys: 191 µs, total: 194 µs\n",
      "Wall time: 197 µs\n"
     ]
    }
   ],
   "source": [
    "%%time\n",
    "\n",
    "roles = {'target': TARGET_NAME,\n",
    "         DatetimeRole(base_date=True, seasonality=(), base_feats=False): 'report_dt',\n",
    "         }"
   ]
  },
  {
   "cell_type": "markdown",
   "metadata": {},
   "source": [
    "## Step 3. Create AutoML from preset"
   ]
  },
  {
   "cell_type": "markdown",
   "metadata": {},
   "source": [
    "To create AutoML model here we use `TabularAutoML` preset, which looks like:\n",
    "\n",
    "![TabularAutoML preset pipeline](imgs/tutorial_2_pipeline.png)\n",
    "\n",
    "All params we set above can be send inside preset to change its configuration:"
   ]
  },
  {
   "cell_type": "code",
   "execution_count": 11,
   "metadata": {
    "scrolled": false
   },
   "outputs": [
    {
     "name": "stderr",
     "output_type": "stream",
     "text": [
      "/mnt/alex/LightAutoML/lightautoml/utils/timer.py:210: UserWarning:\n",
      "\n",
      "Copying TaskTimer may affect the parent PipelineTimer, so copy will create new unlimited TaskTimer\n",
      "\n",
      "/mnt/alex/LightAutoML/lightautoml/reader/guess_roles.py:351: SettingWithCopyWarning:\n",
      "\n",
      "\n",
      "A value is trying to be set on a copy of a slice from a DataFrame.\n",
      "Try using .loc[row_indexer,col_indexer] = value instead\n",
      "\n",
      "See the caveats in the documentation: https://pandas.pydata.org/pandas-docs/stable/user_guide/indexing.html#returning-a-view-versus-a-copy\n",
      "\n"
     ]
    },
    {
     "name": "stdout",
     "output_type": "stream",
     "text": [
      "Feats was rejected during automatic roles guess: []\n",
      "Train process start. Time left 295.983624458313 secs\n",
      "C = 1e-05 score = 0.6871107761224348\n",
      "C = 5e-05 score = 0.7049836693020297\n",
      "C = 0.0001 score = 0.7203521657552481\n",
      "C = 0.0005 score = 0.7541307845684259\n",
      "C = 0.001 score = 0.7616252652736126\n",
      "C = 0.005 score = 0.7634160292081617\n",
      "C = 0.01 score = 0.7601766174340223\n",
      "C = 0.05 score = 0.7482025541104714\n",
      "C = 1e-05 score = 0.7097380264945652\n",
      "C = 5e-05 score = 0.7196469514266305\n",
      "C = 0.0001 score = 0.726806640625\n",
      "C = 0.0005 score = 0.7401706861413043\n",
      "C = 0.001 score = 0.7423785665760868\n",
      "C = 0.005 score = 0.7421981148097827\n",
      "C = 0.01 score = 0.7413011633831522\n",
      "C = 1e-05 score = 0.6369283924932064\n",
      "C = 5e-05 score = 0.6511761209239131\n",
      "C = 0.0001 score = 0.6631337041440217\n",
      "C = 0.0005 score = 0.6919688349184784\n",
      "C = 0.001 score = 0.7008268936820652\n",
      "C = 0.005 score = 0.7106243631114132\n",
      "C = 0.01 score = 0.7092550526494564\n",
      "C = 0.05 score = 0.7000944718070651\n",
      "C = 1e-05 score = 0.6700306768002717\n",
      "C = 5e-05 score = 0.6780050526494565\n",
      "C = 0.0001 score = 0.6857379415760869\n",
      "C = 0.0005 score = 0.7090692934782608\n",
      "C = 0.001 score = 0.7175027598505435\n",
      "C = 0.005 score = 0.722953464673913\n",
      "C = 0.01 score = 0.7186120074728262\n",
      "C = 0.05 score = 0.7008534307065217\n",
      "C = 1e-05 score = 0.6853345788043478\n",
      "C = 5e-05 score = 0.7022811226222826\n",
      "C = 0.0001 score = 0.7166535750679347\n",
      "C = 0.0005 score = 0.7460353685461957\n",
      "C = 0.001 score = 0.7525316321331521\n",
      "C = 0.005 score = 0.7510084069293479\n",
      "C = 0.01 score = 0.7470650050951086\n",
      "Time history [0.40071940422058105, 0.2687835693359375, 0.42328524589538574, 0.46451497077941895, 0.37375545501708984]. Time left 30.559206690704613\n",
      "Time left 292.87055945396423\n",
      "Training until validation scores don't improve for 200 rounds\n",
      "[100]\tvalid's auc: 0.740553\n",
      "[200]\tvalid's auc: 0.744952\n",
      "[300]\tvalid's auc: 0.750683\n",
      "[400]\tvalid's auc: 0.748165\n",
      "Early stopping, best iteration is:\n",
      "[288]\tvalid's auc: 0.752142\n",
      "Time history [2.13704252243042]. Time left 50.37538194656372\n",
      "Training until validation scores don't improve for 200 rounds\n",
      "[100]\tvalid's auc: 0.768874\n",
      "[200]\tvalid's auc: 0.765859\n",
      "[300]\tvalid's auc: 0.769676\n",
      "[400]\tvalid's auc: 0.767211\n",
      "Early stopping, best iteration is:\n",
      "[287]\tvalid's auc: 0.771397\n",
      "Training until validation scores don't improve for 200 rounds\n",
      "[100]\tvalid's auc: 0.728128\n",
      "[200]\tvalid's auc: 0.736716\n",
      "[300]\tvalid's auc: 0.737183\n",
      "[400]\tvalid's auc: 0.74041\n",
      "[500]\tvalid's auc: 0.741206\n",
      "[600]\tvalid's auc: 0.740786\n",
      "[700]\tvalid's auc: 0.739486\n",
      "Early stopping, best iteration is:\n",
      "[503]\tvalid's auc: 0.742065\n",
      "Training until validation scores don't improve for 200 rounds\n",
      "[100]\tvalid's auc: 0.720459\n",
      "[200]\tvalid's auc: 0.726425\n",
      "[300]\tvalid's auc: 0.730113\n",
      "[400]\tvalid's auc: 0.730458\n",
      "[500]\tvalid's auc: 0.732072\n",
      "[600]\tvalid's auc: 0.73179\n",
      "Early stopping, best iteration is:\n",
      "[470]\tvalid's auc: 0.733361\n",
      "Training until validation scores don't improve for 200 rounds\n",
      "[100]\tvalid's auc: 0.731026\n",
      "[200]\tvalid's auc: 0.733531\n",
      "[300]\tvalid's auc: 0.738881\n",
      "[400]\tvalid's auc: 0.741168\n",
      "[500]\tvalid's auc: 0.744332\n",
      "[600]\tvalid's auc: 0.746826\n",
      "[700]\tvalid's auc: 0.745521\n",
      "[800]\tvalid's auc: 0.745574\n",
      "Early stopping, best iteration is:\n",
      "[610]\tvalid's auc: 0.746948\n",
      "Training until validation scores don't improve for 200 rounds\n",
      "[100]\tvalid's auc: 0.750966\n",
      "[200]\tvalid's auc: 0.756247\n",
      "[300]\tvalid's auc: 0.758248\n",
      "[400]\tvalid's auc: 0.758863\n",
      "[500]\tvalid's auc: 0.758487\n"
     ]
    },
    {
     "name": "stderr",
     "output_type": "stream",
     "text": [
      "/mnt/alex/LightAutoML/lightautoml/utils/timer.py:210: UserWarning:\n",
      "\n",
      "Copying TaskTimer may affect the parent PipelineTimer, so copy will create new unlimited TaskTimer\n",
      "\n",
      "\u001b[32m[I 2020-11-11 22:34:06,599]\u001b[0m A new study created in memory with name: no-name-0ef90daa-9fe7-4ddb-8544-8f6d4196180c\u001b[0m\n"
     ]
    },
    {
     "name": "stdout",
     "output_type": "stream",
     "text": [
      "Early stopping, best iteration is:\n",
      "[366]\tvalid's auc: 0.759569\n",
      "Time history [2.13704252243042, 2.0840117931365967, 3.077803134918213, 2.9917008876800537, 3.772228956222534, 2.5856049060821533]. Time left 50.28570532798767\n",
      "Optuna may run 225.87924909591675 secs\n",
      "Training until validation scores don't improve for 200 rounds\n",
      "[100]\tvalid's auc: 0.76417\n",
      "[200]\tvalid's auc: 0.76039\n",
      "[300]\tvalid's auc: 0.759968\n"
     ]
    },
    {
     "name": "stderr",
     "output_type": "stream",
     "text": [
      "\u001b[32m[I 2020-11-11 22:34:09,867]\u001b[0m Trial 0 finished with value: 0.7660460466881558 and parameters: {'feature_fraction': 0.6872700594236812, 'num_leaves': 108}. Best is trial 0 with value: 0.7660460466881558.\u001b[0m\n"
     ]
    },
    {
     "name": "stdout",
     "output_type": "stream",
     "text": [
      "Early stopping, best iteration is:\n",
      "[155]\tvalid's auc: 0.766046\n",
      "Time history [3.2605254650115967]. Time left 8999999996.737516\n",
      "Training until validation scores don't improve for 200 rounds\n"
     ]
    },
    {
     "name": "stderr",
     "output_type": "stream",
     "text": [
      "/mnt/alex/LightAutoML/lightautoml/utils/timer.py:210: UserWarning:\n",
      "\n",
      "Copying TaskTimer may affect the parent PipelineTimer, so copy will create new unlimited TaskTimer\n",
      "\n"
     ]
    },
    {
     "name": "stdout",
     "output_type": "stream",
     "text": [
      "[100]\tvalid's auc: 0.760797\n",
      "[200]\tvalid's auc: 0.756488\n"
     ]
    },
    {
     "name": "stderr",
     "output_type": "stream",
     "text": [
      "\u001b[32m[I 2020-11-11 22:34:12,186]\u001b[0m Trial 1 finished with value: 0.7636191606395433 and parameters: {'feature_fraction': 0.5917173949330818, 'num_leaves': 87}. Best is trial 0 with value: 0.7660460466881558.\u001b[0m\n"
     ]
    },
    {
     "name": "stdout",
     "output_type": "stream",
     "text": [
      "[300]\tvalid's auc: 0.759589\n",
      "Early stopping, best iteration is:\n",
      "[116]\tvalid's auc: 0.763619\n",
      "Time history [2.3080246448516846]. Time left 8999999997.689964\n",
      "Training until validation scores don't improve for 200 rounds\n"
     ]
    },
    {
     "name": "stderr",
     "output_type": "stream",
     "text": [
      "/mnt/alex/LightAutoML/lightautoml/utils/timer.py:210: UserWarning:\n",
      "\n",
      "Copying TaskTimer may affect the parent PipelineTimer, so copy will create new unlimited TaskTimer\n",
      "\n"
     ]
    },
    {
     "name": "stdout",
     "output_type": "stream",
     "text": [
      "[100]\tvalid's auc: 0.747524\n",
      "[200]\tvalid's auc: 0.745257\n"
     ]
    },
    {
     "name": "stderr",
     "output_type": "stream",
     "text": [
      "\u001b[32m[I 2020-11-11 22:34:14,307]\u001b[0m Trial 2 finished with value: 0.7482880831342111 and parameters: {'feature_fraction': 0.7993292420985183, 'num_leaves': 118}. Best is trial 0 with value: 0.7660460466881558.\u001b[0m\n"
     ]
    },
    {
     "name": "stdout",
     "output_type": "stream",
     "text": [
      "Early stopping, best iteration is:\n",
      "[42]\tvalid's auc: 0.748288\n",
      "Time history [2.1121344566345215]. Time left 8999999997.886015\n",
      "Training until validation scores don't improve for 200 rounds\n"
     ]
    },
    {
     "name": "stderr",
     "output_type": "stream",
     "text": [
      "/mnt/alex/LightAutoML/lightautoml/utils/timer.py:210: UserWarning:\n",
      "\n",
      "Copying TaskTimer may affect the parent PipelineTimer, so copy will create new unlimited TaskTimer\n",
      "\n"
     ]
    },
    {
     "name": "stdout",
     "output_type": "stream",
     "text": [
      "[100]\tvalid's auc: 0.755334\n",
      "[200]\tvalid's auc: 0.750464\n"
     ]
    },
    {
     "name": "stderr",
     "output_type": "stream",
     "text": [
      "\u001b[32m[I 2020-11-11 22:34:16,525]\u001b[0m Trial 3 finished with value: 0.7598238102110964 and parameters: {'feature_fraction': 0.7229163764267956, 'num_leaves': 230}. Best is trial 0 with value: 0.7660460466881558.\u001b[0m\n"
     ]
    },
    {
     "name": "stdout",
     "output_type": "stream",
     "text": [
      "Early stopping, best iteration is:\n",
      "[39]\tvalid's auc: 0.759824\n",
      "Time history [2.209660530090332]. Time left 8999999997.788353\n",
      "Training until validation scores don't improve for 200 rounds\n"
     ]
    },
    {
     "name": "stderr",
     "output_type": "stream",
     "text": [
      "/mnt/alex/LightAutoML/lightautoml/utils/timer.py:210: UserWarning:\n",
      "\n",
      "Copying TaskTimer may affect the parent PipelineTimer, so copy will create new unlimited TaskTimer\n",
      "\n"
     ]
    },
    {
     "name": "stdout",
     "output_type": "stream",
     "text": [
      "[100]\tvalid's auc: 0.740035\n",
      "[200]\tvalid's auc: 0.742253\n",
      "[300]\tvalid's auc: 0.747395\n",
      "[400]\tvalid's auc: 0.749993\n",
      "[500]\tvalid's auc: 0.74886\n"
     ]
    },
    {
     "name": "stderr",
     "output_type": "stream",
     "text": [
      "\u001b[32m[I 2020-11-11 22:34:21,793]\u001b[0m Trial 4 finished with value: 0.7507630792586771 and parameters: {'feature_fraction': 0.5290418060840998, 'num_leaves': 103}. Best is trial 0 with value: 0.7660460466881558.\u001b[0m\n"
     ]
    },
    {
     "name": "stdout",
     "output_type": "stream",
     "text": [
      "Early stopping, best iteration is:\n",
      "[382]\tvalid's auc: 0.750763\n",
      "Time history [5.257806062698364]. Time left 8999999994.740194\n",
      "Training until validation scores don't improve for 200 rounds\n"
     ]
    },
    {
     "name": "stderr",
     "output_type": "stream",
     "text": [
      "/mnt/alex/LightAutoML/lightautoml/utils/timer.py:210: UserWarning:\n",
      "\n",
      "Copying TaskTimer may affect the parent PipelineTimer, so copy will create new unlimited TaskTimer\n",
      "\n"
     ]
    },
    {
     "name": "stdout",
     "output_type": "stream",
     "text": [
      "[100]\tvalid's auc: 0.764474\n",
      "[200]\tvalid's auc: 0.758327\n"
     ]
    },
    {
     "name": "stderr",
     "output_type": "stream",
     "text": [
      "\u001b[32m[I 2020-11-11 22:34:24,585]\u001b[0m Trial 5 finished with value: 0.766142266839863 and parameters: {'feature_fraction': 0.6668543055695109, 'num_leaves': 119}. Best is trial 5 with value: 0.766142266839863.\u001b[0m\n"
     ]
    },
    {
     "name": "stdout",
     "output_type": "stream",
     "text": [
      "[300]\tvalid's auc: 0.761673\n",
      "Early stopping, best iteration is:\n",
      "[118]\tvalid's auc: 0.766142\n",
      "Time history [2.781802177429199]. Time left 8999999997.216267\n"
     ]
    },
    {
     "name": "stderr",
     "output_type": "stream",
     "text": [
      "/mnt/alex/LightAutoML/lightautoml/utils/timer.py:210: UserWarning:\n",
      "\n",
      "Copying TaskTimer may affect the parent PipelineTimer, so copy will create new unlimited TaskTimer\n",
      "\n"
     ]
    },
    {
     "name": "stdout",
     "output_type": "stream",
     "text": [
      "Training until validation scores don't improve for 200 rounds\n",
      "[100]\tvalid's auc: 0.750036\n",
      "[200]\tvalid's auc: 0.752329\n",
      "[300]\tvalid's auc: 0.75211\n",
      "[400]\tvalid's auc: 0.753687\n",
      "[500]\tvalid's auc: 0.754927\n",
      "[600]\tvalid's auc: 0.75303\n"
     ]
    },
    {
     "name": "stderr",
     "output_type": "stream",
     "text": [
      "\u001b[32m[I 2020-11-11 22:34:31,526]\u001b[0m Trial 6 finished with value: 0.7557718727114304 and parameters: {'feature_fraction': 0.8540362888980227, 'num_leaves': 165}. Best is trial 5 with value: 0.766142266839863.\u001b[0m\n"
     ]
    },
    {
     "name": "stdout",
     "output_type": "stream",
     "text": [
      "[700]\tvalid's auc: 0.753185\n",
      "Early stopping, best iteration is:\n",
      "[509]\tvalid's auc: 0.755772\n",
      "Time history [6.930838108062744]. Time left 8999999993.067072\n"
     ]
    },
    {
     "name": "stderr",
     "output_type": "stream",
     "text": [
      "/mnt/alex/LightAutoML/lightautoml/utils/timer.py:210: UserWarning:\n",
      "\n",
      "Copying TaskTimer may affect the parent PipelineTimer, so copy will create new unlimited TaskTimer\n",
      "\n"
     ]
    },
    {
     "name": "stdout",
     "output_type": "stream",
     "text": [
      "Training until validation scores don't improve for 200 rounds\n",
      "[100]\tvalid's auc: 0.740035\n",
      "[200]\tvalid's auc: 0.742253\n",
      "[300]\tvalid's auc: 0.747395\n",
      "[400]\tvalid's auc: 0.749993\n",
      "[500]\tvalid's auc: 0.74886\n"
     ]
    },
    {
     "name": "stderr",
     "output_type": "stream",
     "text": [
      "\u001b[32m[I 2020-11-11 22:34:36,684]\u001b[0m Trial 7 finished with value: 0.7507630792586771 and parameters: {'feature_fraction': 0.5282057895135501, 'num_leaves': 103}. Best is trial 5 with value: 0.766142266839863.\u001b[0m\n"
     ]
    },
    {
     "name": "stdout",
     "output_type": "stream",
     "text": [
      "Early stopping, best iteration is:\n",
      "[382]\tvalid's auc: 0.750763\n",
      "Time history [5.148114204406738]. Time left 8999999994.84999\n",
      "Training until validation scores don't improve for 100 rounds\n",
      "[100]\tvalid's auc: 0.737469\n",
      "Early stopping, best iteration is:\n",
      "[23]\tvalid's auc: 0.741045\n",
      "Training until validation scores don't improve for 100 rounds\n",
      "[100]\tvalid's auc: 0.725087\n",
      "[200]\tvalid's auc: 0.735203\n",
      "Early stopping, best iteration is:\n",
      "[182]\tvalid's auc: 0.737161\n",
      "Training until validation scores don't improve for 100 rounds\n",
      "[100]\tvalid's auc: 0.718368\n",
      "[200]\tvalid's auc: 0.719291\n",
      "[300]\tvalid's auc: 0.719408\n",
      "Early stopping, best iteration is:\n",
      "[212]\tvalid's auc: 0.721218\n",
      "Training until validation scores don't improve for 100 rounds\n",
      "[100]\tvalid's auc: 0.734911\n",
      "[200]\tvalid's auc: 0.739258\n",
      "Early stopping, best iteration is:\n",
      "[194]\tvalid's auc: 0.739842\n",
      "Training until validation scores don't improve for 100 rounds\n",
      "[100]\tvalid's auc: 0.746269\n",
      "[200]\tvalid's auc: 0.748355\n",
      "Early stopping, best iteration is:\n",
      "[187]\tvalid's auc: 0.750393\n",
      "Time history [2.13704252243042, 2.0840117931365967, 3.077803134918213, 2.9917008876800537, 3.772228956222534, 2.5856049060821533, 1.000929832458496, 2.1132748126983643, 2.449646472930908, 2.336012363433838, 2.2582616806030273]. Time left 204.46051669120789\n",
      "Time left 234.4584014415741\n",
      "Blending: Optimization starts with equal weights and score 0.7470569313934902\n",
      "Blending, iter 0: score = 0.7512498195561389, weights = [0.2975425 0.7024575 0.       ]\n",
      "Blending, iter 1: score = 0.7513083907298949, weights = [0.34694588 0.6530542  0.        ]\n"
     ]
    },
    {
     "name": "stderr",
     "output_type": "stream",
     "text": [
      "[2020-11-11 22:34:47,094] (INFO): oof_pred:\n",
      "array([[0.02656044],\n",
      "       [0.02681707],\n",
      "       [0.03005865],\n",
      "       ...,\n",
      "       [0.02124858],\n",
      "       [0.164036  ],\n",
      "       [0.09136057]], dtype=float32)\n",
      "Shape = (8000, 1)\n"
     ]
    },
    {
     "name": "stdout",
     "output_type": "stream",
     "text": [
      "Blending, iter 2: score = 0.7513083907298949, weights = [0.34694588 0.6530542  0.        ]\n",
      "No score update. Terminated\n",
      "CPU times: user 7min 49s, sys: 3.89 s, total: 7min 53s\n",
      "Wall time: 1min 5s\n"
     ]
    }
   ],
   "source": [
    "%%time \n",
    "\n",
    "automl = TabularAutoML(task = task, \n",
    "                       timeout = TIMEOUT,\n",
    "                       general_params = {'nested_cv': False, 'use_algos': [['linear_l2', 'lgb', 'lgb_tuned']]},\n",
    "                       reader_params = {'cv': N_FOLDS, 'random_state': RANDOM_STATE},\n",
    "                       tuning_params = {'max_tuning_iter': 20, 'max_tuning_time': 30},\n",
    "                       lgb_params = {'default_params': {'n_threads': N_THREADS}})\n",
    "oof_pred = automl.fit_predict(train_data, roles = roles)\n",
    "logging.info('oof_pred:\\n{}\\nShape = {}'.format(oof_pred, oof_pred.shape))"
   ]
  },
  {
   "cell_type": "markdown",
   "metadata": {},
   "source": [
    "## Step 4. Predict to test data and check scores"
   ]
  },
  {
   "cell_type": "code",
   "execution_count": 12,
   "metadata": {},
   "outputs": [
    {
     "name": "stderr",
     "output_type": "stream",
     "text": [
      "[2020-11-11 22:34:47,535] (INFO): Prediction for test data:\n",
      "array([[0.06316119],\n",
      "       [0.07426225],\n",
      "       [0.02580068],\n",
      "       ...,\n",
      "       [0.05014627],\n",
      "       [0.04235209],\n",
      "       [0.2220479 ]], dtype=float32)\n",
      "Shape = (2000, 1)\n",
      "[2020-11-11 22:34:47,536] (INFO): Check scores...\n",
      "[2020-11-11 22:34:47,540] (INFO): OOF score: 0.7513083907298949\n",
      "[2020-11-11 22:34:47,542] (INFO): TEST score: 0.731970108695652\n"
     ]
    },
    {
     "name": "stdout",
     "output_type": "stream",
     "text": [
      "CPU times: user 1.12 s, sys: 7.59 ms, total: 1.12 s\n",
      "Wall time: 443 ms\n"
     ]
    }
   ],
   "source": [
    "%%time\n",
    "\n",
    "test_pred = automl.predict(test_data)\n",
    "logging.info('Prediction for test data:\\n{}\\nShape = {}'\n",
    "              .format(test_pred, test_pred.shape))\n",
    "\n",
    "logging.info('Check scores...')\n",
    "logging.info('OOF score: {}'.format(roc_auc_score(train_data[TARGET_NAME].values, oof_pred.data[:, 0])))\n",
    "logging.info('TEST score: {}'.format(roc_auc_score(test_data[TARGET_NAME].values, test_pred.data[:, 0])))"
   ]
  },
  {
   "cell_type": "markdown",
   "metadata": {},
   "source": [
    "## Step 5. Profiling AutoML "
   ]
  },
  {
   "cell_type": "markdown",
   "metadata": {},
   "source": [
    "To build report here, we **must** turn on decorators on step 0.4. Report is interactive and you can go as deep into functions call stack as you want:"
   ]
  },
  {
   "cell_type": "code",
   "execution_count": 13,
   "metadata": {
    "scrolled": true
   },
   "outputs": [
    {
     "name": "stdout",
     "output_type": "stream",
     "text": [
      "FULL_STATS_DF shape = (8325, 6)\n",
      "RUN_FNAME vc head:\n",
      "PandasToPandasReader._is_ok_feature [111]    1\n",
      "LAMLDataset._get_cols_idx [26]               1\n",
      "NumpyDataset._get_2d [24]                    1\n",
      "CatLinear.forward [349]                      1\n",
      "CatLogisticRegression.forward [568]          1\n",
      "Name: run_fname, dtype: int64\n",
      "CONNECTED COMPONENTS cnt = 1\n",
      "PATH LENS describe:\n",
      "count    8326.000000\n",
      "mean        9.012251\n",
      "std         2.779780\n",
      "min         0.000000\n",
      "25%         7.000000\n",
      "50%         9.000000\n",
      "75%        10.000000\n",
      "max        21.000000\n",
      "dtype: float64\n",
      "CPU times: user 1.02 s, sys: 28.2 ms, total: 1.04 s\n",
      "Wall time: 1.04 s\n"
     ]
    }
   ],
   "source": [
    "%%time\n",
    "p.profile('my_report_profile.html')\n",
    "assert os.path.exists('my_report_profile.html'), 'Profile report failed to build'"
   ]
  },
  {
   "cell_type": "markdown",
   "metadata": {},
   "source": [
    "## Step 6. Create AutoML with time utilization "
   ]
  },
  {
   "cell_type": "markdown",
   "metadata": {},
   "source": [
    "Below we are going to create specific AutoML preset for TIMEOUT utilization (try to spend it as much as possible):"
   ]
  },
  {
   "cell_type": "code",
   "execution_count": 14,
   "metadata": {
    "scrolled": true
   },
   "outputs": [
    {
     "name": "stdout",
     "output_type": "stream",
     "text": [
      "CUR SETUP FOR RANDOM STATE: {'reader_params': {'random_state': 42}}\n",
      "FOUND reader_params in kwargs, need to combine\n",
      "MERGED VARIANT FOR reader_params = {'cv': 5, 'random_state': 42}\n"
     ]
    },
    {
     "name": "stderr",
     "output_type": "stream",
     "text": [
      "/mnt/alex/LightAutoML/lightautoml/reader/guess_roles.py:351: SettingWithCopyWarning:\n",
      "\n",
      "\n",
      "A value is trying to be set on a copy of a slice from a DataFrame.\n",
      "Try using .loc[row_indexer,col_indexer] = value instead\n",
      "\n",
      "See the caveats in the documentation: https://pandas.pydata.org/pandas-docs/stable/user_guide/indexing.html#returning-a-view-versus-a-copy\n",
      "\n"
     ]
    },
    {
     "name": "stdout",
     "output_type": "stream",
     "text": [
      "Feats was rejected during automatic roles guess: []\n",
      "Train process start. Time left 298.7156345844269 secs\n",
      "C = 1e-05 score = 0.6871107761224348\n",
      "C = 5e-05 score = 0.7049836693020297\n",
      "C = 0.0001 score = 0.7231478957187378\n",
      "C = 0.0005 score = 0.7541949313362306\n",
      "C = 0.001 score = 0.7611922745909308\n",
      "C = 0.005 score = 0.763330500184422\n",
      "C = 0.01 score = 0.7603904399933715\n",
      "C = 0.05 score = 0.7483094653901461\n",
      "C = 1e-05 score = 0.7097380264945652\n",
      "C = 5e-05 score = 0.7196469514266305\n",
      "C = 0.0001 score = 0.726806640625\n",
      "C = 0.0005 score = 0.7401706861413043\n",
      "C = 0.001 score = 0.7423785665760868\n",
      "C = 0.005 score = 0.7421025815217392\n",
      "C = 0.01 score = 0.7413117781929349\n",
      "C = 1e-05 score = 0.6368514351222825\n",
      "C = 5e-05 score = 0.6511761209239131\n",
      "C = 0.0001 score = 0.6631337041440217\n",
      "C = 0.0005 score = 0.6919582201086957\n",
      "C = 0.001 score = 0.7008322010869565\n",
      "C = 0.005 score = 0.7106509001358695\n",
      "C = 0.01 score = 0.7091542119565217\n",
      "C = 0.05 score = 0.7000520125679347\n",
      "C = 1e-05 score = 0.6700306768002717\n",
      "C = 5e-05 score = 0.6780050526494564\n",
      "C = 0.0001 score = 0.6857379415760869\n",
      "C = 0.0005 score = 0.7090692934782608\n",
      "C = 0.001 score = 0.7174974524456521\n",
      "C = 0.005 score = 0.7230171535326088\n",
      "C = 0.01 score = 0.7186597741168479\n",
      "C = 0.05 score = 0.7012833305027174\n",
      "C = 1e-05 score = 0.6853345788043478\n",
      "C = 5e-05 score = 0.702286430027174\n",
      "C = 0.0001 score = 0.7166535750679348\n",
      "C = 0.0005 score = 0.7460353685461957\n",
      "C = 0.001 score = 0.7525316321331522\n",
      "C = 0.005 score = 0.7510084069293479\n",
      "C = 0.01 score = 0.7470915421195654\n",
      "Time history [0.4357609748840332, 0.29642271995544434, 0.4367942810058594, 0.4033200740814209, 0.3477458953857422]. Time left 37.91713047889952\n",
      "Time left 295.7431523799896\n",
      "Training until validation scores don't improve for 200 rounds\n",
      "[100]\tvalid's auc: 0.762005\n",
      "[200]\tvalid's auc: 0.76425\n",
      "[300]\tvalid's auc: 0.764539\n",
      "[400]\tvalid's auc: 0.763555\n",
      "Early stopping, best iteration is:\n",
      "[264]\tvalid's auc: 0.767377\n",
      "Training until validation scores don't improve for 200 rounds\n",
      "[100]\tvalid's auc: 0.724153\n",
      "[200]\tvalid's auc: 0.732109\n",
      "[300]\tvalid's auc: 0.738435\n",
      "[400]\tvalid's auc: 0.73912\n",
      "[500]\tvalid's auc: 0.74102\n",
      "Early stopping, best iteration is:\n",
      "[340]\tvalid's auc: 0.742389\n",
      "Training until validation scores don't improve for 200 rounds\n",
      "[100]\tvalid's auc: 0.721006\n",
      "[200]\tvalid's auc: 0.722205\n",
      "[300]\tvalid's auc: 0.725782\n",
      "[400]\tvalid's auc: 0.72972\n",
      "[500]\tvalid's auc: 0.726732\n",
      "[600]\tvalid's auc: 0.728792\n",
      "Early stopping, best iteration is:\n",
      "[400]\tvalid's auc: 0.72972\n",
      "Training until validation scores don't improve for 200 rounds\n",
      "[100]\tvalid's auc: 0.72306\n",
      "[200]\tvalid's auc: 0.731095\n",
      "[300]\tvalid's auc: 0.732417\n",
      "[400]\tvalid's auc: 0.735681\n",
      "[500]\tvalid's auc: 0.740213\n",
      "[600]\tvalid's auc: 0.742564\n",
      "[700]\tvalid's auc: 0.741747\n",
      "[800]\tvalid's auc: 0.743201\n",
      "[900]\tvalid's auc: 0.742575\n",
      "Early stopping, best iteration is:\n",
      "[770]\tvalid's auc: 0.743923\n",
      "Training until validation scores don't improve for 200 rounds\n",
      "[100]\tvalid's auc: 0.747845\n",
      "[200]\tvalid's auc: 0.753376\n",
      "[300]\tvalid's auc: 0.756767\n",
      "[400]\tvalid's auc: 0.756321\n",
      "[500]\tvalid's auc: 0.756311\n"
     ]
    },
    {
     "name": "stderr",
     "output_type": "stream",
     "text": [
      "/mnt/alex/LightAutoML/lightautoml/utils/timer.py:210: UserWarning:\n",
      "\n",
      "Copying TaskTimer may affect the parent PipelineTimer, so copy will create new unlimited TaskTimer\n",
      "\n",
      "\u001b[32m[I 2020-11-11 22:35:10,678]\u001b[0m A new study created in memory with name: no-name-e3cd1756-317e-4f58-b7b3-8774a86024fd\u001b[0m\n"
     ]
    },
    {
     "name": "stdout",
     "output_type": "stream",
     "text": [
      "[600]\tvalid's auc: 0.755339\n",
      "Early stopping, best iteration is:\n",
      "[431]\tvalid's auc: 0.757653\n",
      "Time history [2.1371512413024902, 3.0651638507843018, 3.2649903297424316, 5.082632064819336, 3.0418026447296143]. Time left 49.527692681550974\n",
      "Optuna may run 222.53812839984894 secs\n",
      "Training until validation scores don't improve for 200 rounds\n",
      "[100]\tvalid's auc: 0.754788\n",
      "[200]\tvalid's auc: 0.755815\n",
      "[300]\tvalid's auc: 0.758348\n",
      "[400]\tvalid's auc: 0.759685\n",
      "[500]\tvalid's auc: 0.757055\n"
     ]
    },
    {
     "name": "stderr",
     "output_type": "stream",
     "text": [
      "\u001b[32m[I 2020-11-11 22:35:16,537]\u001b[0m Trial 0 finished with value: 0.7599307214907709 and parameters: {'feature_fraction': 0.6872700594236812, 'num_leaves': 108}. Best is trial 0 with value: 0.7599307214907709.\u001b[0m\n"
     ]
    },
    {
     "name": "stdout",
     "output_type": "stream",
     "text": [
      "Early stopping, best iteration is:\n",
      "[340]\tvalid's auc: 0.759931\n",
      "Time history [5.85319972038269]. Time left 8999999994.145054\n",
      "Training until validation scores don't improve for 200 rounds\n"
     ]
    },
    {
     "name": "stderr",
     "output_type": "stream",
     "text": [
      "/mnt/alex/LightAutoML/lightautoml/utils/timer.py:210: UserWarning:\n",
      "\n",
      "Copying TaskTimer may affect the parent PipelineTimer, so copy will create new unlimited TaskTimer\n",
      "\n"
     ]
    },
    {
     "name": "stdout",
     "output_type": "stream",
     "text": [
      "[100]\tvalid's auc: 0.743327\n",
      "[200]\tvalid's auc: 0.749229\n",
      "[300]\tvalid's auc: 0.750255\n",
      "[400]\tvalid's auc: 0.750164\n",
      "[500]\tvalid's auc: 0.750523\n",
      "[600]\tvalid's auc: 0.749411\n"
     ]
    },
    {
     "name": "stderr",
     "output_type": "stream",
     "text": [
      "\u001b[32m[I 2020-11-11 22:35:22,758]\u001b[0m Trial 1 finished with value: 0.7522705283020885 and parameters: {'feature_fraction': 0.5917173949330818, 'num_leaves': 87}. Best is trial 0 with value: 0.7599307214907709.\u001b[0m\n"
     ]
    },
    {
     "name": "stdout",
     "output_type": "stream",
     "text": [
      "Early stopping, best iteration is:\n",
      "[451]\tvalid's auc: 0.752271\n",
      "Time history [6.21126389503479]. Time left 8999999993.786871\n",
      "Training until validation scores don't improve for 200 rounds\n"
     ]
    },
    {
     "name": "stderr",
     "output_type": "stream",
     "text": [
      "/mnt/alex/LightAutoML/lightautoml/utils/timer.py:210: UserWarning:\n",
      "\n",
      "Copying TaskTimer may affect the parent PipelineTimer, so copy will create new unlimited TaskTimer\n",
      "\n"
     ]
    },
    {
     "name": "stdout",
     "output_type": "stream",
     "text": [
      "[100]\tvalid's auc: 0.757921\n"
     ]
    },
    {
     "name": "stderr",
     "output_type": "stream",
     "text": [
      "\u001b[32m[I 2020-11-11 22:35:24,959]\u001b[0m Trial 2 finished with value: 0.7636672707153969 and parameters: {'feature_fraction': 0.7993292420985183, 'num_leaves': 118}. Best is trial 2 with value: 0.7636672707153969.\u001b[0m\n"
     ]
    },
    {
     "name": "stdout",
     "output_type": "stream",
     "text": [
      "[200]\tvalid's auc: 0.754435\n",
      "Early stopping, best iteration is:\n",
      "[17]\tvalid's auc: 0.763667\n",
      "Time history [2.192293643951416]. Time left 8999999997.805832\n"
     ]
    },
    {
     "name": "stderr",
     "output_type": "stream",
     "text": [
      "/mnt/alex/LightAutoML/lightautoml/utils/timer.py:210: UserWarning:\n",
      "\n",
      "Copying TaskTimer may affect the parent PipelineTimer, so copy will create new unlimited TaskTimer\n",
      "\n"
     ]
    },
    {
     "name": "stdout",
     "output_type": "stream",
     "text": [
      "Training until validation scores don't improve for 200 rounds\n",
      "[100]\tvalid's auc: 0.755927\n",
      "[200]\tvalid's auc: 0.758632\n",
      "[300]\tvalid's auc: 0.759835\n",
      "[400]\tvalid's auc: 0.7624\n",
      "[500]\tvalid's auc: 0.762892\n",
      "[600]\tvalid's auc: 0.760235\n"
     ]
    },
    {
     "name": "stderr",
     "output_type": "stream",
     "text": [
      "\u001b[32m[I 2020-11-11 22:35:31,837]\u001b[0m Trial 3 finished with value: 0.7643728851612489 and parameters: {'feature_fraction': 0.7229163764267956, 'num_leaves': 230}. Best is trial 3 with value: 0.7643728851612489.\u001b[0m\n"
     ]
    },
    {
     "name": "stdout",
     "output_type": "stream",
     "text": [
      "Early stopping, best iteration is:\n",
      "[442]\tvalid's auc: 0.764373\n",
      "Time history [6.86871862411499]. Time left 8999999993.12946\n",
      "Training until validation scores don't improve for 200 rounds\n"
     ]
    },
    {
     "name": "stderr",
     "output_type": "stream",
     "text": [
      "/mnt/alex/LightAutoML/lightautoml/utils/timer.py:210: UserWarning:\n",
      "\n",
      "Copying TaskTimer may affect the parent PipelineTimer, so copy will create new unlimited TaskTimer\n",
      "\n"
     ]
    },
    {
     "name": "stdout",
     "output_type": "stream",
     "text": [
      "[100]\tvalid's auc: 0.740184\n",
      "[200]\tvalid's auc: 0.744883\n",
      "[300]\tvalid's auc: 0.747834\n",
      "[400]\tvalid's auc: 0.746663\n",
      "[500]\tvalid's auc: 0.747117\n",
      "[600]\tvalid's auc: 0.744455\n"
     ]
    },
    {
     "name": "stderr",
     "output_type": "stream",
     "text": [
      "\u001b[32m[I 2020-11-11 22:35:37,919]\u001b[0m Trial 4 finished with value: 0.7485339790774626 and parameters: {'feature_fraction': 0.5290418060840998, 'num_leaves': 103}. Best is trial 3 with value: 0.7643728851612489.\u001b[0m\n"
     ]
    },
    {
     "name": "stdout",
     "output_type": "stream",
     "text": [
      "Early stopping, best iteration is:\n",
      "[446]\tvalid's auc: 0.748534\n",
      "Time history [6.0731964111328125]. Time left 8999999993.924953\n",
      "Training until validation scores don't improve for 200 rounds\n"
     ]
    },
    {
     "name": "stderr",
     "output_type": "stream",
     "text": [
      "/mnt/alex/LightAutoML/lightautoml/utils/timer.py:210: UserWarning:\n",
      "\n",
      "Copying TaskTimer may affect the parent PipelineTimer, so copy will create new unlimited TaskTimer\n",
      "\n"
     ]
    },
    {
     "name": "stdout",
     "output_type": "stream",
     "text": [
      "[100]\tvalid's auc: 0.749956\n",
      "[200]\tvalid's auc: 0.752949\n",
      "[300]\tvalid's auc: 0.761315\n",
      "[400]\tvalid's auc: 0.762812\n",
      "[500]\tvalid's auc: 0.760717\n",
      "[600]\tvalid's auc: 0.756836\n",
      "Early stopping, best iteration is:\n",
      "[412]\tvalid's auc: 0.763288\n"
     ]
    },
    {
     "name": "stderr",
     "output_type": "stream",
     "text": [
      "\u001b[32m[I 2020-11-11 22:35:44,289]\u001b[0m Trial 5 finished with value: 0.7632877356725521 and parameters: {'feature_fraction': 0.6668543055695109, 'num_leaves': 119}. Best is trial 3 with value: 0.7643728851612489.\u001b[0m\n"
     ]
    },
    {
     "name": "stdout",
     "output_type": "stream",
     "text": [
      "Time history [6.360728025436401]. Time left 8999999993.637419\n",
      "Training until validation scores don't improve for 100 rounds\n",
      "[100]\tvalid's auc: 0.746193\n",
      "Early stopping, best iteration is:\n",
      "[45]\tvalid's auc: 0.761711\n",
      "Training until validation scores don't improve for 100 rounds\n",
      "[100]\tvalid's auc: 0.737209\n",
      "[200]\tvalid's auc: 0.738525\n",
      "[300]\tvalid's auc: 0.735559\n",
      "Early stopping, best iteration is:\n",
      "[210]\tvalid's auc: 0.739274\n",
      "Training until validation scores don't improve for 100 rounds\n",
      "[100]\tvalid's auc: 0.721892\n",
      "[200]\tvalid's auc: 0.727433\n",
      "[300]\tvalid's auc: 0.720915\n",
      "Early stopping, best iteration is:\n",
      "[224]\tvalid's auc: 0.728075\n",
      "Training until validation scores don't improve for 100 rounds\n",
      "[100]\tvalid's auc: 0.717943\n",
      "Early stopping, best iteration is:\n",
      "[27]\tvalid's auc: 0.722401\n",
      "Training until validation scores don't improve for 100 rounds\n",
      "[100]\tvalid's auc: 0.739852\n",
      "Early stopping, best iteration is:\n",
      "[37]\tvalid's auc: 0.751635\n",
      "Time history [2.1371512413024902, 3.0651638507843018, 3.2649903297424316, 5.082632064819336, 3.0418026447296143, 1.2523260116577148, 2.6145684719085693, 2.6816866397857666, 1.173832893371582, 1.2755637168884277]. Time left 205.30548264980317\n",
      "Time left 235.30374097824097\n",
      "Blending: Optimization starts with equal weights and score 0.7486684359200533\n",
      "Blending, iter 0: score = 0.7505835325922537, weights = [0.33810827 0.5168564  0.14503531]\n",
      "Blending, iter 1: score = 0.7506092571368072, weights = [0.36689198 0.49437982 0.13872817]\n",
      "Blending, iter 2: score = 0.7506092571368072, weights = [0.36689198 0.49437982 0.13872817]\n",
      "No score update. Terminated\n",
      "CUR SETUP FOR RANDOM STATE: {'reader_params': {'random_state': 43}}\n",
      "FOUND reader_params in kwargs, need to combine\n",
      "MERGED VARIANT FOR reader_params = {'cv': 5, 'random_state': 43}\n"
     ]
    },
    {
     "name": "stderr",
     "output_type": "stream",
     "text": [
      "/mnt/alex/LightAutoML/lightautoml/utils/timer.py:210: UserWarning:\n",
      "\n",
      "Copying TaskTimer may affect the parent PipelineTimer, so copy will create new unlimited TaskTimer\n",
      "\n",
      "/mnt/alex/LightAutoML/lightautoml/reader/guess_roles.py:351: SettingWithCopyWarning:\n",
      "\n",
      "\n",
      "A value is trying to be set on a copy of a slice from a DataFrame.\n",
      "Try using .loc[row_indexer,col_indexer] = value instead\n",
      "\n",
      "See the caveats in the documentation: https://pandas.pydata.org/pandas-docs/stable/user_guide/indexing.html#returning-a-view-versus-a-copy\n",
      "\n"
     ]
    },
    {
     "name": "stdout",
     "output_type": "stream",
     "text": [
      "Feats was rejected during automatic roles guess: []\n",
      "Train process start. Time left 233.9503846168518 secs\n",
      "C = 1e-05 score = 0.6671905319370719\n",
      "C = 5e-05 score = 0.6836762512628894\n",
      "C = 0.0001 score = 0.697820613563834\n",
      "C = 0.0005 score = 0.7269646284031196\n",
      "C = 0.001 score = 0.7344751458002576\n",
      "C = 0.005 score = 0.7409700060404874\n",
      "C = 0.01 score = 0.7415580180786974\n",
      "C = 0.05 score = 0.7401414436230094\n",
      "C = 0.1 score = 0.7384362087122002\n",
      "C = 1e-05 score = 0.6909179687500001\n",
      "C = 5e-05 score = 0.6978653617527174\n",
      "C = 0.0001 score = 0.7026473335597827\n",
      "C = 0.0005 score = 0.7156557829483695\n",
      "C = 0.001 score = 0.7172267747961957\n",
      "C = 0.005 score = 0.7088888417119564\n",
      "C = 0.01 score = 0.702233355978261\n",
      "C = 1e-05 score = 0.6663526452105979\n",
      "C = 5e-05 score = 0.6762217646059783\n",
      "C = 0.0001 score = 0.6844800866168479\n",
      "C = 0.0005 score = 0.7055292544157608\n",
      "C = 0.001 score = 0.7126252547554348\n",
      "C = 0.005 score = 0.7175823709239131\n",
      "C = 0.01 score = 0.7172320822010869\n",
      "C = 0.05 score = 0.7133364470108696\n",
      "C = 1e-05 score = 0.6777131453804348\n",
      "C = 5e-05 score = 0.698051120923913\n",
      "C = 0.0001 score = 0.7149339758831522\n",
      "C = 0.0005 score = 0.7413860818614132\n",
      "C = 0.001 score = 0.7476169752038043\n",
      "C = 0.005 score = 0.7518788213315216\n",
      "C = 0.01 score = 0.7512631623641306\n",
      "C = 0.05 score = 0.7471393087635869\n",
      "C = 1e-05 score = 0.6634627632472826\n",
      "C = 5e-05 score = 0.6815132472826088\n",
      "C = 0.0001 score = 0.6981944208559783\n",
      "C = 0.0005 score = 0.7315992272418478\n",
      "C = 0.001 score = 0.740059230638587\n",
      "C = 0.005 score = 0.7455577021059784\n",
      "C = 0.01 score = 0.744644828464674\n",
      "C = 0.05 score = 0.7378513502038044\n",
      "Time history [0.45912742614746094, 0.28719282150268555, 0.3562021255493164, 0.3748359680175781, 0.3716890811920166]. Time left 23.836841750981513\n",
      "Time left 231.016432762146\n",
      "Training until validation scores don't improve for 200 rounds\n",
      "[100]\tvalid's auc: 0.717514\n",
      "[200]\tvalid's auc: 0.72124\n",
      "[300]\tvalid's auc: 0.726067\n",
      "[400]\tvalid's auc: 0.726393\n",
      "[500]\tvalid's auc: 0.726366\n",
      "Early stopping, best iteration is:\n",
      "[357]\tvalid's auc: 0.727371\n",
      "Time history [2.3198904991149902]. Time left 39.092768206596375\n",
      "Training until validation scores don't improve for 200 rounds\n",
      "[100]\tvalid's auc: 0.724057\n",
      "[200]\tvalid's auc: 0.734154\n",
      "[300]\tvalid's auc: 0.735592\n",
      "[400]\tvalid's auc: 0.735881\n",
      "[500]\tvalid's auc: 0.737303\n",
      "[600]\tvalid's auc: 0.740997\n",
      "[700]\tvalid's auc: 0.739655\n",
      "Early stopping, best iteration is:\n",
      "[585]\tvalid's auc: 0.741184\n",
      "Training until validation scores don't improve for 200 rounds\n",
      "[100]\tvalid's auc: 0.73066\n",
      "[200]\tvalid's auc: 0.742432\n",
      "[300]\tvalid's auc: 0.74689\n",
      "[400]\tvalid's auc: 0.744178\n",
      "Early stopping, best iteration is:\n",
      "[295]\tvalid's auc: 0.747341\n",
      "Training until validation scores don't improve for 200 rounds\n",
      "[100]\tvalid's auc: 0.710497\n",
      "[200]\tvalid's auc: 0.713883\n",
      "[300]\tvalid's auc: 0.720003\n",
      "[400]\tvalid's auc: 0.724132\n",
      "[500]\tvalid's auc: 0.725517\n",
      "[600]\tvalid's auc: 0.727327\n",
      "[700]\tvalid's auc: 0.727168\n",
      "[800]\tvalid's auc: 0.725745\n",
      "Early stopping, best iteration is:\n",
      "[665]\tvalid's auc: 0.727773\n",
      "Training until validation scores don't improve for 200 rounds\n",
      "[100]\tvalid's auc: 0.745287\n",
      "[200]\tvalid's auc: 0.745866\n",
      "[300]\tvalid's auc: 0.746232\n",
      "[400]\tvalid's auc: 0.745664\n",
      "Early stopping, best iteration is:\n",
      "[264]\tvalid's auc: 0.748848\n",
      "Training until validation scores don't improve for 200 rounds\n",
      "[100]\tvalid's auc: 0.741375\n",
      "[200]\tvalid's auc: 0.743483\n",
      "[300]\tvalid's auc: 0.743408\n",
      "[400]\tvalid's auc: 0.742925\n",
      "[500]\tvalid's auc: 0.741636\n"
     ]
    },
    {
     "name": "stderr",
     "output_type": "stream",
     "text": [
      "/mnt/alex/LightAutoML/lightautoml/utils/timer.py:210: UserWarning:\n",
      "\n",
      "Copying TaskTimer may affect the parent PipelineTimer, so copy will create new unlimited TaskTimer\n",
      "\n",
      "\u001b[32m[I 2020-11-11 22:36:17,169]\u001b[0m A new study created in memory with name: no-name-9cc350a4-e9c1-447e-924c-ab1f26ab23c4\u001b[0m\n"
     ]
    },
    {
     "name": "stdout",
     "output_type": "stream",
     "text": [
      "Early stopping, best iteration is:\n",
      "[364]\tvalid's auc: 0.746147\n",
      "Time history [2.3198904991149902, 3.871607780456543, 2.3687968254089355, 4.4430153369903564, 2.242335796356201, 2.824998140335083]. Time left 35.15898485779762\n",
      "Optuna may run 165.73995239734649 secs\n",
      "Training until validation scores don't improve for 200 rounds\n",
      "[100]\tvalid's auc: 0.726516\n",
      "[200]\tvalid's auc: 0.732214\n",
      "[300]\tvalid's auc: 0.73757\n",
      "[400]\tvalid's auc: 0.737586\n",
      "[500]\tvalid's auc: 0.738495\n"
     ]
    },
    {
     "name": "stderr",
     "output_type": "stream",
     "text": [
      "\u001b[32m[I 2020-11-11 22:36:22,632]\u001b[0m Trial 0 finished with value: 0.7399543488835789 and parameters: {'feature_fraction': 0.6872700594236812, 'num_leaves': 108}. Best is trial 0 with value: 0.7399543488835789.\u001b[0m\n"
     ]
    },
    {
     "name": "stdout",
     "output_type": "stream",
     "text": [
      "Early stopping, best iteration is:\n",
      "[325]\tvalid's auc: 0.739954\n",
      "Time history [5.456510305404663]. Time left 8999999994.54176\n",
      "Training until validation scores don't improve for 200 rounds\n"
     ]
    },
    {
     "name": "stderr",
     "output_type": "stream",
     "text": [
      "/mnt/alex/LightAutoML/lightautoml/utils/timer.py:210: UserWarning:\n",
      "\n",
      "Copying TaskTimer may affect the parent PipelineTimer, so copy will create new unlimited TaskTimer\n",
      "\n"
     ]
    },
    {
     "name": "stdout",
     "output_type": "stream",
     "text": [
      "[100]\tvalid's auc: 0.723661\n",
      "[200]\tvalid's auc: 0.728991\n",
      "[300]\tvalid's auc: 0.733219\n",
      "[400]\tvalid's auc: 0.737463\n",
      "[500]\tvalid's auc: 0.739142\n",
      "[600]\tvalid's auc: 0.739516\n",
      "[700]\tvalid's auc: 0.739158\n",
      "[800]\tvalid's auc: 0.739938\n",
      "[900]\tvalid's auc: 0.739259\n",
      "[1000]\tvalid's auc: 0.738335\n"
     ]
    },
    {
     "name": "stderr",
     "output_type": "stream",
     "text": [
      "\u001b[32m[I 2020-11-11 22:36:32,001]\u001b[0m Trial 1 finished with value: 0.7406920367133334 and parameters: {'feature_fraction': 0.5917173949330818, 'num_leaves': 87}. Best is trial 1 with value: 0.7406920367133334.\u001b[0m\n"
     ]
    },
    {
     "name": "stdout",
     "output_type": "stream",
     "text": [
      "Early stopping, best iteration is:\n",
      "[839]\tvalid's auc: 0.740692\n",
      "Time history [9.359676837921143]. Time left 8999999990.638464\n",
      "Training until validation scores don't improve for 200 rounds\n"
     ]
    },
    {
     "name": "stderr",
     "output_type": "stream",
     "text": [
      "/mnt/alex/LightAutoML/lightautoml/utils/timer.py:210: UserWarning:\n",
      "\n",
      "Copying TaskTimer may affect the parent PipelineTimer, so copy will create new unlimited TaskTimer\n",
      "\n"
     ]
    },
    {
     "name": "stdout",
     "output_type": "stream",
     "text": [
      "[100]\tvalid's auc: 0.732877\n",
      "[200]\tvalid's auc: 0.733791\n",
      "[300]\tvalid's auc: 0.736619\n",
      "[400]\tvalid's auc: 0.740067\n",
      "[500]\tvalid's auc: 0.738436\n",
      "[600]\tvalid's auc: 0.738613\n",
      "Early stopping, best iteration is:\n",
      "[413]\tvalid's auc: 0.740366\n"
     ]
    },
    {
     "name": "stderr",
     "output_type": "stream",
     "text": [
      "\u001b[32m[I 2020-11-11 22:36:37,893]\u001b[0m Trial 2 finished with value: 0.740365957310326 and parameters: {'feature_fraction': 0.7993292420985183, 'num_leaves': 118}. Best is trial 1 with value: 0.7406920367133334.\u001b[0m\n"
     ]
    },
    {
     "name": "stdout",
     "output_type": "stream",
     "text": [
      "Time history [5.883310317993164]. Time left 8999999994.114807\n",
      "Training until validation scores don't improve for 200 rounds\n"
     ]
    },
    {
     "name": "stderr",
     "output_type": "stream",
     "text": [
      "/mnt/alex/LightAutoML/lightautoml/utils/timer.py:210: UserWarning:\n",
      "\n",
      "Copying TaskTimer may affect the parent PipelineTimer, so copy will create new unlimited TaskTimer\n",
      "\n"
     ]
    },
    {
     "name": "stdout",
     "output_type": "stream",
     "text": [
      "[100]\tvalid's auc: 0.730968\n",
      "[200]\tvalid's auc: 0.738581\n",
      "[300]\tvalid's auc: 0.740296\n",
      "[400]\tvalid's auc: 0.741152\n",
      "[500]\tvalid's auc: 0.740435\n",
      "[600]\tvalid's auc: 0.739906\n"
     ]
    },
    {
     "name": "stderr",
     "output_type": "stream",
     "text": [
      "\u001b[32m[I 2020-11-11 22:36:44,347]\u001b[0m Trial 3 finished with value: 0.7428944090746293 and parameters: {'feature_fraction': 0.7229163764267956, 'num_leaves': 230}. Best is trial 3 with value: 0.7428944090746293.\u001b[0m\n"
     ]
    },
    {
     "name": "stdout",
     "output_type": "stream",
     "text": [
      "Early stopping, best iteration is:\n",
      "[442]\tvalid's auc: 0.742894\n",
      "Time history [6.444903373718262]. Time left 8999999993.55317\n",
      "Training until validation scores don't improve for 200 rounds\n"
     ]
    },
    {
     "name": "stderr",
     "output_type": "stream",
     "text": [
      "/mnt/alex/LightAutoML/lightautoml/utils/timer.py:210: UserWarning:\n",
      "\n",
      "Copying TaskTimer may affect the parent PipelineTimer, so copy will create new unlimited TaskTimer\n",
      "\n"
     ]
    },
    {
     "name": "stdout",
     "output_type": "stream",
     "text": [
      "[100]\tvalid's auc: 0.724035\n",
      "[200]\tvalid's auc: 0.740179\n",
      "[300]\tvalid's auc: 0.742371\n",
      "[400]\tvalid's auc: 0.743563\n",
      "[500]\tvalid's auc: 0.741777\n"
     ]
    },
    {
     "name": "stderr",
     "output_type": "stream",
     "text": [
      "\u001b[32m[I 2020-11-11 22:36:49,160]\u001b[0m Trial 4 finished with value: 0.7445996439854387 and parameters: {'feature_fraction': 0.5290418060840998, 'num_leaves': 103}. Best is trial 4 with value: 0.7445996439854387.\u001b[0m\n"
     ]
    },
    {
     "name": "stdout",
     "output_type": "stream",
     "text": [
      "Early stopping, best iteration is:\n",
      "[322]\tvalid's auc: 0.7446\n",
      "Time history [4.803943395614624]. Time left 8999999995.194206\n",
      "Training until validation scores don't improve for 100 rounds\n",
      "[100]\tvalid's auc: 0.723527\n",
      "[200]\tvalid's auc: 0.731952\n",
      "[300]\tvalid's auc: 0.730054\n",
      "Early stopping, best iteration is:\n",
      "[239]\tvalid's auc: 0.732722\n",
      "Training until validation scores don't improve for 100 rounds\n",
      "[100]\tvalid's auc: 0.711962\n",
      "[200]\tvalid's auc: 0.716659\n",
      "[300]\tvalid's auc: 0.721313\n",
      "[400]\tvalid's auc: 0.720703\n",
      "Early stopping, best iteration is:\n",
      "[332]\tvalid's auc: 0.723845\n",
      "Training until validation scores don't improve for 100 rounds\n",
      "[100]\tvalid's auc: 0.705014\n",
      "[200]\tvalid's auc: 0.708475\n",
      "Early stopping, best iteration is:\n",
      "[178]\tvalid's auc: 0.709234\n",
      "Training until validation scores don't improve for 100 rounds\n",
      "[100]\tvalid's auc: 0.748392\n",
      "Early stopping, best iteration is:\n",
      "[70]\tvalid's auc: 0.749034\n",
      "Training until validation scores don't improve for 100 rounds\n",
      "[100]\tvalid's auc: 0.718134\n",
      "[200]\tvalid's auc: 0.715491\n",
      "Early stopping, best iteration is:\n",
      "[107]\tvalid's auc: 0.720942\n",
      "Time history [2.3198904991149902, 3.871607780456543, 2.3687968254089355, 4.4430153369903564, 2.242335796356201, 2.824998140335083, 2.384730815887451, 2.969373941421509, 2.0140650272369385, 1.3624157905578613, 1.8112273216247559]. Time left 145.38647944927214\n",
      "Time left 168.89154934883118\n",
      "Blending: Optimization starts with equal weights and score 0.7442321212820858\n",
      "Blending, iter 0: score = 0.7455366320703432, weights = [0.43489802 0.46940267 0.09569934]\n",
      "Blending, iter 1: score = 0.7455274902900475, weights = [0.41795298 0.48347807 0.09856895]\n",
      "Blending, iter 2: score = 0.7455274902900475, weights = [0.41795298 0.483478   0.09856895]\n",
      "Blending, iter 3: score = 0.7455274902900475, weights = [0.41795298 0.483478   0.09856895]\n",
      "No score update. Terminated\n",
      "CUR SETUP FOR RANDOM STATE: {'reader_params': {'random_state': 44}}\n",
      "FOUND reader_params in kwargs, need to combine\n",
      "MERGED VARIANT FOR reader_params = {'cv': 5, 'random_state': 44}\n"
     ]
    },
    {
     "name": "stderr",
     "output_type": "stream",
     "text": [
      "/mnt/alex/LightAutoML/lightautoml/utils/timer.py:210: UserWarning:\n",
      "\n",
      "Copying TaskTimer may affect the parent PipelineTimer, so copy will create new unlimited TaskTimer\n",
      "\n"
     ]
    },
    {
     "name": "stdout",
     "output_type": "stream",
     "text": [
      "Train process start. Time left 168.346182346344 secs\n",
      "C = 1e-05 score = 0.6836121044950847\n",
      "C = 5e-05 score = 0.6982108397346461\n",
      "C = 0.0001 score = 0.7110508844235611\n",
      "C = 0.0005 score = 0.7335717454870077\n",
      "C = 0.001 score = 0.7364690411661883\n",
      "C = 0.005 score = 0.7343896167765179\n",
      "C = 0.01 score = 0.7319199662160356\n",
      "C = 1e-05 score = 0.6664136803668479\n",
      "C = 5e-05 score = 0.6735521399456522\n",
      "C = 0.0001 score = 0.6803084663722826\n",
      "C = 0.0005 score = 0.6996486497961956\n",
      "C = 0.001 score = 0.7061396059782609\n",
      "C = 0.005 score = 0.7119034476902174\n",
      "C = 0.01 score = 0.7093558933423912\n",
      "C = 0.05 score = 0.6994045091711957\n",
      "C = 1e-05 score = 0.6814177139945652\n",
      "C = 5e-05 score = 0.6925473420516304\n",
      "C = 0.0001 score = 0.7027853260869565\n",
      "C = 0.0005 score = 0.7245350713315217\n",
      "C = 0.001 score = 0.7302033797554348\n",
      "C = 0.005 score = 0.7308243461277174\n",
      "C = 0.01 score = 0.7284253991168478\n",
      "C = 0.05 score = 0.7216372282608695\n",
      "C = 1e-05 score = 0.6823040506114131\n",
      "C = 5e-05 score = 0.6971170176630435\n",
      "C = 0.0001 score = 0.7087826936141305\n",
      "C = 0.0005 score = 0.7354099439538043\n",
      "C = 0.001 score = 0.7434612771739131\n",
      "C = 0.005 score = 0.750785495923913\n",
      "C = 0.01 score = 0.7504139775815217\n",
      "C = 0.05 score = 0.7470278532608695\n",
      "C = 1e-05 score = 0.6738918138586956\n",
      "C = 5e-05 score = 0.6886198624320652\n",
      "C = 0.0001 score = 0.7016176970108695\n",
      "C = 0.0005 score = 0.737023395040761\n",
      "C = 0.001 score = 0.7472401494565217\n",
      "C = 0.005 score = 0.7531313688858695\n",
      "C = 0.01 score = 0.7524414062499999\n",
      "C = 0.05 score = 0.7433126698369565\n",
      "Time history [0.34078001976013184, 0.38691282272338867, 0.5544452667236328, 0.4130427837371826, 0.39012670516967773]. Time left 16.324430832946508\n",
      "Time left 164.88013529777527\n",
      "Training until validation scores don't improve for 200 rounds\n",
      "[100]\tvalid's auc: 0.720625\n",
      "[200]\tvalid's auc: 0.720186\n",
      "[300]\tvalid's auc: 0.71985\n",
      "[400]\tvalid's auc: 0.720935\n",
      "[500]\tvalid's auc: 0.721934\n",
      "[600]\tvalid's auc: 0.72032\n",
      "[700]\tvalid's auc: 0.717931\n",
      "Early stopping, best iteration is:\n",
      "[506]\tvalid's auc: 0.722539\n",
      "Time history [3.136124849319458]. Time left 26.395741147994997\n",
      "Training until validation scores don't improve for 200 rounds\n",
      "[100]\tvalid's auc: 0.721913\n",
      "[200]\tvalid's auc: 0.731305\n",
      "[300]\tvalid's auc: 0.729301\n",
      "[400]\tvalid's auc: 0.729204\n",
      "Early stopping, best iteration is:\n",
      "[203]\tvalid's auc: 0.731834\n",
      "Training until validation scores don't improve for 200 rounds\n",
      "[100]\tvalid's auc: 0.733229\n",
      "[200]\tvalid's auc: 0.734656\n",
      "Early stopping, best iteration is:\n",
      "[55]\tvalid's auc: 0.739046\n",
      "Training until validation scores don't improve for 200 rounds\n",
      "[100]\tvalid's auc: 0.746327\n",
      "[200]\tvalid's auc: 0.750265\n",
      "[300]\tvalid's auc: 0.754065\n",
      "[400]\tvalid's auc: 0.757568\n",
      "[500]\tvalid's auc: 0.759575\n",
      "[600]\tvalid's auc: 0.760631\n",
      "[700]\tvalid's auc: 0.762186\n",
      "[800]\tvalid's auc: 0.762032\n",
      "[900]\tvalid's auc: 0.762701\n",
      "Early stopping, best iteration is:\n",
      "[747]\tvalid's auc: 0.762966\n",
      "Training until validation scores don't improve for 200 rounds\n",
      "[100]\tvalid's auc: 0.742081\n",
      "[200]\tvalid's auc: 0.74923\n",
      "[300]\tvalid's auc: 0.749618\n",
      "Early stopping, best iteration is:\n",
      "[175]\tvalid's auc: 0.751125\n",
      "Training until validation scores don't improve for 200 rounds\n",
      "[100]\tvalid's auc: 0.748466\n",
      "[200]\tvalid's auc: 0.757234\n",
      "[300]\tvalid's auc: 0.762239\n",
      "[400]\tvalid's auc: 0.761666\n"
     ]
    },
    {
     "name": "stderr",
     "output_type": "stream",
     "text": [
      "/mnt/alex/LightAutoML/lightautoml/utils/timer.py:210: UserWarning:\n",
      "\n",
      "Copying TaskTimer may affect the parent PipelineTimer, so copy will create new unlimited TaskTimer\n",
      "\n",
      "\u001b[32m[I 2020-11-11 22:37:20,359]\u001b[0m A new study created in memory with name: no-name-3295e54f-5913-42fa-a5e3-b7b823d4ce6b\u001b[0m\n"
     ]
    },
    {
     "name": "stdout",
     "output_type": "stream",
     "text": [
      "Early stopping, best iteration is:\n",
      "[295]\tvalid's auc: 0.762823\n",
      "Time history [3.136124849319458, 1.8027794361114502, 1.22336745262146, 4.711403846740723, 1.7692232131958008, 2.4265689849853516]. Time left 23.888627791404723\n",
      "Optuna may run 107.85589895248413 secs\n",
      "Training until validation scores don't improve for 200 rounds\n",
      "[100]\tvalid's auc: 0.725334\n",
      "[200]\tvalid's auc: 0.733759\n",
      "[300]\tvalid's auc: 0.732102\n"
     ]
    },
    {
     "name": "stderr",
     "output_type": "stream",
     "text": [
      "\u001b[32m[I 2020-11-11 22:37:24,157]\u001b[0m Trial 0 finished with value: 0.7361322706352132 and parameters: {'feature_fraction': 0.6872700594236812, 'num_leaves': 108}. Best is trial 0 with value: 0.7361322706352132.\u001b[0m\n"
     ]
    },
    {
     "name": "stdout",
     "output_type": "stream",
     "text": [
      "Early stopping, best iteration is:\n",
      "[181]\tvalid's auc: 0.736132\n",
      "Time history [3.7915778160095215]. Time left 8999999996.206453\n",
      "Training until validation scores don't improve for 200 rounds\n"
     ]
    },
    {
     "name": "stderr",
     "output_type": "stream",
     "text": [
      "/mnt/alex/LightAutoML/lightautoml/utils/timer.py:210: UserWarning:\n",
      "\n",
      "Copying TaskTimer may affect the parent PipelineTimer, so copy will create new unlimited TaskTimer\n",
      "\n"
     ]
    },
    {
     "name": "stdout",
     "output_type": "stream",
     "text": [
      "[100]\tvalid's auc: 0.733941\n",
      "[200]\tvalid's auc: 0.738217\n",
      "[300]\tvalid's auc: 0.743381\n",
      "[400]\tvalid's auc: 0.743065\n",
      "[500]\tvalid's auc: 0.741948\n"
     ]
    },
    {
     "name": "stderr",
     "output_type": "stream",
     "text": [
      "\u001b[32m[I 2020-11-11 22:37:29,149]\u001b[0m Trial 1 finished with value: 0.7446317173693411 and parameters: {'feature_fraction': 0.5917173949330818, 'num_leaves': 87}. Best is trial 1 with value: 0.7446317173693411.\u001b[0m\n"
     ]
    },
    {
     "name": "stdout",
     "output_type": "stream",
     "text": [
      "Early stopping, best iteration is:\n",
      "[363]\tvalid's auc: 0.744632\n",
      "Time history [4.983178615570068]. Time left 8999999995.014942\n",
      "Training until validation scores don't improve for 200 rounds\n"
     ]
    },
    {
     "name": "stderr",
     "output_type": "stream",
     "text": [
      "/mnt/alex/LightAutoML/lightautoml/utils/timer.py:210: UserWarning:\n",
      "\n",
      "Copying TaskTimer may affect the parent PipelineTimer, so copy will create new unlimited TaskTimer\n",
      "\n"
     ]
    },
    {
     "name": "stdout",
     "output_type": "stream",
     "text": [
      "[100]\tvalid's auc: 0.719892\n",
      "[200]\tvalid's auc: 0.731653\n",
      "[300]\tvalid's auc: 0.733203\n",
      "[400]\tvalid's auc: 0.736319\n",
      "[500]\tvalid's auc: 0.736261\n",
      "[600]\tvalid's auc: 0.737682\n",
      "[700]\tvalid's auc: 0.737816\n",
      "[800]\tvalid's auc: 0.737731\n",
      "[900]\tvalid's auc: 0.737971\n"
     ]
    },
    {
     "name": "stderr",
     "output_type": "stream",
     "text": [
      "\u001b[32m[I 2020-11-11 22:37:38,550]\u001b[0m Trial 2 finished with value: 0.7388638538308984 and parameters: {'feature_fraction': 0.7993292420985183, 'num_leaves': 118}. Best is trial 1 with value: 0.7446317173693411.\u001b[0m\n"
     ]
    },
    {
     "name": "stdout",
     "output_type": "stream",
     "text": [
      "Early stopping, best iteration is:\n",
      "[745]\tvalid's auc: 0.738864\n",
      "Time history [9.390758514404297]. Time left 8999999990.607367\n",
      "Training until validation scores don't improve for 200 rounds\n"
     ]
    },
    {
     "name": "stderr",
     "output_type": "stream",
     "text": [
      "/mnt/alex/LightAutoML/lightautoml/utils/timer.py:210: UserWarning:\n",
      "\n",
      "Copying TaskTimer may affect the parent PipelineTimer, so copy will create new unlimited TaskTimer\n",
      "\n"
     ]
    },
    {
     "name": "stdout",
     "output_type": "stream",
     "text": [
      "[100]\tvalid's auc: 0.718941\n",
      "[200]\tvalid's auc: 0.7255\n",
      "[300]\tvalid's auc: 0.72705\n",
      "[400]\tvalid's auc: 0.727056\n",
      "[500]\tvalid's auc: 0.729691\n",
      "[600]\tvalid's auc: 0.731188\n",
      "[700]\tvalid's auc: 0.731925\n",
      "[800]\tvalid's auc: 0.732075\n"
     ]
    },
    {
     "name": "stderr",
     "output_type": "stream",
     "text": [
      "\u001b[32m[I 2020-11-11 22:37:47,045]\u001b[0m Trial 3 finished with value: 0.7329356233729439 and parameters: {'feature_fraction': 0.7229163764267956, 'num_leaves': 230}. Best is trial 1 with value: 0.7446317173693411.\u001b[0m\n"
     ]
    },
    {
     "name": "stdout",
     "output_type": "stream",
     "text": [
      "Early stopping, best iteration is:\n",
      "[654]\tvalid's auc: 0.732936\n",
      "Time history [8.484450340270996]. Time left 8999999991.51349\n",
      "Training until validation scores don't improve for 200 rounds\n"
     ]
    },
    {
     "name": "stderr",
     "output_type": "stream",
     "text": [
      "/mnt/alex/LightAutoML/lightautoml/utils/timer.py:210: UserWarning:\n",
      "\n",
      "Copying TaskTimer may affect the parent PipelineTimer, so copy will create new unlimited TaskTimer\n",
      "\n"
     ]
    },
    {
     "name": "stdout",
     "output_type": "stream",
     "text": [
      "[100]\tvalid's auc: 0.736271\n",
      "[200]\tvalid's auc: 0.738383\n",
      "[300]\tvalid's auc: 0.741328\n",
      "[400]\tvalid's auc: 0.740772\n",
      "[500]\tvalid's auc: 0.740083\n"
     ]
    },
    {
     "name": "stderr",
     "output_type": "stream",
     "text": [
      "\u001b[32m[I 2020-11-11 22:37:51,832]\u001b[0m Trial 4 finished with value: 0.7424988373398335 and parameters: {'feature_fraction': 0.5290418060840998, 'num_leaves': 103}. Best is trial 1 with value: 0.7446317173693411.\u001b[0m\n"
     ]
    },
    {
     "name": "stdout",
     "output_type": "stream",
     "text": [
      "Early stopping, best iteration is:\n",
      "[328]\tvalid's auc: 0.742499\n",
      "Time history [4.77767276763916]. Time left 8999999995.220495\n",
      "Training until validation scores don't improve for 100 rounds\n",
      "[100]\tvalid's auc: 0.727638\n",
      "[200]\tvalid's auc: 0.731973\n",
      "Early stopping, best iteration is:\n",
      "[167]\tvalid's auc: 0.735812\n",
      "Training until validation scores don't improve for 100 rounds\n",
      "[100]\tvalid's auc: 0.71486\n",
      "[200]\tvalid's auc: 0.722646\n",
      "[300]\tvalid's auc: 0.725172\n",
      "Early stopping, best iteration is:\n",
      "[290]\tvalid's auc: 0.726955\n",
      "Training until validation scores don't improve for 100 rounds\n",
      "[100]\tvalid's auc: 0.756592\n",
      "Early stopping, best iteration is:\n",
      "[93]\tvalid's auc: 0.758407\n",
      "Training until validation scores don't improve for 100 rounds\n",
      "[100]\tvalid's auc: 0.733542\n",
      "Early stopping, best iteration is:\n",
      "[73]\tvalid's auc: 0.7399\n",
      "Training until validation scores don't improve for 100 rounds\n",
      "[100]\tvalid's auc: 0.752383\n",
      "Early stopping, best iteration is:\n",
      "[72]\tvalid's auc: 0.755769\n",
      "Time history [3.136124849319458, 1.8027794361114502, 1.22336745262146, 4.711403846740723, 1.7692232131958008, 2.4265689849853516, 2.0984232425689697, 2.654991865158081, 1.5536701679229736, 1.492353916168213, 1.4759061336517334]. Time left 90.63150558471679\n",
      "Time left 107.48753714561462\n",
      "Blending: Optimization starts with equal weights and score 0.7544062849526935\n",
      "Blending, iter 0: score = 0.7545172619134937, weights = [0.31649232 0.3859815  0.2975262 ]\n",
      "Blending, iter 1: score = 0.7545272540919565, weights = [0.3267032  0.37487045 0.2984263 ]\n",
      "Blending, iter 2: score = 0.7545306556846246, weights = [0.32672906 0.37482107 0.2984499 ]\n",
      "Blending, iter 3: score = 0.7545278918905819, weights = [0.32676348 0.3747552  0.29848135]\n",
      "Blending, iter 4: score = 0.7545278918905819, weights = [0.32676348 0.3747552  0.29848135]\n",
      "No score update. Terminated\n",
      "CUR SETUP FOR RANDOM STATE: {'reader_params': {'random_state': 45}}\n",
      "FOUND reader_params in kwargs, need to combine\n",
      "MERGED VARIANT FOR reader_params = {'cv': 5, 'random_state': 45}\n"
     ]
    },
    {
     "name": "stderr",
     "output_type": "stream",
     "text": [
      "/mnt/alex/LightAutoML/lightautoml/utils/timer.py:210: UserWarning:\n",
      "\n",
      "Copying TaskTimer may affect the parent PipelineTimer, so copy will create new unlimited TaskTimer\n",
      "\n",
      "/mnt/alex/LightAutoML/lightautoml/reader/guess_roles.py:351: SettingWithCopyWarning:\n",
      "\n",
      "\n",
      "A value is trying to be set on a copy of a slice from a DataFrame.\n",
      "Try using .loc[row_indexer,col_indexer] = value instead\n",
      "\n",
      "See the caveats in the documentation: https://pandas.pydata.org/pandas-docs/stable/user_guide/indexing.html#returning-a-view-versus-a-copy\n",
      "\n"
     ]
    },
    {
     "name": "stdout",
     "output_type": "stream",
     "text": [
      "Feats was rejected during automatic roles guess: []\n",
      "Train process start. Time left 105.96959352493286 secs\n",
      "C = 1e-05 score = 0.6498441768098744\n",
      "C = 5e-05 score = 0.6692859930186934\n",
      "C = 0.0001 score = 0.6859053514441042\n",
      "C = 0.0005 score = 0.7249226229613355\n",
      "C = 0.001 score = 0.7332991217238376\n",
      "C = 0.005 score = 0.7341704486531851\n",
      "C = 0.01 score = 0.7309844925188833\n",
      "C = 0.05 score = 0.7234472473018266\n",
      "C = 1e-05 score = 0.6956468665081521\n",
      "C = 5e-05 score = 0.7101785411005436\n",
      "C = 0.0001 score = 0.720841117527174\n",
      "C = 0.0005 score = 0.7438699473505435\n",
      "C = 0.001 score = 0.7493418817934783\n",
      "C = 0.005 score = 0.7510190217391305\n",
      "C = 0.01 score = 0.7486837635869565\n",
      "C = 0.05 score = 0.7427341627038044\n",
      "C = 1e-05 score = 0.651611328125\n",
      "C = 5e-05 score = 0.6675760020380433\n",
      "C = 0.0001 score = 0.679390285326087\n",
      "C = 0.0005 score = 0.7099290930706521\n",
      "C = 0.001 score = 0.7209525730298912\n",
      "C = 0.005 score = 0.7329579228940217\n",
      "C = 0.01 score = 0.7338814113451088\n",
      "C = 0.05 score = 0.7285050101902173\n",
      "C = 0.1 score = 0.7235107421875001\n",
      "C = 1e-05 score = 0.6984120244565217\n",
      "C = 5e-05 score = 0.7046376103940217\n",
      "C = 0.0001 score = 0.7089896824048912\n",
      "C = 0.0005 score = 0.7202360733695652\n",
      "C = 0.001 score = 0.7233621348505436\n",
      "C = 0.005 score = 0.7249331266983695\n",
      "C = 0.01 score = 0.7238185716711958\n",
      "C = 0.05 score = 0.719763714334239\n",
      "C = 1e-05 score = 0.6601907481317936\n",
      "C = 5e-05 score = 0.6740032693614131\n",
      "C = 0.0001 score = 0.686120074728261\n",
      "C = 0.0005 score = 0.7063784391983696\n",
      "C = 0.001 score = 0.709801715353261\n",
      "C = 0.005 score = 0.7103749150815217\n",
      "C = 0.01 score = 0.7093505859375\n",
      "C = 0.05 score = 0.7059273097826086\n",
      "Time history [0.4038064479827881, 0.38092613220214844, 0.4922170639038086, 0.397418737411499, 0.36837124824523926]. Time left 9.470047687647636\n",
      "Time left 102.61673069000244\n",
      "Training until validation scores don't improve for 200 rounds\n",
      "[100]\tvalid's auc: 0.715076\n",
      "[200]\tvalid's auc: 0.720689\n",
      "[300]\tvalid's auc: 0.720202\n",
      "[400]\tvalid's auc: 0.72674\n",
      "[500]\tvalid's auc: 0.726729\n",
      "[600]\tvalid's auc: 0.726553\n",
      "Early stopping, best iteration is:\n",
      "[410]\tvalid's auc: 0.727724\n",
      "Time history [2.823606252670288]. Time left 15.499082913398745\n",
      "Training until validation scores don't improve for 200 rounds\n",
      "[100]\tvalid's auc: 0.710217\n",
      "[200]\tvalid's auc: 0.723324\n",
      "[300]\tvalid's auc: 0.723501\n",
      "[400]\tvalid's auc: 0.727082\n",
      "[500]\tvalid's auc: 0.725938\n",
      "[600]\tvalid's auc: 0.727782\n",
      "[700]\tvalid's auc: 0.729862\n",
      "[800]\tvalid's auc: 0.729675\n",
      "[900]\tvalid's auc: 0.73122\n",
      "[1000]\tvalid's auc: 0.729691\n",
      "[1100]\tvalid's auc: 0.730049\n",
      "Early stopping, best iteration is:\n",
      "[919]\tvalid's auc: 0.731599\n",
      "Training until validation scores don't improve for 200 rounds\n",
      "[100]\tvalid's auc: 0.764723\n",
      "[200]\tvalid's auc: 0.765832\n",
      "Early stopping, best iteration is:\n",
      "[65]\tvalid's auc: 0.769945\n",
      "Training until validation scores don't improve for 200 rounds\n",
      "[100]\tvalid's auc: 0.736482\n",
      "[200]\tvalid's auc: 0.741418\n",
      "[300]\tvalid's auc: 0.739672\n",
      "[400]\tvalid's auc: 0.737979\n",
      "Early stopping, best iteration is:\n",
      "[234]\tvalid's auc: 0.743127\n",
      "Training until validation scores don't improve for 200 rounds\n",
      "[100]\tvalid's auc: 0.724413\n",
      "[200]\tvalid's auc: 0.725082\n",
      "[300]\tvalid's auc: 0.728054\n",
      "[400]\tvalid's auc: 0.729821\n",
      "[500]\tvalid's auc: 0.729986\n",
      "Early stopping, best iteration is:\n",
      "[388]\tvalid's auc: 0.731329\n",
      "Training until validation scores don't improve for 200 rounds\n",
      "[100]\tvalid's auc: 0.714769\n",
      "[200]\tvalid's auc: 0.715438\n"
     ]
    },
    {
     "name": "stderr",
     "output_type": "stream",
     "text": [
      "/mnt/alex/LightAutoML/lightautoml/utils/timer.py:210: UserWarning:\n",
      "\n",
      "Copying TaskTimer may affect the parent PipelineTimer, so copy will create new unlimited TaskTimer\n",
      "\n",
      "\u001b[32m[I 2020-11-11 22:38:23,161]\u001b[0m A new study created in memory with name: no-name-f9dcf806-68f3-4ef2-8bc1-ab4cfcad3cc2\u001b[0m\n"
     ]
    },
    {
     "name": "stdout",
     "output_type": "stream",
     "text": [
      "Early stopping, best iteration is:\n",
      "[54]\tvalid's auc: 0.716975\n",
      "Time history [2.823606252670288, 5.829875230789185, 1.2245566844940186, 2.152358293533325, 3.026540994644165, 1.2373046875]. Time left 8.570769983530045\n",
      "Optuna may run 45.60778720378876 secs\n",
      "Training until validation scores don't improve for 200 rounds\n",
      "[100]\tvalid's auc: 0.721555\n",
      "[200]\tvalid's auc: 0.724105\n"
     ]
    },
    {
     "name": "stderr",
     "output_type": "stream",
     "text": [
      "\u001b[32m[I 2020-11-11 22:38:26,411]\u001b[0m Trial 0 finished with value: 0.7277664630006789 and parameters: {'feature_fraction': 0.6872700594236812, 'num_leaves': 108}. Best is trial 0 with value: 0.7277664630006789.\u001b[0m\n"
     ]
    },
    {
     "name": "stdout",
     "output_type": "stream",
     "text": [
      "[300]\tvalid's auc: 0.725783\n",
      "Early stopping, best iteration is:\n",
      "[114]\tvalid's auc: 0.727766\n",
      "Time history [3.2438108921051025]. Time left 8999999996.754473\n"
     ]
    },
    {
     "name": "stderr",
     "output_type": "stream",
     "text": [
      "/mnt/alex/LightAutoML/lightautoml/utils/timer.py:210: UserWarning:\n",
      "\n",
      "Copying TaskTimer may affect the parent PipelineTimer, so copy will create new unlimited TaskTimer\n",
      "\n"
     ]
    },
    {
     "name": "stdout",
     "output_type": "stream",
     "text": [
      "Training until validation scores don't improve for 200 rounds\n",
      "[100]\tvalid's auc: 0.735384\n",
      "[200]\tvalid's auc: 0.735277\n",
      "[300]\tvalid's auc: 0.737602\n",
      "[400]\tvalid's auc: 0.73965\n",
      "[500]\tvalid's auc: 0.74182\n",
      "[600]\tvalid's auc: 0.739992\n"
     ]
    },
    {
     "name": "stderr",
     "output_type": "stream",
     "text": [
      "\u001b[32m[I 2020-11-11 22:38:33,090]\u001b[0m Trial 1 finished with value: 0.7427714611030037 and parameters: {'feature_fraction': 0.5917173949330818, 'num_leaves': 87}. Best is trial 1 with value: 0.7427714611030037.\u001b[0m\n"
     ]
    },
    {
     "name": "stdout",
     "output_type": "stream",
     "text": [
      "Early stopping, best iteration is:\n",
      "[487]\tvalid's auc: 0.742771\n",
      "Time history [6.670206785202026]. Time left 8999999993.32798\n",
      "Training until validation scores don't improve for 200 rounds\n"
     ]
    },
    {
     "name": "stderr",
     "output_type": "stream",
     "text": [
      "/mnt/alex/LightAutoML/lightautoml/utils/timer.py:210: UserWarning:\n",
      "\n",
      "Copying TaskTimer may affect the parent PipelineTimer, so copy will create new unlimited TaskTimer\n",
      "\n"
     ]
    },
    {
     "name": "stdout",
     "output_type": "stream",
     "text": [
      "[100]\tvalid's auc: 0.708496\n",
      "[200]\tvalid's auc: 0.718417\n",
      "[300]\tvalid's auc: 0.720983\n",
      "[400]\tvalid's auc: 0.72171\n",
      "[500]\tvalid's auc: 0.723634\n",
      "[600]\tvalid's auc: 0.726141\n",
      "[700]\tvalid's auc: 0.727029\n",
      "[800]\tvalid's auc: 0.725511\n"
     ]
    },
    {
     "name": "stderr",
     "output_type": "stream",
     "text": [
      "\u001b[32m[I 2020-11-11 22:38:42,064]\u001b[0m Trial 2 finished with value: 0.7273869279578342 and parameters: {'feature_fraction': 0.7993292420985183, 'num_leaves': 118}. Best is trial 1 with value: 0.7427714611030037.\u001b[0m\n"
     ]
    },
    {
     "name": "stdout",
     "output_type": "stream",
     "text": [
      "Early stopping, best iteration is:\n",
      "[691]\tvalid's auc: 0.727387\n",
      "Time history [8.964248418807983]. Time left 8999999991.033913\n",
      "Training until validation scores don't improve for 200 rounds\n"
     ]
    },
    {
     "name": "stderr",
     "output_type": "stream",
     "text": [
      "/mnt/alex/LightAutoML/lightautoml/utils/timer.py:210: UserWarning:\n",
      "\n",
      "Copying TaskTimer may affect the parent PipelineTimer, so copy will create new unlimited TaskTimer\n",
      "\n"
     ]
    },
    {
     "name": "stdout",
     "output_type": "stream",
     "text": [
      "[100]\tvalid's auc: 0.714151\n",
      "[200]\tvalid's auc: 0.719716\n",
      "[300]\tvalid's auc: 0.721085\n"
     ]
    },
    {
     "name": "stderr",
     "output_type": "stream",
     "text": [
      "\u001b[32m[I 2020-11-11 22:38:45,434]\u001b[0m Trial 3 finished with value: 0.7216832111871962 and parameters: {'feature_fraction': 0.7229163764267956, 'num_leaves': 230}. Best is trial 1 with value: 0.7427714611030037.\u001b[0m\n"
     ]
    },
    {
     "name": "stdout",
     "output_type": "stream",
     "text": [
      "Early stopping, best iteration is:\n",
      "[140]\tvalid's auc: 0.721683\n",
      "Time history [3.361238479614258]. Time left 8999999996.636917\n",
      "Training until validation scores don't improve for 200 rounds\n"
     ]
    },
    {
     "name": "stderr",
     "output_type": "stream",
     "text": [
      "/mnt/alex/LightAutoML/lightautoml/utils/timer.py:210: UserWarning:\n",
      "\n",
      "Copying TaskTimer may affect the parent PipelineTimer, so copy will create new unlimited TaskTimer\n",
      "\n"
     ]
    },
    {
     "name": "stdout",
     "output_type": "stream",
     "text": [
      "[100]\tvalid's auc: 0.731236\n",
      "[200]\tvalid's auc: 0.734641\n",
      "[300]\tvalid's auc: 0.732577\n"
     ]
    },
    {
     "name": "stderr",
     "output_type": "stream",
     "text": [
      "\u001b[32m[I 2020-11-11 22:38:48,937]\u001b[0m Trial 4 finished with value: 0.7367416649293584 and parameters: {'feature_fraction': 0.5290418060840998, 'num_leaves': 103}. Best is trial 1 with value: 0.7427714611030037.\u001b[0m\n"
     ]
    },
    {
     "name": "stdout",
     "output_type": "stream",
     "text": [
      "Early stopping, best iteration is:\n",
      "[168]\tvalid's auc: 0.736742\n",
      "Time history [3.494029998779297]. Time left 8999999996.504158\n",
      "Training until validation scores don't improve for 200 rounds\n"
     ]
    },
    {
     "name": "stderr",
     "output_type": "stream",
     "text": [
      "/mnt/alex/LightAutoML/lightautoml/utils/timer.py:210: UserWarning:\n",
      "\n",
      "Copying TaskTimer may affect the parent PipelineTimer, so copy will create new unlimited TaskTimer\n",
      "\n"
     ]
    },
    {
     "name": "stdout",
     "output_type": "stream",
     "text": [
      "[100]\tvalid's auc: 0.717984\n",
      "[200]\tvalid's auc: 0.720545\n",
      "[300]\tvalid's auc: 0.723025\n",
      "[400]\tvalid's auc: 0.729931\n",
      "[500]\tvalid's auc: 0.728793\n",
      "[600]\tvalid's auc: 0.729686\n",
      "Early stopping, best iteration is:\n",
      "[413]\tvalid's auc: 0.730445\n"
     ]
    },
    {
     "name": "stderr",
     "output_type": "stream",
     "text": [
      "\u001b[32m[I 2020-11-11 22:38:55,091]\u001b[0m Trial 5 finished with value: 0.7304419177745349 and parameters: {'feature_fraction': 0.6668543055695109, 'num_leaves': 119}. Best is trial 1 with value: 0.7427714611030037.\u001b[0m\n"
     ]
    },
    {
     "name": "stdout",
     "output_type": "stream",
     "text": [
      "Time history [6.144635915756226]. Time left 8999999993.853521\n",
      "Training until validation scores don't improve for 100 rounds\n",
      "[100]\tvalid's auc: 0.731407\n",
      "Early stopping, best iteration is:\n",
      "[22]\tvalid's auc: 0.736378\n",
      "Training until validation scores don't improve for 100 rounds\n",
      "[100]\tvalid's auc: 0.761989\n",
      "[200]\tvalid's auc: 0.754034\n",
      "Early stopping, best iteration is:\n",
      "[115]\tvalid's auc: 0.764426\n",
      "Training until validation scores don't improve for 100 rounds\n",
      "[100]\tvalid's auc: 0.731663\n",
      "[200]\tvalid's auc: 0.736158\n",
      "[300]\tvalid's auc: 0.738663\n",
      "[400]\tvalid's auc: 0.73722\n",
      "Early stopping, best iteration is:\n",
      "[303]\tvalid's auc: 0.739693\n",
      "Training until validation scores don't improve for 100 rounds\n",
      "[100]\tvalid's auc: 0.725474\n",
      "[200]\tvalid's auc: 0.723511\n",
      "Early stopping, best iteration is:\n",
      "[106]\tvalid's auc: 0.727316\n",
      "Training until validation scores don't improve for 100 rounds\n",
      "[100]\tvalid's auc: 0.706177\n",
      "[200]\tvalid's auc: 0.707228\n",
      "Early stopping, best iteration is:\n",
      "[141]\tvalid's auc: 0.711288\n",
      "Time history [2.823606252670288, 5.829875230789185, 1.2245566844940186, 2.152358293533325, 3.026540994644165, 1.2373046875, 0.9892535209655762, 1.8732259273529053, 2.976728916168213, 1.7727839946746826, 2.035871982574463]. Time left 33.15015347003937\n",
      "Time left 43.859424114227295\n",
      "Blending: Optimization starts with equal weights and score 0.7441923651677761\n",
      "Blending, iter 0: score = 0.7443305548699221, weights = [0.31708717 0.30094686 0.38196602]\n",
      "Blending, iter 1: score = 0.7443331060644234, weights = [0.31134018 0.3136167  0.37504315]\n",
      "Blending, iter 2: score = 0.7443331060644234, weights = [0.31134018 0.3136167  0.37504315]\n",
      "No score update. Terminated\n",
      "Blending: Optimization starts with equal weights and score 0.7556738034206841\n",
      "Blending, iter 0: score = 0.7571136338172738, weights = [0.20975065 0.         0.65855616 0.13169318]\n",
      "Blending, iter 1: score = 0.7575110886605995, weights = [0.21543802 0.09342895 0.63457125 0.05656176]\n",
      "Blending, iter 2: score = 0.7576071836534765, weights = [0.28704205 0.12508157 0.5878764  0.        ]\n",
      "Blending, iter 3: score = 0.7575391518001122, weights = [0.31697652 0.12107207 0.56195146 0.        ]\n"
     ]
    },
    {
     "name": "stderr",
     "output_type": "stream",
     "text": [
      "[2020-11-11 22:39:05,484] (INFO): oof_pred:\n",
      "array([[0.03720199],\n",
      "       [0.03239563],\n",
      "       [0.03478435],\n",
      "       ...,\n",
      "       [0.03037913],\n",
      "       [0.15554607],\n",
      "       [0.09786935]], dtype=float32)\n",
      "Shape = (8000, 1)\n"
     ]
    },
    {
     "name": "stdout",
     "output_type": "stream",
     "text": [
      "Blending, iter 4: score = 0.7575391518001122, weights = [0.31697652 0.12107207 0.56195146 0.        ]\n",
      "No score update. Terminated\n",
      "CPU times: user 32min 10s, sys: 11.4 s, total: 32min 21s\n",
      "Wall time: 4min 16s\n"
     ]
    }
   ],
   "source": [
    "%%time \n",
    "\n",
    "automl = TabularUtilizedAutoML(task = task, \n",
    "                       timeout = TIMEOUT,\n",
    "                       general_params = {'nested_cv': False, 'use_algos': [['linear_l2', 'lgb', 'lgb_tuned']]},\n",
    "                       reader_params = {'cv': N_FOLDS, 'random_state': RANDOM_STATE},\n",
    "                       tuning_params = {'max_tuning_iter': 20, 'max_tuning_time': 30},\n",
    "                       lgb_params = {'default_params': {'n_threads': N_THREADS}})\n",
    "oof_pred = automl.fit_predict(train_data, roles = roles)\n",
    "logging.info('oof_pred:\\n{}\\nShape = {}'.format(oof_pred, oof_pred.shape))"
   ]
  },
  {
   "cell_type": "markdown",
   "metadata": {},
   "source": [
    "## Step 7. Predict to test data and check scores for utilized automl"
   ]
  },
  {
   "cell_type": "code",
   "execution_count": 15,
   "metadata": {},
   "outputs": [
    {
     "name": "stderr",
     "output_type": "stream",
     "text": [
      "[2020-11-11 22:39:07,077] (INFO): Prediction for test data:\n",
      "array([[0.0595268 ],\n",
      "       [0.08256021],\n",
      "       [0.03199889],\n",
      "       ...,\n",
      "       [0.04806679],\n",
      "       [0.04075336],\n",
      "       [0.20718434]], dtype=float32)\n",
      "Shape = (2000, 1)\n",
      "[2020-11-11 22:39:07,078] (INFO): Check scores...\n",
      "[2020-11-11 22:39:07,081] (INFO): OOF score: 0.757617388431481\n",
      "[2020-11-11 22:39:07,083] (INFO): TEST score: 0.7355808423913044\n"
     ]
    },
    {
     "name": "stdout",
     "output_type": "stream",
     "text": [
      "CPU times: user 3.98 s, sys: 240 ms, total: 4.22 s\n",
      "Wall time: 1.59 s\n"
     ]
    }
   ],
   "source": [
    "%%time\n",
    "\n",
    "test_pred = automl.predict(test_data)\n",
    "logging.info('Prediction for test data:\\n{}\\nShape = {}'\n",
    "              .format(test_pred, test_pred.shape))\n",
    "\n",
    "logging.info('Check scores...')\n",
    "logging.info('OOF score: {}'.format(roc_auc_score(train_data[TARGET_NAME].values, oof_pred.data[:, 0])))\n",
    "logging.info('TEST score: {}'.format(roc_auc_score(test_data[TARGET_NAME].values, test_pred.data[:, 0])))"
   ]
  },
  {
   "cell_type": "markdown",
   "metadata": {},
   "source": [
    "## Step 8. Profiling utilized AutoML "
   ]
  },
  {
   "cell_type": "markdown",
   "metadata": {},
   "source": [
    "To build report here, we **must** turn on decorators on step 0.4. Report is interactive and you can go as deep into functions call stack as you want:"
   ]
  },
  {
   "cell_type": "code",
   "execution_count": 16,
   "metadata": {
    "scrolled": true
   },
   "outputs": [
    {
     "name": "stdout",
     "output_type": "stream",
     "text": [
      "FULL_STATS_DF shape = (34506, 6)\n",
      "RUN_FNAME vc head:\n",
      "Loss._fw_func [53]                      1\n",
      "LAMLDataset._initialize [738]           1\n",
      "NumpyDataset._check_dtype [904]         1\n",
      "CatLogisticRegression.forward [1368]    1\n",
      "LAMLDataset.set_data [245]              1\n",
      "Name: run_fname, dtype: int64\n",
      "CONNECTED COMPONENTS cnt = 1\n",
      "PATH LENS describe:\n",
      "count    34507.000000\n",
      "mean         9.721680\n",
      "std          2.785337\n",
      "min          0.000000\n",
      "25%          8.000000\n",
      "50%         10.000000\n",
      "75%         11.000000\n",
      "max         22.000000\n",
      "dtype: float64\n",
      "CPU times: user 1.66 s, sys: 100 ms, total: 1.76 s\n",
      "Wall time: 1.75 s\n"
     ]
    }
   ],
   "source": [
    "%%time\n",
    "p.profile('my_report_profile.html')\n",
    "assert os.path.exists('my_report_profile.html'), 'Profile report failed to build'"
   ]
  },
  {
   "cell_type": "markdown",
   "metadata": {},
   "source": [
    "# Appendix. Profiling report screenshots "
   ]
  },
  {
   "cell_type": "markdown",
   "metadata": {},
   "source": [
    "After loading HTML with profiling report, you can see fully folded report (please wait for green LOAD OK text for full load finish). If you click on triangle on the left, it unfolds and look like this:  \n",
    "\n",
    "<img src=\"imgs/tutorial_2_initial_report.png\" alt=\"Initial profiling report\" style=\"width: 500px;\"/>\n",
    "\n",
    "If we go even deeper we will receive situation like this:\n",
    "\n",
    "<img src=\"imgs/tutorial_2_unfolded_report.png\" alt=\"Profiling report after several unfoldings on different levels\" style=\"width: 600px;\"/>\n"
   ]
  },
  {
   "cell_type": "code",
   "execution_count": null,
   "metadata": {},
   "outputs": [],
   "source": []
  }
 ],
 "metadata": {
  "kernelspec": {
   "display_name": "Python 3",
   "language": "python",
   "name": "python3"
  },
  "language_info": {
   "codemirror_mode": {
    "name": "ipython",
    "version": 3
   },
   "file_extension": ".py",
   "mimetype": "text/x-python",
   "name": "python",
   "nbconvert_exporter": "python",
   "pygments_lexer": "ipython3",
   "version": "3.6.9"
  }
 },
 "nbformat": 4,
 "nbformat_minor": 4
}
