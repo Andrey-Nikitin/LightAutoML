{
 "cells": [
  {
   "cell_type": "markdown",
   "metadata": {},
   "source": [
    "# Import necessary libraries"
   ]
  },
  {
   "cell_type": "code",
   "execution_count": 1,
   "metadata": {},
   "outputs": [],
   "source": [
    "%config Completer.use_jedi = False"
   ]
  },
  {
   "cell_type": "code",
   "execution_count": 2,
   "metadata": {},
   "outputs": [],
   "source": [
    "# Standard python libraries\n",
    "import logging\n",
    "import os\n",
    "import time\n",
    "logging.basicConfig(format='[%(asctime)s] (%(levelname)s): %(message)s', level=logging.INFO)\n",
    "\n",
    "# Installed libraries\n",
    "import numpy as np\n",
    "import pandas as pd\n",
    "import matplotlib.pyplot as plt\n",
    "from sklearn.metrics import roc_auc_score\n",
    "from sklearn.model_selection import train_test_split\n",
    "import torch\n",
    "\n",
    "# Imports from our package\n",
    "from lightautoml.automl.presets.tabular_presets import TabularAutoML, TabularUtilizedAutoML\n",
    "from lightautoml.dataset.roles import DatetimeRole\n",
    "from lightautoml.tasks import Task\n",
    "from lightautoml.utils.profiler import Profiler\n",
    "\n",
    "from lightautoml.addons.uplift import meta_learners\n",
    "from lightautoml.addons.uplift.metrics import (_available_uplift_modes,\n",
    "                                               calculate_graphic_uplift_curve,\n",
    "                                               calculate_min_max_uplift_auc,\n",
    "                                               calculate_uplift_auc,\n",
    "                                               perfect_uplift_curve)\n",
    "from lightautoml.report.report_deco import ReportDecoUplift\n",
    "\n",
    "\n",
    "%matplotlib inline"
   ]
  },
  {
   "cell_type": "markdown",
   "metadata": {},
   "source": [
    "# Parameters"
   ]
  },
  {
   "cell_type": "markdown",
   "metadata": {},
   "source": [
    "## Setting"
   ]
  },
  {
   "cell_type": "code",
   "execution_count": 3,
   "metadata": {},
   "outputs": [],
   "source": [
    "N_THREADS = 8 # threads cnt for lgbm and linear models\n",
    "N_FOLDS = 5 # folds cnt for AutoML\n",
    "RANDOM_STATE = 42 # fixed random state for various reasons\n",
    "TEST_SIZE = 0.2 # Test size for metric check\n",
    "TIMEOUT = 300 # Time in seconds for automl run\n",
    "TARGET_NAME = 'TARGET' # Target column name\n",
    "TREATMENT_NAME = 'TREATMENT' # Treatment column name"
   ]
  },
  {
   "cell_type": "markdown",
   "metadata": {},
   "source": [
    "## Fix torch number of threads and numpy seed"
   ]
  },
  {
   "cell_type": "code",
   "execution_count": 4,
   "metadata": {},
   "outputs": [],
   "source": [
    "np.random.seed(RANDOM_STATE)\n",
    "torch.set_num_threads(N_THREADS)"
   ]
  },
  {
   "cell_type": "markdown",
   "metadata": {},
   "source": [
    "# Example data load"
   ]
  },
  {
   "cell_type": "code",
   "execution_count": 5,
   "metadata": {},
   "outputs": [
    {
     "name": "stdout",
     "output_type": "stream",
     "text": [
      "CPU times: user 76.4 ms, sys: 6.48 ms, total: 82.9 ms\n",
      "Wall time: 82.5 ms\n"
     ]
    },
    {
     "data": {
      "text/html": [
       "<div>\n",
       "<style scoped>\n",
       "    .dataframe tbody tr th:only-of-type {\n",
       "        vertical-align: middle;\n",
       "    }\n",
       "\n",
       "    .dataframe tbody tr th {\n",
       "        vertical-align: top;\n",
       "    }\n",
       "\n",
       "    .dataframe thead th {\n",
       "        text-align: right;\n",
       "    }\n",
       "</style>\n",
       "<table border=\"1\" class=\"dataframe\">\n",
       "  <thead>\n",
       "    <tr style=\"text-align: right;\">\n",
       "      <th></th>\n",
       "      <th>SK_ID_CURR</th>\n",
       "      <th>TARGET</th>\n",
       "      <th>NAME_CONTRACT_TYPE</th>\n",
       "      <th>CODE_GENDER</th>\n",
       "      <th>FLAG_OWN_CAR</th>\n",
       "      <th>FLAG_OWN_REALTY</th>\n",
       "      <th>CNT_CHILDREN</th>\n",
       "      <th>AMT_INCOME_TOTAL</th>\n",
       "      <th>AMT_CREDIT</th>\n",
       "      <th>AMT_ANNUITY</th>\n",
       "      <th>...</th>\n",
       "      <th>FLAG_DOCUMENT_18</th>\n",
       "      <th>FLAG_DOCUMENT_19</th>\n",
       "      <th>FLAG_DOCUMENT_20</th>\n",
       "      <th>FLAG_DOCUMENT_21</th>\n",
       "      <th>AMT_REQ_CREDIT_BUREAU_HOUR</th>\n",
       "      <th>AMT_REQ_CREDIT_BUREAU_DAY</th>\n",
       "      <th>AMT_REQ_CREDIT_BUREAU_WEEK</th>\n",
       "      <th>AMT_REQ_CREDIT_BUREAU_MON</th>\n",
       "      <th>AMT_REQ_CREDIT_BUREAU_QRT</th>\n",
       "      <th>AMT_REQ_CREDIT_BUREAU_YEAR</th>\n",
       "    </tr>\n",
       "  </thead>\n",
       "  <tbody>\n",
       "    <tr>\n",
       "      <th>0</th>\n",
       "      <td>313802</td>\n",
       "      <td>0</td>\n",
       "      <td>Cash loans</td>\n",
       "      <td>M</td>\n",
       "      <td>N</td>\n",
       "      <td>Y</td>\n",
       "      <td>0</td>\n",
       "      <td>270000.0</td>\n",
       "      <td>327024.0</td>\n",
       "      <td>15372.0</td>\n",
       "      <td>...</td>\n",
       "      <td>0</td>\n",
       "      <td>0</td>\n",
       "      <td>0</td>\n",
       "      <td>0</td>\n",
       "      <td>0.0</td>\n",
       "      <td>0.0</td>\n",
       "      <td>0.0</td>\n",
       "      <td>0.0</td>\n",
       "      <td>0.0</td>\n",
       "      <td>1.0</td>\n",
       "    </tr>\n",
       "    <tr>\n",
       "      <th>1</th>\n",
       "      <td>319656</td>\n",
       "      <td>0</td>\n",
       "      <td>Cash loans</td>\n",
       "      <td>F</td>\n",
       "      <td>N</td>\n",
       "      <td>N</td>\n",
       "      <td>0</td>\n",
       "      <td>108000.0</td>\n",
       "      <td>675000.0</td>\n",
       "      <td>19737.0</td>\n",
       "      <td>...</td>\n",
       "      <td>0</td>\n",
       "      <td>0</td>\n",
       "      <td>0</td>\n",
       "      <td>0</td>\n",
       "      <td>0.0</td>\n",
       "      <td>0.0</td>\n",
       "      <td>0.0</td>\n",
       "      <td>0.0</td>\n",
       "      <td>0.0</td>\n",
       "      <td>0.0</td>\n",
       "    </tr>\n",
       "    <tr>\n",
       "      <th>2</th>\n",
       "      <td>207678</td>\n",
       "      <td>0</td>\n",
       "      <td>Revolving loans</td>\n",
       "      <td>F</td>\n",
       "      <td>Y</td>\n",
       "      <td>Y</td>\n",
       "      <td>2</td>\n",
       "      <td>112500.0</td>\n",
       "      <td>270000.0</td>\n",
       "      <td>13500.0</td>\n",
       "      <td>...</td>\n",
       "      <td>0</td>\n",
       "      <td>0</td>\n",
       "      <td>0</td>\n",
       "      <td>0</td>\n",
       "      <td>0.0</td>\n",
       "      <td>0.0</td>\n",
       "      <td>0.0</td>\n",
       "      <td>0.0</td>\n",
       "      <td>0.0</td>\n",
       "      <td>1.0</td>\n",
       "    </tr>\n",
       "    <tr>\n",
       "      <th>3</th>\n",
       "      <td>381593</td>\n",
       "      <td>0</td>\n",
       "      <td>Cash loans</td>\n",
       "      <td>F</td>\n",
       "      <td>N</td>\n",
       "      <td>N</td>\n",
       "      <td>1</td>\n",
       "      <td>67500.0</td>\n",
       "      <td>142200.0</td>\n",
       "      <td>9630.0</td>\n",
       "      <td>...</td>\n",
       "      <td>0</td>\n",
       "      <td>0</td>\n",
       "      <td>0</td>\n",
       "      <td>0</td>\n",
       "      <td>0.0</td>\n",
       "      <td>0.0</td>\n",
       "      <td>0.0</td>\n",
       "      <td>0.0</td>\n",
       "      <td>0.0</td>\n",
       "      <td>4.0</td>\n",
       "    </tr>\n",
       "    <tr>\n",
       "      <th>4</th>\n",
       "      <td>258153</td>\n",
       "      <td>0</td>\n",
       "      <td>Cash loans</td>\n",
       "      <td>F</td>\n",
       "      <td>Y</td>\n",
       "      <td>Y</td>\n",
       "      <td>0</td>\n",
       "      <td>337500.0</td>\n",
       "      <td>1483231.5</td>\n",
       "      <td>46570.5</td>\n",
       "      <td>...</td>\n",
       "      <td>0</td>\n",
       "      <td>0</td>\n",
       "      <td>0</td>\n",
       "      <td>0</td>\n",
       "      <td>0.0</td>\n",
       "      <td>0.0</td>\n",
       "      <td>0.0</td>\n",
       "      <td>2.0</td>\n",
       "      <td>0.0</td>\n",
       "      <td>0.0</td>\n",
       "    </tr>\n",
       "  </tbody>\n",
       "</table>\n",
       "<p>5 rows × 122 columns</p>\n",
       "</div>"
      ],
      "text/plain": [
       "   SK_ID_CURR  TARGET NAME_CONTRACT_TYPE CODE_GENDER FLAG_OWN_CAR  \\\n",
       "0      313802       0         Cash loans           M            N   \n",
       "1      319656       0         Cash loans           F            N   \n",
       "2      207678       0    Revolving loans           F            Y   \n",
       "3      381593       0         Cash loans           F            N   \n",
       "4      258153       0         Cash loans           F            Y   \n",
       "\n",
       "  FLAG_OWN_REALTY  CNT_CHILDREN  AMT_INCOME_TOTAL  AMT_CREDIT  AMT_ANNUITY  \\\n",
       "0               Y             0          270000.0    327024.0      15372.0   \n",
       "1               N             0          108000.0    675000.0      19737.0   \n",
       "2               Y             2          112500.0    270000.0      13500.0   \n",
       "3               N             1           67500.0    142200.0       9630.0   \n",
       "4               Y             0          337500.0   1483231.5      46570.5   \n",
       "\n",
       "   ...  FLAG_DOCUMENT_18 FLAG_DOCUMENT_19 FLAG_DOCUMENT_20 FLAG_DOCUMENT_21  \\\n",
       "0  ...                 0                0                0                0   \n",
       "1  ...                 0                0                0                0   \n",
       "2  ...                 0                0                0                0   \n",
       "3  ...                 0                0                0                0   \n",
       "4  ...                 0                0                0                0   \n",
       "\n",
       "  AMT_REQ_CREDIT_BUREAU_HOUR AMT_REQ_CREDIT_BUREAU_DAY  \\\n",
       "0                        0.0                       0.0   \n",
       "1                        0.0                       0.0   \n",
       "2                        0.0                       0.0   \n",
       "3                        0.0                       0.0   \n",
       "4                        0.0                       0.0   \n",
       "\n",
       "   AMT_REQ_CREDIT_BUREAU_WEEK  AMT_REQ_CREDIT_BUREAU_MON  \\\n",
       "0                         0.0                        0.0   \n",
       "1                         0.0                        0.0   \n",
       "2                         0.0                        0.0   \n",
       "3                         0.0                        0.0   \n",
       "4                         0.0                        2.0   \n",
       "\n",
       "   AMT_REQ_CREDIT_BUREAU_QRT  AMT_REQ_CREDIT_BUREAU_YEAR  \n",
       "0                        0.0                         1.0  \n",
       "1                        0.0                         0.0  \n",
       "2                        0.0                         1.0  \n",
       "3                        0.0                         4.0  \n",
       "4                        0.0                         0.0  \n",
       "\n",
       "[5 rows x 122 columns]"
      ]
     },
     "execution_count": 5,
     "metadata": {},
     "output_type": "execute_result"
    }
   ],
   "source": [
    "%%time\n",
    "\n",
    "data = pd.read_csv('./example_data/test_data_files/sampled_app_train.csv')\n",
    "data.head()"
   ]
  },
  {
   "cell_type": "markdown",
   "metadata": {},
   "source": [
    "# (Optional) Some user feature preparation"
   ]
  },
  {
   "cell_type": "code",
   "execution_count": 6,
   "metadata": {},
   "outputs": [
    {
     "name": "stdout",
     "output_type": "stream",
     "text": [
      "CPU times: user 80.7 ms, sys: 4.1 ms, total: 84.8 ms\n",
      "Wall time: 83.8 ms\n"
     ]
    }
   ],
   "source": [
    "%%time \n",
    "\n",
    "data['BIRTH_DATE'] = (np.datetime64('2018-01-01') + data['DAYS_BIRTH'].astype(np.dtype('timedelta64[D]'))).astype(str)\n",
    "data['EMP_DATE'] = (np.datetime64('2018-01-01') + np.clip(data['DAYS_EMPLOYED'], None, 0).astype(np.dtype('timedelta64[D]'))\n",
    "                    ).astype(str)\n",
    "\n",
    "data['report_dt'] = np.datetime64('2018-01-01')\n",
    "\n",
    "data['constant'] = 1\n",
    "data['allnan'] = np.nan\n",
    "\n",
    "data.drop(['DAYS_BIRTH', 'DAYS_EMPLOYED'], axis=1, inplace=True)"
   ]
  },
  {
   "cell_type": "markdown",
   "metadata": {},
   "source": [
    "# Create treatment column with synthetic values (only for example)"
   ]
  },
  {
   "cell_type": "code",
   "execution_count": 7,
   "metadata": {},
   "outputs": [
    {
     "name": "stdout",
     "output_type": "stream",
     "text": [
      "CPU times: user 10.2 ms, sys: 0 ns, total: 10.2 ms\n",
      "Wall time: 9.28 ms\n"
     ]
    }
   ],
   "source": [
    "%%time \n",
    "\n",
    "data[TREATMENT_NAME] = np.nan\n",
    "data.loc[data[TARGET_NAME] == 0, TREATMENT_NAME] = \\\n",
    "    np.random.randint(2, size=data.loc[data[TARGET_NAME] == 0].shape[0])\n",
    "data.loc[data[TARGET_NAME] == 1, TREATMENT_NAME] = \\\n",
    "    np.random.choice([0, 1], data[data[TARGET_NAME] == 1].shape[0], p=[0.3, 0.7])"
   ]
  },
  {
   "cell_type": "markdown",
   "metadata": {},
   "source": [
    "# (Optional) Data splitting for train-test"
   ]
  },
  {
   "cell_type": "code",
   "execution_count": 8,
   "metadata": {},
   "outputs": [
    {
     "name": "stdout",
     "output_type": "stream",
     "text": [
      "CPU times: user 5.42 ms, sys: 0 ns, total: 5.42 ms\n",
      "Wall time: 5.15 ms\n"
     ]
    }
   ],
   "source": [
    "%%time\n",
    "\n",
    "train, test = train_test_split(data, test_size=2000, random_state=42, shuffle=True)\n",
    "\n",
    "test_target, test_treatment = test[TARGET_NAME].values.ravel(), test[TREATMENT_NAME].values.ravel()"
   ]
  },
  {
   "cell_type": "markdown",
   "metadata": {},
   "source": [
    "# Setup columns roles"
   ]
  },
  {
   "cell_type": "code",
   "execution_count": 9,
   "metadata": {},
   "outputs": [
    {
     "name": "stdout",
     "output_type": "stream",
     "text": [
      "CPU times: user 73 µs, sys: 27 µs, total: 100 µs\n",
      "Wall time: 102 µs\n"
     ]
    }
   ],
   "source": [
    "%%time\n",
    "\n",
    "roles = {\n",
    "    'target': TARGET_NAME,\n",
    "    'treatment': TREATMENT_NAME,\n",
    "    DatetimeRole(base_date=True, seasonality=(), base_feats=False): 'report_dt'\n",
    "}"
   ]
  },
  {
   "cell_type": "markdown",
   "metadata": {},
   "source": [
    "# Uplift modeling"
   ]
  },
  {
   "cell_type": "markdown",
   "metadata": {},
   "source": [
    "## TLearner"
   ]
  },
  {
   "cell_type": "markdown",
   "metadata": {},
   "source": [
    "### Fit on train data"
   ]
  },
  {
   "cell_type": "code",
   "execution_count": 10,
   "metadata": {
    "scrolled": true
   },
   "outputs": [
    {
     "name": "stdout",
     "output_type": "stream",
     "text": [
      "Train data shape: (4126, 125)\n",
      "Feats was rejected during automatic roles guess: ['FLAG_DOCUMENT_9', 'FLAG_DOCUMENT_11', 'FLAG_DOCUMENT_13', 'FLAG_DOCUMENT_14', 'FLAG_DOCUMENT_16', 'FLAG_DOCUMENT_18', 'FLAG_DOCUMENT_19', 'NAME_TYPE_SUITE']\n",
      "\n",
      "\n",
      "Layer 1 ...\n",
      "Train process start. Time left 9999999996.545176 secs\n",
      "Start fitting Lvl_0_Pipe_0_Mod_0_LinearL2 ...\n",
      "Linear model: C = 1e-05 score = 0.6811692927378272\n",
      "Linear model: C = 5e-05 score = 0.7071733206966\n",
      "Linear model: C = 0.0001 score = 0.7262320815069304\n",
      "Linear model: C = 0.0005 score = 0.7715318090273664\n",
      "Linear model: C = 0.001 score = 0.7800616040753465\n",
      "Linear model: C = 0.005 score = 0.7778847292974767\n",
      "Linear model: C = 0.01 score = 0.7718872171543656\n",
      "Linear model: C = 1e-05 score = 0.6514507291074048\n",
      "Linear model: C = 5e-05 score = 0.6661975626553283\n",
      "Linear model: C = 0.0001 score = 0.6793574273138305\n",
      "Linear model: C = 0.0005 score = 0.7096445788543881\n",
      "Linear model: C = 0.001 score = 0.7198850196125401\n",
      "Linear model: C = 0.005 score = 0.7289277480013174\n",
      "Linear model: C = 0.01 score = 0.7267868371410606\n",
      "Linear model: C = 0.05 score = 0.7132826301763632\n",
      "Linear model: C = 1e-05 score = 0.6415845734646823\n",
      "Linear model: C = 5e-05 score = 0.6551486660478486\n",
      "Linear model: C = 0.0001 score = 0.6662574482737971\n",
      "Linear model: C = 0.0005 score = 0.6950175165434022\n",
      "Linear model: C = 0.001 score = 0.706335898433991\n",
      "Linear model: C = 0.005 score = 0.7190765637632123\n",
      "Linear model: C = 0.01 score = 0.7190765637632123\n",
      "Linear model: C = 0.05 score = 0.7055424139892804\n",
      "Linear model: C = 1e-05 score = 0.6424080007186275\n",
      "Linear model: C = 5e-05 score = 0.6638021379165793\n",
      "Linear model: C = 0.0001 score = 0.6804203970416505\n",
      "Linear model: C = 0.0005 score = 0.7136269724825584\n",
      "Linear model: C = 0.001 score = 0.7204838757972273\n",
      "Linear model: C = 0.005 score = 0.7255292391532173\n",
      "Linear model: C = 0.01 score = 0.7224002155882265\n",
      "Linear model: C = 0.05 score = 0.7139413719795192\n",
      "Linear model: C = 1e-05 score = 0.6474234212653832\n",
      "Linear model: C = 5e-05 score = 0.6673952750247029\n",
      "Linear model: C = 0.0001 score = 0.6859598167500076\n",
      "Linear model: C = 0.0005 score = 0.7307542593646135\n",
      "Linear model: C = 0.001 score = 0.7424768691798664\n",
      "Linear model: C = 0.005 score = 0.7485852022636763\n",
      "Linear model: C = 0.01 score = 0.7460849776926071\n",
      "Linear model: C = 0.05 score = 0.7318771147109023\n",
      "Lvl_0_Pipe_0_Mod_0_LinearL2 fitting and predicting completed\n",
      "Time left 9999999993.017939\n",
      "Train data shape: (3874, 125)\n",
      "Feats was rejected during automatic roles guess: ['FLAG_OWN_REALTY']\n",
      "\n",
      "\n",
      "Layer 1 ...\n",
      "Train process start. Time left 9999999999.019348 secs\n",
      "Start fitting Lvl_0_Pipe_0_Mod_0_LinearL2 ...\n",
      "Linear model: C = 1e-05 score = 0.6099498327759197\n",
      "Linear model: C = 5e-05 score = 0.624860646599777\n",
      "Linear model: C = 0.0001 score = 0.6332566889632107\n",
      "Linear model: C = 0.0005 score = 0.6603957636566332\n",
      "Linear model: C = 0.001 score = 0.6688614827201784\n",
      "Linear model: C = 0.005 score = 0.6788600891861761\n",
      "Linear model: C = 0.01 score = 0.679278149386845\n",
      "Linear model: C = 0.05 score = 0.671474358974359\n",
      "Linear model: C = 0.1 score = 0.6659698996655519\n",
      "Linear model: C = 1e-05 score = 0.6900340136054421\n",
      "Linear model: C = 5e-05 score = 0.6893027210884354\n",
      "Linear model: C = 0.0001 score = 0.6890136054421769\n",
      "Linear model: C = 1e-05 score = 0.701530612244898\n",
      "Linear model: C = 5e-05 score = 0.7148979591836735\n",
      "Linear model: C = 0.0001 score = 0.7269727891156462\n",
      "Linear model: C = 0.0005 score = 0.7601700680272108\n",
      "Linear model: C = 0.001 score = 0.7734013605442177\n",
      "Linear model: C = 0.005 score = 0.7904421768707484\n",
      "Linear model: C = 0.01 score = 0.7904761904761904\n",
      "Linear model: C = 0.05 score = 0.7829251700680272\n",
      "Linear model: C = 0.1 score = 0.7778571428571429\n",
      "Linear model: C = 1e-05 score = 0.5790136054421768\n",
      "Linear model: C = 5e-05 score = 0.5951020408163266\n",
      "Linear model: C = 0.0001 score = 0.6082993197278911\n",
      "Linear model: C = 0.0005 score = 0.6872448979591838\n",
      "Linear model: C = 0.001 score = 0.7233673469387756\n",
      "Linear model: C = 0.005 score = 0.7759863945578231\n",
      "Linear model: C = 0.01 score = 0.7837755102040816\n",
      "Linear model: C = 0.05 score = 0.792312925170068\n",
      "Linear model: C = 0.1 score = 0.7871768707482992\n",
      "Linear model: C = 0.5 score = 0.7635034013605442\n",
      "Linear model: C = 1e-05 score = 0.6058956916099772\n",
      "Linear model: C = 5e-05 score = 0.6142333856619571\n",
      "Linear model: C = 0.0001 score = 0.6201290772719344\n",
      "Linear model: C = 0.0005 score = 0.6416884702598988\n",
      "Linear model: C = 0.001 score = 0.6482818768533055\n",
      "Linear model: C = 0.005 score = 0.6537240537240536\n",
      "Linear model: C = 0.01 score = 0.6534100819815105\n",
      "Linear model: C = 0.05 score = 0.6456305599162743\n",
      "Lvl_0_Pipe_0_Mod_0_LinearL2 fitting and predicting completed\n",
      "Time left 9999999995.250053\n",
      "CPU times: user 34.2 s, sys: 115 ms, total: 34.3 s\n",
      "Wall time: 11.7 s\n"
     ]
    }
   ],
   "source": [
    "%%time\n",
    "\n",
    "# Default setting\n",
    "tlearner = meta_learners.TLearner(base_task=Task('binary'))\n",
    "tlearner.fit(train, roles)"
   ]
  },
  {
   "cell_type": "markdown",
   "metadata": {},
   "source": [
    "## Predict to test data and check metrics"
   ]
  },
  {
   "cell_type": "code",
   "execution_count": 11,
   "metadata": {},
   "outputs": [
    {
     "name": "stderr",
     "output_type": "stream",
     "text": [
      "[2021-02-15 15:52:10,467] (INFO): --- Check scores ---\n",
      "[2021-02-15 15:52:10,467] (INFO): OOF scores \"ROC_AUC\":\n",
      "[2021-02-15 15:52:10,468] (INFO): \tTreatment = 0.713348\n",
      "[2021-02-15 15:52:10,468] (INFO): \tControl   = 0.710596\n",
      "[2021-02-15 15:52:10,468] (INFO): Uplift score of test group (default=\"adj_qini\"):\n",
      "[2021-02-15 15:52:10,469] (INFO): \tBaseline      = 0.027138\n",
      "[2021-02-15 15:52:10,469] (INFO): \tAlgo (Normed) = 0.032045 (0.332049)\n",
      "[2021-02-15 15:52:10,469] (INFO): \tPerfect       = 0.096506\n"
     ]
    },
    {
     "name": "stdout",
     "output_type": "stream",
     "text": [
      "CPU times: user 992 ms, sys: 0 ns, total: 992 ms\n",
      "Wall time: 744 ms\n"
     ]
    }
   ],
   "source": [
    "%%time\n",
    "\n",
    "uplift_pred, treatment_pred, control_pred = tlearner.predict(test)\n",
    "uplift_pred = uplift_pred.ravel()\n",
    "\n",
    "roc_auc_treatment = roc_auc_score(test_target[test_treatment == 1], treatment_pred[test_treatment == 1])\n",
    "roc_auc_control = roc_auc_score(test_target[test_treatment == 0], control_pred[test_treatment == 0])\n",
    "\n",
    "uplift_auc_algo = calculate_uplift_auc(test_target, uplift_pred, test_treatment, normed=False)\n",
    "uplift_auc_algo_normed = calculate_uplift_auc(test_target, uplift_pred, test_treatment, normed=True)\n",
    "auc_base, auc_perfect = calculate_min_max_uplift_auc(test_target, test_treatment)\n",
    "\n",
    "logging.info('--- Check scores ---')\n",
    "logging.info('OOF scores \"ROC_AUC\":')\n",
    "logging.info('\\tTreatment = %f', roc_auc_treatment)\n",
    "logging.info('\\tControl   = %f', roc_auc_control)\n",
    "logging.info('Uplift score of test group (default=\"adj_qini\"):')\n",
    "logging.info('\\tBaseline      = %f', auc_base)\n",
    "logging.info('\\tAlgo (Normed) = %f (%f)', uplift_auc_algo, uplift_auc_algo_normed)\n",
    "logging.info('\\tPerfect       = %f', auc_perfect)"
   ]
  },
  {
   "cell_type": "markdown",
   "metadata": {},
   "source": [
    "## XLearner"
   ]
  },
  {
   "cell_type": "markdown",
   "metadata": {},
   "source": [
    "### Fit on train data"
   ]
  },
  {
   "cell_type": "code",
   "execution_count": 12,
   "metadata": {
    "scrolled": true
   },
   "outputs": [
    {
     "name": "stderr",
     "output_type": "stream",
     "text": [
      "Copying TaskTimer may affect the parent PipelineTimer, so copy will create new unlimited TaskTimer\n"
     ]
    },
    {
     "name": "stdout",
     "output_type": "stream",
     "text": [
      "Start automl preset with listed constraints:\n",
      "- time: 30 seconds\n",
      "- cpus: 4 cores\n",
      "- memory: 16 gb\n",
      "\n",
      "Train data shape: (8000, 125)\n",
      "Feats was rejected during automatic roles guess: []\n",
      "\n",
      "\n",
      "Layer 1 ...\n",
      "Train process start. Time left 28.684314250946045 secs\n",
      "Start fitting Lvl_0_Pipe_0_Mod_0_LinearL2 ...\n",
      "Linear model: C = 1e-05 score = 0.5144128798543461\n",
      "Linear model: C = 5e-05 score = 0.5212771615018363\n",
      "Linear model: C = 0.0001 score = 0.523624953857512\n",
      "Linear model: C = 0.0005 score = 0.5303805269315714\n",
      "Linear model: C = 0.001 score = 0.5332937602843002\n",
      "Linear model: C = 0.005 score = 0.5366645081367194\n",
      "Linear model: C = 0.01 score = 0.5348696435610113\n",
      "Linear model: C = 0.05 score = 0.5307606159005449\n",
      "Linear model: C = 1e-05 score = 0.5217509286412512\n",
      "Linear model: C = 5e-05 score = 0.522533724340176\n",
      "Linear model: C = 0.0001 score = 0.52346119257087\n",
      "Linear model: C = 0.0005 score = 0.527271945259042\n",
      "Linear model: C = 0.001 score = 0.527177321603128\n",
      "Linear model: C = 0.005 score = 0.5246639296187683\n",
      "Linear model: C = 1e-05 score = 0.5082361681329423\n",
      "Linear model: C = 5e-05 score = 0.5110928641251222\n",
      "Linear model: C = 0.0001 score = 0.5102983382209189\n",
      "Linear model: C = 0.0005 score = 0.5044957966764418\n",
      "Linear model: C = 1e-05 score = 0.5169219941348973\n",
      "Linear model: C = 5e-05 score = 0.5143390029325514\n",
      "Linear model: C = 0.0001 score = 0.5138682306940371\n",
      "Linear model: C = 1e-05 score = 0.5154651026392962\n",
      "Linear model: C = 5e-05 score = 0.5128625610948192\n",
      "Linear model: C = 0.0001 score = 0.5129055718475073\n",
      "Lvl_0_Pipe_0_Mod_0_LinearL2 fitting and predicting completed\n",
      "Time left 25.750444889068604\n",
      "Start fitting LightGBM ...\n",
      "Training until validation scores don't improve for 200 rounds\n",
      "[100]\tvalid's auc: 0.505063\n",
      "[200]\tvalid's auc: 0.502077\n",
      "Early stopping, best iteration is:\n",
      "[1]\tvalid's auc: 0.535778\n",
      "LightGBM fitting and predicting completed\n",
      "Start fitting Lvl_0_Pipe_1_Mod_0_LightGBM ...\n",
      "Training until validation scores don't improve for 200 rounds\n",
      "[100]\tvalid's auc: 0.540959\n",
      "[200]\tvalid's auc: 0.537188\n",
      "[300]\tvalid's auc: 0.537064\n",
      "Early stopping, best iteration is:\n",
      "[133]\tvalid's auc: 0.545481\n",
      "Training until validation scores don't improve for 200 rounds\n",
      "[100]\tvalid's auc: 0.529647\n",
      "[200]\tvalid's auc: 0.52696\n",
      "Early stopping, best iteration is:\n",
      "[19]\tvalid's auc: 0.533835\n",
      "Training until validation scores don't improve for 200 rounds\n",
      "[100]\tvalid's auc: 0.535612\n",
      "[200]\tvalid's auc: 0.538116\n",
      "[300]\tvalid's auc: 0.53809\n",
      "[400]\tvalid's auc: 0.537425\n",
      "Early stopping, best iteration is:\n",
      "[237]\tvalid's auc: 0.541238\n",
      "Training until validation scores don't improve for 200 rounds\n",
      "[100]\tvalid's auc: 0.520197\n",
      "[200]\tvalid's auc: 0.518622\n",
      "Early stopping, best iteration is:\n",
      "[56]\tvalid's auc: 0.528812\n",
      "Training until validation scores don't improve for 200 rounds\n",
      "[100]\tvalid's auc: 0.535551\n",
      "[200]\tvalid's auc: 0.53242\n",
      "Early stopping, best iteration is:\n",
      "[16]\tvalid's auc: 0.54606\n",
      "Lvl_0_Pipe_1_Mod_0_LightGBM fitting and predicting completed\n",
      "Optuna may run 1 secs\n"
     ]
    },
    {
     "name": "stderr",
     "output_type": "stream",
     "text": [
      "[2021-02-15 15:52:19,526] (INFO): A new study created in memory with name: no-name-4bb187e9-b6e1-4a0d-89b9-9ed19652b6ba\n"
     ]
    },
    {
     "name": "stdout",
     "output_type": "stream",
     "text": [
      "Start fitting Lvl_0_Pipe_1_Mod_1_LightGBM ...\n",
      "Training until validation scores don't improve for 200 rounds\n",
      "[100]\tvalid's auc: 0.544169\n",
      "[200]\tvalid's auc: 0.542628\n",
      "[300]\tvalid's auc: 0.541636\n",
      "Early stopping, best iteration is:\n",
      "[109]\tvalid's auc: 0.549371\n",
      "Lvl_0_Pipe_1_Mod_1_LightGBM fitting and predicting completed\n"
     ]
    },
    {
     "name": "stderr",
     "output_type": "stream",
     "text": [
      "[2021-02-15 15:52:20,749] (INFO): Trial 0 finished with value: 0.5493708980110241 and parameters: {'feature_fraction': 0.6872700594236812, 'num_leaves': 108, 'bagging_fraction': 0.5917173949330818, 'min_sum_hessian_in_leaf': 1.3145103232150122, 'reg_alpha': 0.0023531598052637494, 'reg_lambda': 0.00010291881465670109}. Best is trial 0 with value: 0.5493708980110241.\n"
     ]
    },
    {
     "name": "stdout",
     "output_type": "stream",
     "text": [
      "Start fitting Lvl_0_Pipe_1_Mod_1_LightGBM ...\n",
      "Training until validation scores don't improve for 100 rounds\n",
      "[100]\tvalid's auc: 0.531073\n",
      "Early stopping, best iteration is:\n",
      "[26]\tvalid's auc: 0.544003\n",
      "Training until validation scores don't improve for 100 rounds\n",
      "[100]\tvalid's auc: 0.528314\n",
      "[200]\tvalid's auc: 0.535914\n",
      "[300]\tvalid's auc: 0.528335\n",
      "Early stopping, best iteration is:\n",
      "[206]\tvalid's auc: 0.537652\n",
      "Training until validation scores don't improve for 100 rounds\n",
      "[100]\tvalid's auc: 0.525961\n",
      "Early stopping, best iteration is:\n",
      "[36]\tvalid's auc: 0.539963\n",
      "Training until validation scores don't improve for 100 rounds\n",
      "[100]\tvalid's auc: 0.504059\n",
      "Early stopping, best iteration is:\n",
      "[3]\tvalid's auc: 0.521213\n",
      "Training until validation scores don't improve for 100 rounds\n",
      "[100]\tvalid's auc: 0.517516\n",
      "[200]\tvalid's auc: 0.518505\n",
      "Early stopping, best iteration is:\n",
      "[151]\tvalid's auc: 0.525832\n",
      "Lvl_0_Pipe_1_Mod_1_LightGBM fitting and predicting completed\n",
      "Start fitting Lvl_0_Pipe_1_Mod_2_CatBoost ...\n",
      "0:\tlearn: 0.5384035\ttest: 0.5154523\tbest: 0.5154523 (0)\ttotal: 11.6ms\tremaining: 57.8s\n",
      "100:\tlearn: 0.7716271\ttest: 0.5201932\tbest: 0.5207297 (36)\ttotal: 529ms\tremaining: 25.7s\n",
      "200:\tlearn: 0.8404500\ttest: 0.5234686\tbest: 0.5261792 (148)\ttotal: 940ms\tremaining: 22.4s\n",
      "bestTest = 0.5261791945\n",
      "bestIteration = 148\n",
      "Shrink model to first 149 iterations.\n",
      "0:\tlearn: 0.5415584\ttest: 0.4919421\tbest: 0.4919421 (0)\ttotal: 4.07ms\tremaining: 20.4s\n",
      "100:\tlearn: 0.7806069\ttest: 0.5378017\tbest: 0.5405013 (97)\ttotal: 421ms\tremaining: 20.4s\n",
      "bestTest = 0.5405012965\n",
      "bestIteration = 97\n",
      "Shrink model to first 98 iterations.\n",
      "0:\tlearn: 0.5383335\ttest: 0.4924575\tbest: 0.4924575 (0)\ttotal: 3.81ms\tremaining: 19.1s\n",
      "100:\tlearn: 0.7811711\ttest: 0.5063242\tbest: 0.5217407 (51)\ttotal: 436ms\tremaining: 21.1s\n"
     ]
    },
    {
     "name": "stderr",
     "output_type": "stream",
     "text": [
      "Time limit exceeded after calculating fold 2\n"
     ]
    },
    {
     "name": "stdout",
     "output_type": "stream",
     "text": [
      "bestTest = 0.5217407346\n",
      "bestIteration = 51\n",
      "Shrink model to first 52 iterations.\n",
      "Lvl_0_Pipe_1_Mod_2_CatBoost fitting and predicting completed\n",
      "Optuna may run 1 secs\n"
     ]
    },
    {
     "name": "stderr",
     "output_type": "stream",
     "text": [
      "[2021-02-15 15:52:27,938] (INFO): A new study created in memory with name: no-name-b21d2141-0153-44fc-95ad-c57bc7a68a60\n"
     ]
    },
    {
     "name": "stdout",
     "output_type": "stream",
     "text": [
      "Start fitting Lvl_0_Pipe_1_Mod_3_CatBoost ...\n",
      "0:\tlearn: 0.5369193\ttest: 0.5073766\tbest: 0.5073766 (0)\ttotal: 4.41ms\tremaining: 22.1s\n",
      "100:\tlearn: 0.8585859\ttest: 0.5166270\tbest: 0.5291120 (2)\ttotal: 484ms\tremaining: 23.5s\n",
      "bestTest = 0.5291119814\n",
      "bestIteration = 2\n",
      "Shrink model to first 3 iterations.\n",
      "Lvl_0_Pipe_1_Mod_3_CatBoost fitting and predicting completed\n"
     ]
    },
    {
     "name": "stderr",
     "output_type": "stream",
     "text": [
      "[2021-02-15 15:52:28,718] (INFO): Trial 0 finished with value: 0.5291119995495241 and parameters: {'max_depth': 6, 'nan_mode': 'Max', 'l2_leaf_reg': 4.4762373716945623e-07, 'min_data_in_leaf': 8}. Best is trial 0 with value: 0.5291119995495241.\n"
     ]
    },
    {
     "name": "stdout",
     "output_type": "stream",
     "text": [
      "Start fitting Lvl_0_Pipe_1_Mod_3_CatBoost ...\n",
      "0:\tlearn: 0.5473979\ttest: 0.5060142\tbest: 0.5060142 (0)\ttotal: 5.28ms\tremaining: 26.4s\n",
      "100:\tlearn: 0.9451153\ttest: 0.5481837\tbest: 0.5495179 (81)\ttotal: 582ms\tremaining: 28.2s\n",
      "200:\tlearn: 0.9867880\ttest: 0.5626599\tbest: 0.5634843 (199)\ttotal: 1.14s\tremaining: 27.2s\n",
      "300:\tlearn: 0.9968413\ttest: 0.5612772\tbest: 0.5636641 (214)\ttotal: 1.7s\tremaining: 26.6s\n",
      "400:\tlearn: 0.9992529\ttest: 0.5630557\tbest: 0.5702273 (353)\ttotal: 2.29s\tremaining: 26.3s\n",
      "bestTest = 0.570227325\n",
      "bestIteration = 353\n",
      "Shrink model to first 354 iterations.\n",
      "Lvl_0_Pipe_1_Mod_3_CatBoost fitting and predicting completed\n"
     ]
    },
    {
     "name": "stderr",
     "output_type": "stream",
     "text": [
      "[2021-02-15 15:52:31,626] (INFO): Trial 1 finished with value: 0.5702273025883589 and parameters: {'max_depth': 7, 'nan_mode': 'Max', 'l2_leaf_reg': 2.5361081166471375e-07, 'min_data_in_leaf': 19}. Best is trial 1 with value: 0.5702273025883589.\n"
     ]
    },
    {
     "name": "stdout",
     "output_type": "stream",
     "text": [
      "Start fitting Lvl_0_Pipe_1_Mod_3_CatBoost ...\n",
      "0:\tlearn: 0.5473980\ttest: 0.5060126\tbest: 0.5060126 (0)\ttotal: 7.69ms\tremaining: 23.1s\n",
      "100:\tlearn: 0.9367951\ttest: 0.5236390\tbest: 0.5384907 (76)\ttotal: 571ms\tremaining: 16.4s\n",
      "bestTest = 0.538490653\n",
      "bestIteration = 76\n",
      "Shrink model to first 77 iterations.\n",
      "0:\tlearn: 0.5700494\ttest: 0.5021717\tbest: 0.5021717 (0)\ttotal: 7.28ms\tremaining: 21.8s\n",
      "100:\tlearn: 0.9442194\ttest: 0.5061927\tbest: 0.5321681 (4)\ttotal: 633ms\tremaining: 18.2s\n",
      "bestTest = 0.5321681201\n",
      "bestIteration = 4\n",
      "Shrink model to first 5 iterations.\n",
      "0:\tlearn: 0.5792443\ttest: 0.4829521\tbest: 0.4829521 (0)\ttotal: 6.13ms\tremaining: 18.4s\n",
      "100:\tlearn: 0.9437866\ttest: 0.5103812\tbest: 0.5229498 (34)\ttotal: 610ms\tremaining: 17.5s\n",
      "bestTest = 0.5229497552\n",
      "bestIteration = 34\n",
      "Shrink model to first 35 iterations.\n",
      "0:\tlearn: 0.5752108\ttest: 0.5086827\tbest: 0.5086827 (0)\ttotal: 8.19ms\tremaining: 24.6s\n",
      "100:\tlearn: 0.9401748\ttest: 0.5147683\tbest: 0.5272696 (52)\ttotal: 611ms\tremaining: 17.6s\n",
      "bestTest = 0.5272696018\n",
      "bestIteration = 52\n",
      "Shrink model to first 53 iterations.\n",
      "0:\tlearn: 0.5667555\ttest: 0.5062201\tbest: 0.5062201 (0)\ttotal: 6.19ms\tremaining: 18.6s\n",
      "100:\tlearn: 0.9377065\ttest: 0.5106565\tbest: 0.5241799 (4)\ttotal: 604ms\tremaining: 17.4s\n",
      "bestTest = 0.5241798759\n",
      "bestIteration = 4\n",
      "Shrink model to first 5 iterations.\n",
      "Lvl_0_Pipe_1_Mod_3_CatBoost fitting and predicting completed\n",
      "Time left 3.9195809364318848\n"
     ]
    },
    {
     "name": "stderr",
     "output_type": "stream",
     "text": [
      "Time limit exceeded in one of the tasks. AutoML will blend level 1 models.                                         \n",
      "Try to set higher time limits or use Profiler to find bottleneck and optimize Pipelines settings\n"
     ]
    },
    {
     "name": "stdout",
     "output_type": "stream",
     "text": [
      "Blending: Optimization starts with equal weights and score 0.5421084383479507\n",
      "Blending, iter 0: score = 0.5442713344816394, weights = [0.11532687 0.4388892  0.06236942 0.20620178 0.17721272]\n",
      "Blending, iter 1: score = 0.5443161602099683, weights = [0.13293213 0.47265792 0.05714127 0.18138437 0.15588428]\n",
      "Blending, iter 2: score = 0.5443161602099683, weights = [0.13293213 0.47265792 0.05714127 0.18138437 0.15588428]\n",
      "No score update. Terminated\n",
      "\n",
      "Automl preset training completed in 26.59 seconds.\n",
      "Start automl preset with listed constraints:\n",
      "- time: 30 seconds\n",
      "- cpus: 4 cores\n",
      "- memory: 16 gb\n",
      "\n",
      "Train data shape: (3874, 125)\n",
      "Feats was rejected during automatic roles guess: []\n",
      "\n",
      "\n",
      "Layer 1 ...\n",
      "Train process start. Time left 28.90106773376465 secs\n",
      "Start fitting Lvl_0_Pipe_0_Mod_0_LinearL2 ...\n",
      "Linear model: C = 1e-05 score = 0.617858138238573\n",
      "Linear model: C = 5e-05 score = 0.6278915830546266\n",
      "Linear model: C = 0.0001 score = 0.6342670011148271\n",
      "Linear model: C = 0.0005 score = 0.6582357859531772\n",
      "Linear model: C = 0.001 score = 0.6688266443701226\n",
      "Linear model: C = 0.005 score = 0.6766304347826086\n",
      "Linear model: C = 0.01 score = 0.6759336677814939\n",
      "Linear model: C = 0.05 score = 0.6666666666666666\n",
      "Linear model: C = 1e-05 score = 0.690578231292517\n",
      "Linear model: C = 5e-05 score = 0.6917687074829931\n",
      "Linear model: C = 0.0001 score = 0.693469387755102\n",
      "Linear model: C = 0.0005 score = 0.6978571428571428\n",
      "Linear model: C = 0.001 score = 0.6970748299319728\n",
      "Linear model: C = 0.005 score = 0.6942857142857143\n",
      "Linear model: C = 1e-05 score = 0.7044557823129252\n",
      "Linear model: C = 5e-05 score = 0.717108843537415\n",
      "Linear model: C = 0.0001 score = 0.7237074829931973\n",
      "Linear model: C = 0.0005 score = 0.7548639455782313\n",
      "Linear model: C = 0.001 score = 0.7689115646258503\n",
      "Linear model: C = 0.005 score = 0.7909183673469388\n",
      "Linear model: C = 0.01 score = 0.7925170068027211\n",
      "Linear model: C = 0.05 score = 0.7862585034013605\n",
      "Linear model: C = 0.1 score = 0.780204081632653\n",
      "Linear model: C = 1e-05 score = 0.6208163265306123\n",
      "Linear model: C = 5e-05 score = 0.6410204081632652\n",
      "Linear model: C = 0.0001 score = 0.6544217687074829\n",
      "Linear model: C = 0.0005 score = 0.7085034013605441\n",
      "Linear model: C = 0.001 score = 0.7308843537414966\n",
      "Linear model: C = 0.005 score = 0.7622108843537415\n",
      "Linear model: C = 0.01 score = 0.765374149659864\n",
      "Linear model: C = 0.05 score = 0.7678571428571429\n",
      "Linear model: C = 0.1 score = 0.7622789115646258\n",
      "Linear model: C = 0.5 score = 0.7412585034013606\n",
      "Linear model: C = 1e-05 score = 0.6114425257282401\n",
      "Linear model: C = 5e-05 score = 0.6182103610675039\n",
      "Linear model: C = 0.0001 score = 0.6215942787371359\n",
      "Linear model: C = 0.0005 score = 0.6381301238444096\n",
      "Linear model: C = 0.001 score = 0.6440955869527298\n",
      "Linear model: C = 0.005 score = 0.6518751090179662\n",
      "Linear model: C = 0.01 score = 0.6513867085295656\n",
      "Linear model: C = 0.05 score = 0.6410256410256411\n",
      "Lvl_0_Pipe_0_Mod_0_LinearL2 fitting and predicting completed\n",
      "Time left 25.451226949691772\n",
      "Start fitting LightGBM ...\n",
      "Training until validation scores don't improve for 200 rounds\n",
      "[100]\tvalid's auc: 0.690043\n",
      "[200]\tvalid's auc: 0.689103\n",
      "Early stopping, best iteration is:\n",
      "[50]\tvalid's auc: 0.695164\n",
      "LightGBM fitting and predicting completed\n",
      "Start fitting Lvl_0_Pipe_1_Mod_0_LightGBM ...\n",
      "Training until validation scores don't improve for 200 rounds\n",
      "[100]\tvalid's auc: 0.672624\n",
      "[200]\tvalid's auc: 0.698788\n",
      "[300]\tvalid's auc: 0.713873\n",
      "[400]\tvalid's auc: 0.715475\n",
      "[500]\tvalid's auc: 0.717635\n",
      "[600]\tvalid's auc: 0.718123\n",
      "[700]\tvalid's auc: 0.722722\n",
      "[800]\tvalid's auc: 0.723871\n",
      "[900]\tvalid's auc: 0.724045\n",
      "[1000]\tvalid's auc: 0.726658\n",
      "[1100]\tvalid's auc: 0.725125\n",
      "Early stopping, best iteration is:\n",
      "[993]\tvalid's auc: 0.727146\n",
      "Training until validation scores don't improve for 200 rounds\n",
      "[100]\tvalid's auc: 0.711088\n",
      "[200]\tvalid's auc: 0.716633\n",
      "[300]\tvalid's auc: 0.727245\n",
      "[400]\tvalid's auc: 0.729048\n",
      "[500]\tvalid's auc: 0.733741\n",
      "[600]\tvalid's auc: 0.733605\n",
      "[700]\tvalid's auc: 0.736701\n",
      "[800]\tvalid's auc: 0.737211\n",
      "[900]\tvalid's auc: 0.73915\n",
      "[1000]\tvalid's auc: 0.74085\n",
      "[1100]\tvalid's auc: 0.73949\n",
      "[1200]\tvalid's auc: 0.742007\n",
      "[1300]\tvalid's auc: 0.742109\n",
      "[1400]\tvalid's auc: 0.742313\n"
     ]
    },
    {
     "name": "stderr",
     "output_type": "stream",
     "text": [
      "Time limit exceeded after calculating fold 1\n"
     ]
    },
    {
     "name": "stdout",
     "output_type": "stream",
     "text": [
      "Early stopping, best iteration is:\n",
      "[1286]\tvalid's auc: 0.742993\n",
      "Lvl_0_Pipe_1_Mod_0_LightGBM fitting and predicting completed\n",
      "Start fitting Lvl_0_Pipe_1_Mod_2_CatBoost ...\n",
      "0:\tlearn: 0.5838018\ttest: 0.5073335\tbest: 0.5073335 (0)\ttotal: 5.4ms\tremaining: 2.69s\n",
      "100:\tlearn: 0.9538570\ttest: 0.6042015\tbest: 0.6575390 (50)\ttotal: 530ms\tremaining: 2.09s\n",
      "bestTest = 0.65753901\n",
      "bestIteration = 50\n",
      "Shrink model to first 51 iterations.\n",
      "0:\tlearn: 0.5959503\ttest: 0.4936735\tbest: 0.4936735 (0)\ttotal: 4.93ms\tremaining: 2.46s\n",
      "100:\tlearn: 0.9628990\ttest: 0.6696599\tbest: 0.6715306 (75)\ttotal: 383ms\tremaining: 1.51s\n",
      "bestTest = 0.6715306044\n",
      "bestIteration = 75\n",
      "Shrink model to first 76 iterations.\n",
      "0:\tlearn: 0.6171521\ttest: 0.5369898\tbest: 0.5369898 (0)\ttotal: 3.78ms\tremaining: 1.89s\n",
      "100:\tlearn: 0.9613689\ttest: 0.6940136\tbest: 0.7267687 (80)\ttotal: 424ms\tremaining: 1.68s\n",
      "bestTest = 0.7267687321\n",
      "bestIteration = 80\n",
      "Shrink model to first 81 iterations.\n",
      "0:\tlearn: 0.6328866\ttest: 0.6088775\tbest: 0.6088775 (0)\ttotal: 3.76ms\tremaining: 1.88s\n",
      "100:\tlearn: 0.9545599\ttest: 0.6658844\tbest: 0.6756803 (78)\ttotal: 340ms\tremaining: 1.34s\n",
      "200:\tlearn: 0.9769948\ttest: 0.6729252\tbest: 0.6854421 (150)\ttotal: 672ms\tremaining: 1000ms\n",
      "bestTest = 0.6854421496\n",
      "bestIteration = 150\n",
      "Shrink model to first 151 iterations.\n"
     ]
    },
    {
     "name": "stderr",
     "output_type": "stream",
     "text": [
      "Time limit exceeded after calculating fold 3\n"
     ]
    },
    {
     "name": "stdout",
     "output_type": "stream",
     "text": [
      "Lvl_0_Pipe_1_Mod_2_CatBoost fitting and predicting completed\n",
      "Optuna may run 1 secs\n"
     ]
    },
    {
     "name": "stderr",
     "output_type": "stream",
     "text": [
      "[2021-02-15 15:52:52,700] (INFO): A new study created in memory with name: no-name-28746c61-18b0-4272-8af1-ff323edd34a6\n"
     ]
    },
    {
     "name": "stdout",
     "output_type": "stream",
     "text": [
      "Start fitting Lvl_0_Pipe_1_Mod_3_CatBoost ...\n",
      "0:\tlearn: 0.5838018\ttest: 0.5073335\tbest: 0.5073335 (0)\ttotal: 3.68ms\tremaining: 1.83s\n",
      "100:\tlearn: 0.9934518\ttest: 0.5948648\tbest: 0.6414785 (73)\ttotal: 445ms\tremaining: 1.76s\n",
      "bestTest = 0.6414785385\n",
      "bestIteration = 73\n",
      "Shrink model to first 74 iterations.\n",
      "Lvl_0_Pipe_1_Mod_3_CatBoost fitting and predicting completed\n"
     ]
    },
    {
     "name": "stderr",
     "output_type": "stream",
     "text": [
      "[2021-02-15 15:52:54,051] (INFO): Trial 0 finished with value: 0.6414785395763657 and parameters: {'max_depth': 6, 'nan_mode': 'Max', 'l2_leaf_reg': 4.4762373716945623e-07, 'min_data_in_leaf': 8}. Best is trial 0 with value: 0.6414785395763657.\n"
     ]
    },
    {
     "name": "stdout",
     "output_type": "stream",
     "text": [
      "Start fitting Lvl_0_Pipe_1_Mod_3_CatBoost ...\n",
      "0:\tlearn: 0.5838018\ttest: 0.5073335\tbest: 0.5073335 (0)\ttotal: 3.51ms\tremaining: 10.5s\n",
      "100:\tlearn: 0.9974393\ttest: 0.5277313\tbest: 0.6097757 (4)\ttotal: 457ms\tremaining: 13.1s\n",
      "bestTest = 0.6097756624\n",
      "bestIteration = 4\n",
      "Shrink model to first 5 iterations.\n",
      "0:\tlearn: 0.5959503\ttest: 0.4936735\tbest: 0.4936735 (0)\ttotal: 3.65ms\tremaining: 10.9s\n",
      "100:\tlearn: 0.9977296\ttest: 0.5783333\tbest: 0.6005102 (32)\ttotal: 478ms\tremaining: 13.7s\n",
      "200:\tlearn: 0.9999828\ttest: 0.5645579\tbest: 0.6126871 (156)\ttotal: 945ms\tremaining: 13.2s\n",
      "bestTest = 0.6126870513\n",
      "bestIteration = 156\n",
      "Shrink model to first 157 iterations.\n",
      "0:\tlearn: 0.6090744\ttest: 0.5291326\tbest: 0.5291326 (0)\ttotal: 6.06ms\tremaining: 18.2s\n",
      "100:\tlearn: 0.9977361\ttest: 0.5572789\tbest: 0.6197959 (31)\ttotal: 529ms\tremaining: 15.2s\n",
      "bestTest = 0.6197959185\n",
      "bestIteration = 31\n",
      "Shrink model to first 32 iterations.\n",
      "0:\tlearn: 0.6854144\ttest: 0.6192007\tbest: 0.6192007 (0)\ttotal: 4.19ms\tremaining: 12.6s\n",
      "100:\tlearn: 0.9963222\ttest: 0.5781973\tbest: 0.6439796 (1)\ttotal: 456ms\tremaining: 13.1s\n",
      "bestTest = 0.6439795792\n",
      "bestIteration = 1\n",
      "Shrink model to first 2 iterations.\n",
      "0:\tlearn: 0.6196562\ttest: 0.5587476\tbest: 0.5587476 (0)\ttotal: 4.63ms\tremaining: 13.9s\n",
      "100:\tlearn: 0.9972863\ttest: 0.5636491\tbest: 0.6407466 (3)\ttotal: 536ms\tremaining: 15.4s\n",
      "bestTest = 0.6407465637\n",
      "bestIteration = 3\n",
      "Shrink model to first 4 iterations.\n",
      "Lvl_0_Pipe_1_Mod_3_CatBoost fitting and predicting completed\n",
      "Time left 8.212201833724976\n"
     ]
    },
    {
     "name": "stderr",
     "output_type": "stream",
     "text": [
      "Time limit exceeded in one of the tasks. AutoML will blend level 1 models.                                         \n",
      "Try to set higher time limits or use Profiler to find bottleneck and optimize Pipelines settings\n"
     ]
    },
    {
     "name": "stdout",
     "output_type": "stream",
     "text": [
      "Blending: Optimization starts with equal weights and score 0.5962096481682988\n",
      "Blending, iter 0: score = 0.7256309009573428, weights = [0.35515222 0.64484775 0.         0.        ]\n",
      "Blending, iter 1: score = 0.725633648783812, weights = [0.3560009 0.6439991 0.        0.       ]\n",
      "Blending, iter 2: score = 0.725633648783812, weights = [0.3560009 0.6439991 0.        0.       ]\n",
      "No score update. Terminated\n",
      "\n",
      "Automl preset training completed in 22.12 seconds.\n",
      "Start automl preset with listed constraints:\n",
      "- time: 30 seconds\n",
      "- cpus: 4 cores\n",
      "- memory: 16 gb\n",
      "\n",
      "Train data shape: (4126, 125)\n",
      "Feats was rejected during automatic roles guess: []\n",
      "\n",
      "\n",
      "Layer 1 ...\n",
      "Train process start. Time left 28.704566717147827 secs\n",
      "Start fitting Lvl_0_Pipe_0_Mod_0_LinearL2 ...\n",
      "Linear model: C = 1e-05 score = 0.6942009240611303\n",
      "Linear model: C = 5e-05 score = 0.715851202464163\n",
      "Linear model: C = 0.0001 score = 0.7340658689728704\n",
      "Linear model: C = 0.0005 score = 0.7755597678000239\n",
      "Linear model: C = 0.001 score = 0.783704537377088\n",
      "Linear model: C = 0.005 score = 0.7819571140860089\n",
      "Linear model: C = 0.01 score = 0.7764038621016468\n",
      "Linear model: C = 1e-05 score = 0.6592583166152649\n",
      "Linear model: C = 5e-05 score = 0.6732940084438721\n",
      "Linear model: C = 0.0001 score = 0.6847471329760159\n",
      "Linear model: C = 0.0005 score = 0.7112914333622781\n",
      "Linear model: C = 0.001 score = 0.7213522172650239\n",
      "Linear model: C = 0.005 score = 0.7313680869539181\n",
      "Linear model: C = 0.01 score = 0.7302452316076296\n",
      "Linear model: C = 0.05 score = 0.7174596520645568\n",
      "Linear model: C = 1e-05 score = 0.6594604305775968\n",
      "Linear model: C = 5e-05 score = 0.6705467556966194\n",
      "Linear model: C = 0.0001 score = 0.6787435997245261\n",
      "Linear model: C = 0.0005 score = 0.7021888193550319\n",
      "Linear model: C = 0.001 score = 0.7099140641374974\n",
      "Linear model: C = 0.005 score = 0.7176991945384316\n",
      "Linear model: C = 0.01 score = 0.7168308530706351\n",
      "Linear model: C = 0.05 score = 0.7063508698386082\n",
      "Linear model: C = 1e-05 score = 0.6630984818995719\n",
      "Linear model: C = 5e-05 score = 0.6792077132676587\n",
      "Linear model: C = 0.0001 score = 0.6918286073599424\n",
      "Linear model: C = 0.0005 score = 0.7139563433841363\n",
      "Linear model: C = 0.001 score = 0.7192412492140012\n",
      "Linear model: C = 0.005 score = 0.7207833038895709\n",
      "Linear model: C = 0.01 score = 0.7182082222954159\n",
      "Linear model: C = 0.05 score = 0.7066353265263347\n",
      "Linear model: C = 1e-05 score = 0.6605533431146511\n",
      "Linear model: C = 5e-05 score = 0.6771865736443393\n",
      "Linear model: C = 0.0001 score = 0.6926670060185046\n",
      "Linear model: C = 0.0005 score = 0.733598826241878\n",
      "Linear model: C = 0.001 score = 0.745815492409498\n",
      "Linear model: C = 0.005 score = 0.753091595053448\n",
      "Linear model: C = 0.01 score = 0.7509955984070426\n",
      "Linear model: C = 0.05 score = 0.739123274545618\n",
      "Lvl_0_Pipe_0_Mod_0_LinearL2 fitting and predicting completed\n",
      "Time left 24.834545135498047\n",
      "Start fitting LightGBM ...\n",
      "Training until validation scores don't improve for 200 rounds\n",
      "[100]\tvalid's auc: 0.743706\n",
      "[200]\tvalid's auc: 0.745439\n",
      "[300]\tvalid's auc: 0.739693\n",
      "Early stopping, best iteration is:\n",
      "[177]\tvalid's auc: 0.748341\n",
      "LightGBM fitting and predicting completed\n",
      "Start fitting Lvl_0_Pipe_1_Mod_0_LightGBM ...\n",
      "Training until validation scores don't improve for 200 rounds\n",
      "[100]\tvalid's auc: 0.74655\n",
      "[200]\tvalid's auc: 0.75231\n",
      "[300]\tvalid's auc: 0.758145\n",
      "[400]\tvalid's auc: 0.754931\n",
      "Early stopping, best iteration is:\n",
      "[294]\tvalid's auc: 0.758648\n",
      "Training until validation scores don't improve for 200 rounds\n",
      "[100]\tvalid's auc: 0.733389\n",
      "[200]\tvalid's auc: 0.737581\n",
      "Early stopping, best iteration is:\n",
      "[59]\tvalid's auc: 0.74202\n",
      "Training until validation scores don't improve for 200 rounds\n",
      "[100]\tvalid's auc: 0.754723\n",
      "[200]\tvalid's auc: 0.750397\n"
     ]
    },
    {
     "name": "stderr",
     "output_type": "stream",
     "text": [
      "Time limit exceeded after calculating fold 2\n"
     ]
    },
    {
     "name": "stdout",
     "output_type": "stream",
     "text": [
      "[300]\tvalid's auc: 0.748406\n",
      "Early stopping, best iteration is:\n",
      "[148]\tvalid's auc: 0.75679\n",
      "Lvl_0_Pipe_1_Mod_0_LightGBM fitting and predicting completed\n",
      "Optuna may run 1 secs\n"
     ]
    },
    {
     "name": "stderr",
     "output_type": "stream",
     "text": [
      "[2021-02-15 15:53:09,945] (INFO): A new study created in memory with name: no-name-35a29225-1167-4104-9e77-a8c1bef5030b\n"
     ]
    },
    {
     "name": "stdout",
     "output_type": "stream",
     "text": [
      "Start fitting Lvl_0_Pipe_1_Mod_1_LightGBM ...\n",
      "Training until validation scores don't improve for 200 rounds\n",
      "[100]\tvalid's auc: 0.755835\n",
      "[200]\tvalid's auc: 0.754976\n",
      "[300]\tvalid's auc: 0.750518\n",
      "Early stopping, best iteration is:\n",
      "[120]\tvalid's auc: 0.757582\n",
      "Lvl_0_Pipe_1_Mod_1_LightGBM fitting and predicting completed\n"
     ]
    },
    {
     "name": "stderr",
     "output_type": "stream",
     "text": [
      "[2021-02-15 15:53:11,211] (INFO): Trial 0 finished with value: 0.757582040042649 and parameters: {'feature_fraction': 0.6872700594236812, 'num_leaves': 108, 'bagging_fraction': 0.5917173949330818, 'min_sum_hessian_in_leaf': 1.3145103232150122, 'reg_alpha': 0.0023531598052637494, 'reg_lambda': 0.00010291881465670109}. Best is trial 0 with value: 0.757582040042649.\n"
     ]
    },
    {
     "name": "stdout",
     "output_type": "stream",
     "text": [
      "Start fitting Lvl_0_Pipe_1_Mod_1_LightGBM ...\n",
      "Training until validation scores don't improve for 100 rounds\n",
      "[100]\tvalid's auc: 0.711201\n",
      "Early stopping, best iteration is:\n",
      "[28]\tvalid's auc: 0.737694\n",
      "Training until validation scores don't improve for 100 rounds\n",
      "[100]\tvalid's auc: 0.733434\n",
      "[200]\tvalid's auc: 0.734347\n",
      "Early stopping, best iteration is:\n",
      "[188]\tvalid's auc: 0.737402\n",
      "Training until validation scores don't improve for 100 rounds\n",
      "[100]\tvalid's auc: 0.70686\n",
      "Early stopping, best iteration is:\n",
      "[38]\tvalid's auc: 0.719391\n",
      "Training until validation scores don't improve for 100 rounds\n",
      "[100]\tvalid's auc: 0.723089\n",
      "[200]\tvalid's auc: 0.732296\n",
      "[300]\tvalid's auc: 0.735141\n",
      "[400]\tvalid's auc: 0.741594\n",
      "[500]\tvalid's auc: 0.743734\n",
      "[600]\tvalid's auc: 0.74586\n",
      "[700]\tvalid's auc: 0.748525\n",
      "[800]\tvalid's auc: 0.749828\n",
      "[900]\tvalid's auc: 0.752313\n",
      "[1000]\tvalid's auc: 0.754289\n",
      "Early stopping, best iteration is:\n",
      "[982]\tvalid's auc: 0.754918\n",
      "Training until validation scores don't improve for 100 rounds\n",
      "[100]\tvalid's auc: 0.745306\n",
      "[200]\tvalid's auc: 0.7514\n",
      "[300]\tvalid's auc: 0.749873\n",
      "Early stopping, best iteration is:\n",
      "[237]\tvalid's auc: 0.755637\n",
      "Lvl_0_Pipe_1_Mod_1_LightGBM fitting and predicting completed\n",
      "Start fitting Lvl_0_Pipe_1_Mod_2_CatBoost ...\n",
      "0:\tlearn: 0.6112698\ttest: 0.5800483\tbest: 0.5800483 (0)\ttotal: 5.91ms\tremaining: 2.95s\n",
      "100:\tlearn: 0.8696150\ttest: 0.7339918\tbest: 0.7374867 (78)\ttotal: 483ms\tremaining: 1.91s\n",
      "200:\tlearn: 0.9165419\ttest: 0.7385529\tbest: 0.7387010 (120)\ttotal: 879ms\tremaining: 1.31s\n",
      "300:\tlearn: 0.9493152\ttest: 0.7486080\tbest: 0.7512291 (286)\ttotal: 1.28s\tremaining: 845ms\n",
      "400:\tlearn: 0.9695416\ttest: 0.7475713\tbest: 0.7522805 (370)\ttotal: 1.69s\tremaining: 418ms\n",
      "bestTest = 0.7522805333\n",
      "bestIteration = 370\n",
      "Shrink model to first 371 iterations.\n",
      "0:\tlearn: 0.6773707\ttest: 0.6268377\tbest: 0.6268377 (0)\ttotal: 5.16ms\tremaining: 2.58s\n",
      "100:\tlearn: 0.8689392\ttest: 0.7244064\tbest: 0.7290924 (58)\ttotal: 452ms\tremaining: 1.79s\n",
      "200:\tlearn: 0.9161276\ttest: 0.7350960\tbest: 0.7356948 (199)\ttotal: 835ms\tremaining: 1.24s\n",
      "300:\tlearn: 0.9441370\ttest: 0.7397820\tbest: 0.7397820 (300)\ttotal: 1.23s\tremaining: 815ms\n",
      "400:\tlearn: 0.9677849\ttest: 0.7483756\tbest: 0.7484804 (399)\ttotal: 1.65s\tremaining: 406ms\n"
     ]
    },
    {
     "name": "stderr",
     "output_type": "stream",
     "text": [
      "Time limit exceeded after calculating fold 1\n"
     ]
    },
    {
     "name": "stdout",
     "output_type": "stream",
     "text": [
      "499:\tlearn: 0.9825119\ttest: 0.7444980\tbest: 0.7494835 (419)\ttotal: 2.04s\tremaining: 0us\n",
      "bestTest = 0.7494834661\n",
      "bestIteration = 419\n",
      "Shrink model to first 420 iterations.\n",
      "Lvl_0_Pipe_1_Mod_2_CatBoost fitting and predicting completed\n",
      "Time left 8.881334066390991\n"
     ]
    },
    {
     "name": "stderr",
     "output_type": "stream",
     "text": [
      "Time limit exceeded in one of the tasks. AutoML will blend level 1 models.                                         \n",
      "Try to set higher time limits or use Profiler to find bottleneck and optimize Pipelines settings\n"
     ]
    },
    {
     "name": "stdout",
     "output_type": "stream",
     "text": [
      "Blending: Optimization starts with equal weights and score 0.7415943639753335\n",
      "Blending, iter 0: score = 0.7483119412973852, weights = [0.2155653  0.38461283 0.         0.39982194]\n",
      "Blending, iter 1: score = 0.7487810124766959, weights = [0.11651749 0.44554698 0.         0.4379355 ]\n",
      "Blending, iter 2: score = 0.7487875854486352, weights = [0.11576493 0.4451332  0.         0.43910187]\n",
      "Blending, iter 3: score = 0.759690924640506, weights = [0.         0.5263234  0.         0.47367662]\n",
      "Blending, iter 4: score = 0.759690924640506, weights = [0.         0.5263234  0.         0.47367662]\n",
      "No score update. Terminated\n",
      "\n",
      "Automl preset training completed in 21.65 seconds.\n",
      "Start automl preset with listed constraints:\n",
      "- time: 30 seconds\n",
      "- cpus: 4 cores\n",
      "- memory: 16 gb\n",
      "\n",
      "Train data shape: (3874, 125)\n",
      "Feats was rejected during automatic roles guess: []\n",
      "\n",
      "\n",
      "Layer 1 ...\n",
      "Train process start. Time left 28.878848791122437 secs\n",
      "Start fitting Lvl_0_Pipe_0_Mod_0_LinearL2 ...\n",
      "Linear model: C = 1e-05 score = -0.04201516561734052\n",
      "Linear model: C = 5e-05 score = -0.041861971066834903\n",
      "Linear model: C = 0.0001 score = -0.04190804848194555\n",
      "Linear model: C = 0.0005 score = -0.04247250023404003\n",
      "Linear model: C = 1e-05 score = -0.05090446493938923\n",
      "Linear model: C = 5e-05 score = -0.050790079306630584\n",
      "Linear model: C = 0.0001 score = -0.05087394110109655\n",
      "Linear model: C = 0.0005 score = -0.05133824123060949\n",
      "Linear model: C = 1e-05 score = -0.04375833965728519\n",
      "Linear model: C = 5e-05 score = -0.0439577387175902\n",
      "Linear model: C = 0.0001 score = -0.044164544745754646\n",
      "Linear model: C = 1e-05 score = -0.046519381137949796\n",
      "Linear model: C = 5e-05 score = -0.046023060999854974\n",
      "Linear model: C = 0.0001 score = -0.04577214448955423\n",
      "Linear model: C = 0.0005 score = -0.045622776561700475\n",
      "Linear model: C = 0.001 score = -0.045794500236279165\n",
      "Linear model: C = 0.005 score = -0.04686373476225378\n",
      "Linear model: C = 1e-05 score = -0.05037437667269183\n",
      "Linear model: C = 5e-05 score = -0.05028306695747143\n",
      "Linear model: C = 0.0001 score = -0.0502895682820056\n",
      "Linear model: C = 0.0005 score = -0.05058996141121071\n",
      "Lvl_0_Pipe_0_Mod_0_LinearL2 fitting and predicting completed\n",
      "Time left 25.98452663421631\n",
      "Start fitting LightGBM ...\n",
      "Training until validation scores don't improve for 200 rounds\n",
      "[100]\tvalid's l2: 0.0422626\n",
      "[200]\tvalid's l2: 0.0425391\n",
      "Early stopping, best iteration is:\n",
      "[55]\tvalid's l2: 0.0421438\n",
      "LightGBM fitting and predicting completed\n",
      "Start fitting Lvl_0_Pipe_1_Mod_0_LightGBM ...\n",
      "Training until validation scores don't improve for 200 rounds\n",
      "[100]\tvalid's l2: 0.0419535\n",
      "[200]\tvalid's l2: 0.0420296\n",
      "[300]\tvalid's l2: 0.0422466\n",
      "Early stopping, best iteration is:\n",
      "[111]\tvalid's l2: 0.0419222\n",
      "Training until validation scores don't improve for 200 rounds\n",
      "[100]\tvalid's l2: 0.0507719\n",
      "[200]\tvalid's l2: 0.0508412\n",
      "[300]\tvalid's l2: 0.0509602\n",
      "Early stopping, best iteration is:\n",
      "[117]\tvalid's l2: 0.0507491\n",
      "Training until validation scores don't improve for 200 rounds\n",
      "[100]\tvalid's l2: 0.0439593\n",
      "[200]\tvalid's l2: 0.0442741\n",
      "Early stopping, best iteration is:\n",
      "[7]\tvalid's l2: 0.0438054\n",
      "Training until validation scores don't improve for 200 rounds\n",
      "[100]\tvalid's l2: 0.0466162\n",
      "[200]\tvalid's l2: 0.046608\n",
      "[300]\tvalid's l2: 0.0467292\n",
      "Early stopping, best iteration is:\n",
      "[190]\tvalid's l2: 0.0465546\n",
      "Training until validation scores don't improve for 200 rounds\n",
      "[100]\tvalid's l2: 0.0502791\n",
      "[200]\tvalid's l2: 0.0502046\n",
      "[300]\tvalid's l2: 0.0503055\n",
      "Early stopping, best iteration is:\n",
      "[150]\tvalid's l2: 0.0501251\n",
      "Lvl_0_Pipe_1_Mod_0_LightGBM fitting and predicting completed\n",
      "Optuna may run 1 secs\n"
     ]
    },
    {
     "name": "stderr",
     "output_type": "stream",
     "text": [
      "[2021-02-15 15:53:30,476] (INFO): A new study created in memory with name: no-name-e6d0c516-c013-4c0b-b287-c591d2cf366b\n"
     ]
    },
    {
     "name": "stdout",
     "output_type": "stream",
     "text": [
      "Start fitting Lvl_0_Pipe_1_Mod_1_LightGBM ...\n",
      "Training until validation scores don't improve for 200 rounds\n",
      "[100]\tvalid's l2: 0.0418451\n",
      "[200]\tvalid's l2: 0.0422557\n",
      "Early stopping, best iteration is:\n",
      "[89]\tvalid's l2: 0.0417511\n",
      "Lvl_0_Pipe_1_Mod_1_LightGBM fitting and predicting completed\n"
     ]
    },
    {
     "name": "stderr",
     "output_type": "stream",
     "text": [
      "[2021-02-15 15:53:31,473] (INFO): Trial 0 finished with value: -0.041751138863610274 and parameters: {'feature_fraction': 0.6872700594236812, 'num_leaves': 108, 'bagging_fraction': 0.5917173949330818, 'min_sum_hessian_in_leaf': 1.3145103232150122, 'reg_alpha': 0.0023531598052637494, 'reg_lambda': 0.00010291881465670109}. Best is trial 0 with value: -0.041751138863610274.\n"
     ]
    },
    {
     "name": "stdout",
     "output_type": "stream",
     "text": [
      "Start fitting Lvl_0_Pipe_1_Mod_1_LightGBM ...\n",
      "Training until validation scores don't improve for 200 rounds\n",
      "[100]\tvalid's l2: 0.0422371\n",
      "[200]\tvalid's l2: 0.0426202\n",
      "Early stopping, best iteration is:\n",
      "[38]\tvalid's l2: 0.0420915\n",
      "Lvl_0_Pipe_1_Mod_1_LightGBM fitting and predicting completed\n"
     ]
    },
    {
     "name": "stderr",
     "output_type": "stream",
     "text": [
      "[2021-02-15 15:53:32,536] (INFO): Trial 1 finished with value: -0.042091478569035674 and parameters: {'feature_fraction': 0.5499874579090014, 'num_leaves': 218, 'bagging_fraction': 0.9330880728874675, 'min_sum_hessian_in_leaf': 0.2537815508265665, 'reg_alpha': 0.023585940584142682, 'reg_lambda': 1.5320059381854043e-08}. Best is trial 0 with value: -0.041751138863610274.\n"
     ]
    },
    {
     "name": "stdout",
     "output_type": "stream",
     "text": [
      "Start fitting Lvl_0_Pipe_1_Mod_1_LightGBM ...\n",
      "Training until validation scores don't improve for 100 rounds\n",
      "[100]\tvalid's l2: 0.0444147\n",
      "Early stopping, best iteration is:\n",
      "[5]\tvalid's l2: 0.0419381\n",
      "Training until validation scores don't improve for 100 rounds\n",
      "[100]\tvalid's l2: 0.0515712\n",
      "Early stopping, best iteration is:\n",
      "[57]\tvalid's l2: 0.0508233\n",
      "Training until validation scores don't improve for 100 rounds\n",
      "[100]\tvalid's l2: 0.045572\n",
      "Early stopping, best iteration is:\n",
      "[9]\tvalid's l2: 0.0437364\n",
      "Training until validation scores don't improve for 100 rounds\n",
      "[100]\tvalid's l2: 0.048548\n",
      "Early stopping, best iteration is:\n",
      "[2]\tvalid's l2: 0.0467397\n",
      "Training until validation scores don't improve for 100 rounds\n",
      "[100]\tvalid's l2: 0.051002\n",
      "Early stopping, best iteration is:\n",
      "[31]\tvalid's l2: 0.0503643\n",
      "Lvl_0_Pipe_1_Mod_1_LightGBM fitting and predicting completed\n",
      "Start fitting Lvl_0_Pipe_1_Mod_2_CatBoost ...\n",
      "0:\tlearn: 0.2189736\ttest: 0.2055599\tbest: 0.2055599 (0)\ttotal: 2.73ms\tremaining: 5.46s\n",
      "100:\tlearn: 0.1948325\ttest: 0.2040350\tbest: 0.2036390 (82)\ttotal: 272ms\tremaining: 5.11s\n",
      "200:\tlearn: 0.1756297\ttest: 0.2049096\tbest: 0.2036390 (82)\ttotal: 467ms\tremaining: 4.18s\n",
      "300:\tlearn: 0.1562794\ttest: 0.2070655\tbest: 0.2036390 (82)\ttotal: 679ms\tremaining: 3.83s\n",
      "bestTest = 0.2036389957\n",
      "bestIteration = 82\n",
      "Shrink model to first 83 iterations.\n",
      "0:\tlearn: 0.2137783\ttest: 0.2262914\tbest: 0.2262914 (0)\ttotal: 3.4ms\tremaining: 6.8s\n",
      "100:\tlearn: 0.1892127\ttest: 0.2261846\tbest: 0.2255790 (52)\ttotal: 194ms\tremaining: 3.65s\n",
      "200:\tlearn: 0.1696691\ttest: 0.2264994\tbest: 0.2255790 (52)\ttotal: 384ms\tremaining: 3.44s\n",
      "300:\tlearn: 0.1513191\ttest: 0.2273584\tbest: 0.2255790 (52)\ttotal: 581ms\tremaining: 3.28s\n",
      "bestTest = 0.2255790451\n",
      "bestIteration = 52\n",
      "Shrink model to first 53 iterations.\n",
      "0:\tlearn: 0.2181351\ttest: 0.2093044\tbest: 0.2093044 (0)\ttotal: 2.14ms\tremaining: 4.27s\n",
      "100:\tlearn: 0.1945684\ttest: 0.2085082\tbest: 0.2081691 (58)\ttotal: 184ms\tremaining: 3.46s\n",
      "200:\tlearn: 0.1744181\ttest: 0.2098746\tbest: 0.2081691 (58)\ttotal: 376ms\tremaining: 3.36s\n",
      "300:\tlearn: 0.1575955\ttest: 0.2110571\tbest: 0.2081691 (58)\ttotal: 567ms\tremaining: 3.2s\n",
      "bestTest = 0.2081691379\n",
      "bestIteration = 58\n",
      "Shrink model to first 59 iterations.\n",
      "0:\tlearn: 0.2163221\ttest: 0.2162589\tbest: 0.2162589 (0)\ttotal: 2.45ms\tremaining: 4.89s\n",
      "100:\tlearn: 0.1905480\ttest: 0.2158702\tbest: 0.2157936 (94)\ttotal: 183ms\tremaining: 3.44s\n",
      "200:\tlearn: 0.1700133\ttest: 0.2167668\tbest: 0.2157515 (113)\ttotal: 389ms\tremaining: 3.48s\n",
      "300:\tlearn: 0.1525074\ttest: 0.2176940\tbest: 0.2157515 (113)\ttotal: 581ms\tremaining: 3.28s\n"
     ]
    },
    {
     "name": "stderr",
     "output_type": "stream",
     "text": [
      "Time limit exceeded after calculating fold 3\n"
     ]
    },
    {
     "name": "stdout",
     "output_type": "stream",
     "text": [
      "400:\tlearn: 0.1364989\ttest: 0.2188235\tbest: 0.2157515 (113)\ttotal: 767ms\tremaining: 3.06s\n",
      "bestTest = 0.2157515416\n",
      "bestIteration = 113\n",
      "Shrink model to first 114 iterations.\n",
      "Lvl_0_Pipe_1_Mod_2_CatBoost fitting and predicting completed\n",
      "Optuna may run 1 secs\n"
     ]
    },
    {
     "name": "stderr",
     "output_type": "stream",
     "text": [
      "[2021-02-15 15:53:38,943] (INFO): A new study created in memory with name: no-name-82667bb3-6e0c-484a-bc13-47415c09bf3e\n"
     ]
    },
    {
     "name": "stdout",
     "output_type": "stream",
     "text": [
      "Start fitting Lvl_0_Pipe_1_Mod_3_CatBoost ...\n",
      "0:\tlearn: 0.2187436\ttest: 0.2057458\tbest: 0.2057458 (0)\ttotal: 3.42ms\tremaining: 6.83s\n",
      "100:\tlearn: 0.1794019\ttest: 0.2061866\tbest: 0.2056379 (4)\ttotal: 209ms\tremaining: 3.94s\n",
      "200:\tlearn: 0.1498695\ttest: 0.2061758\tbest: 0.2056379 (4)\ttotal: 425ms\tremaining: 3.81s\n",
      "300:\tlearn: 0.1243054\ttest: 0.2076679\tbest: 0.2056379 (4)\ttotal: 651ms\tremaining: 3.67s\n",
      "bestTest = 0.2056379288\n",
      "bestIteration = 4\n",
      "Shrink model to first 5 iterations.\n",
      "Lvl_0_Pipe_1_Mod_3_CatBoost fitting and predicting completed\n"
     ]
    },
    {
     "name": "stderr",
     "output_type": "stream",
     "text": [
      "[2021-02-15 15:53:40,239] (INFO): Trial 0 finished with value: -0.04228695874681874 and parameters: {'max_depth': 6, 'nan_mode': 'Max', 'l2_leaf_reg': 4.4762373716945623e-07, 'min_data_in_leaf': 8}. Best is trial 0 with value: -0.04228695874681874.\n"
     ]
    },
    {
     "name": "stdout",
     "output_type": "stream",
     "text": [
      "Start fitting Lvl_0_Pipe_1_Mod_3_CatBoost ...\n",
      "0:\tlearn: 0.2189563\ttest: 0.2057367\tbest: 0.2057367 (0)\ttotal: 2.13ms\tremaining: 6.39s\n",
      "100:\tlearn: 0.1926072\ttest: 0.2049080\tbest: 0.2047447 (91)\ttotal: 209ms\tremaining: 6s\n",
      "200:\tlearn: 0.1727962\ttest: 0.2045133\tbest: 0.2040575 (171)\ttotal: 412ms\tremaining: 5.74s\n",
      "bestTest = 0.2040574519\n",
      "bestIteration = 171\n",
      "Shrink model to first 172 iterations.\n",
      "0:\tlearn: 0.2137990\ttest: 0.2263037\tbest: 0.2263037 (0)\ttotal: 3.11ms\tremaining: 9.31s\n",
      "100:\tlearn: 0.1884248\ttest: 0.2267829\tbest: 0.2256598 (57)\ttotal: 212ms\tremaining: 6.08s\n",
      "bestTest = 0.2256597656\n",
      "bestIteration = 57\n",
      "Shrink model to first 58 iterations.\n",
      "0:\tlearn: 0.2180391\ttest: 0.2093067\tbest: 0.2093067 (0)\ttotal: 3.37ms\tremaining: 10.1s\n",
      "100:\tlearn: 0.1922608\ttest: 0.2086420\tbest: 0.2083885 (72)\ttotal: 245ms\tremaining: 7.04s\n",
      "200:\tlearn: 0.1739597\ttest: 0.2081749\tbest: 0.2078291 (163)\ttotal: 461ms\tremaining: 6.43s\n",
      "bestTest = 0.2078290675\n",
      "bestIteration = 163\n",
      "Shrink model to first 164 iterations.\n",
      "0:\tlearn: 0.2163141\ttest: 0.2160734\tbest: 0.2160734 (0)\ttotal: 4.33ms\tremaining: 13s\n",
      "100:\tlearn: 0.1902571\ttest: 0.2162198\tbest: 0.2154968 (27)\ttotal: 227ms\tremaining: 6.51s\n",
      "bestTest = 0.215496808\n",
      "bestIteration = 27\n",
      "Shrink model to first 28 iterations.\n",
      "0:\tlearn: 0.2141527\ttest: 0.2249792\tbest: 0.2249792 (0)\ttotal: 2.67ms\tremaining: 8s\n",
      "100:\tlearn: 0.1897079\ttest: 0.2257246\tbest: 0.2249617 (10)\ttotal: 222ms\tremaining: 6.37s\n",
      "bestTest = 0.2249617188\n",
      "bestIteration = 10\n",
      "Shrink model to first 11 iterations.\n",
      "Lvl_0_Pipe_1_Mod_3_CatBoost fitting and predicting completed\n",
      "Time left 7.74226713180542\n"
     ]
    },
    {
     "name": "stderr",
     "output_type": "stream",
     "text": [
      "Time limit exceeded in one of the tasks. AutoML will blend level 1 models.                                         \n",
      "Try to set higher time limits or use Profiler to find bottleneck and optimize Pipelines settings\n"
     ]
    },
    {
     "name": "stdout",
     "output_type": "stream",
     "text": [
      "Blending: Optimization starts with equal weights and score -0.04631607859588433\n",
      "Blending, iter 0: score = -0.04628554791628095, weights = [0.3845804  0.         0.19999507 0.25805405 0.15737052]\n",
      "Blending, iter 1: score = -0.04628535263136015, weights = [0.36851683 0.         0.21521133 0.25984782 0.156424  ]\n",
      "Blending, iter 2: score = -0.04628534962450757, weights = [0.3702492  0.         0.2131972  0.2601568  0.15639684]\n",
      "Blending, iter 3: score = -0.04628534961015918, weights = [0.37001464 0.         0.21327661 0.26025373 0.1564551 ]\n",
      "Blending, iter 4: score = -0.04628534961015918, weights = [0.37001464 0.         0.21327661 0.26025373 0.1564551 ]\n",
      "No score update. Terminated\n",
      "\n",
      "Automl preset training completed in 22.76 seconds.\n",
      "Start automl preset with listed constraints:\n",
      "- time: 30 seconds\n",
      "- cpus: 4 cores\n",
      "- memory: 16 gb\n",
      "\n",
      "Train data shape: (4126, 125)\n",
      "Feats was rejected during automatic roles guess: []\n",
      "\n",
      "\n",
      "Layer 1 ...\n",
      "Train process start. Time left 28.85930299758911 secs\n",
      "Start fitting Lvl_0_Pipe_0_Mod_0_LinearL2 ...\n",
      "Linear model: C = 1e-05 score = -0.08800713248099865\n",
      "Linear model: C = 5e-05 score = -0.08624062264253977\n",
      "Linear model: C = 0.0001 score = -0.08571126205952215\n",
      "Linear model: C = 0.0005 score = -0.0857070136878126\n",
      "Linear model: C = 0.001 score = -0.08610538959904693\n",
      "Linear model: C = 0.005 score = -0.08741814017112555\n",
      "Linear model: C = 1e-05 score = -0.08905740991059455\n",
      "Linear model: C = 5e-05 score = -0.0879905139906777\n",
      "Linear model: C = 0.0001 score = -0.08791457435722927\n",
      "Linear model: C = 0.0005 score = -0.08877879319767477\n",
      "Linear model: C = 0.001 score = -0.08938445970471519\n",
      "Linear model: C = 1e-05 score = -0.09352114739051576\n",
      "Linear model: C = 5e-05 score = -0.09246200616912174\n",
      "Linear model: C = 0.0001 score = -0.09229622428461233\n",
      "Linear model: C = 0.0005 score = -0.09309789605970274\n",
      "Linear model: C = 0.001 score = -0.0938144255532704\n",
      "Linear model: C = 1e-05 score = -0.09425552682195222\n",
      "Linear model: C = 5e-05 score = -0.09331836228970389\n",
      "Linear model: C = 0.0001 score = -0.09337263327428581\n",
      "Linear model: C = 0.0005 score = -0.09462558983029938\n",
      "Linear model: C = 1e-05 score = -0.09802456252494875\n",
      "Linear model: C = 5e-05 score = -0.09616145383547743\n",
      "Linear model: C = 0.0001 score = -0.09560855117562345\n",
      "Linear model: C = 0.0005 score = -0.09555935308857566\n",
      "Linear model: C = 0.001 score = -0.0959495769000998\n",
      "Linear model: C = 0.005 score = -0.09721983179100784\n",
      "Lvl_0_Pipe_0_Mod_0_LinearL2 fitting and predicting completed\n",
      "Time left 26.119556427001953\n",
      "Start fitting LightGBM ...\n",
      "Training until validation scores don't improve for 200 rounds\n",
      "[100]\tvalid's l2: 0.0849804\n",
      "[200]\tvalid's l2: 0.0836173\n",
      "[300]\tvalid's l2: 0.0834201\n",
      "[400]\tvalid's l2: 0.083344\n",
      "[500]\tvalid's l2: 0.0834699\n",
      "Early stopping, best iteration is:\n",
      "[380]\tvalid's l2: 0.0833242\n",
      "LightGBM fitting and predicting completed\n",
      "Start fitting Lvl_0_Pipe_1_Mod_0_LightGBM ...\n",
      "Training until validation scores don't improve for 200 rounds\n",
      "[100]\tvalid's l2: 0.0852686\n",
      "[200]\tvalid's l2: 0.0843539\n",
      "[300]\tvalid's l2: 0.0840908\n",
      "[400]\tvalid's l2: 0.0839269\n",
      "[500]\tvalid's l2: 0.0841428\n",
      "Early stopping, best iteration is:\n",
      "[380]\tvalid's l2: 0.083822\n",
      "Training until validation scores don't improve for 200 rounds\n",
      "[100]\tvalid's l2: 0.0878202\n",
      "[200]\tvalid's l2: 0.0872919\n",
      "[300]\tvalid's l2: 0.0875429\n",
      "[400]\tvalid's l2: 0.088199\n",
      "Early stopping, best iteration is:\n",
      "[259]\tvalid's l2: 0.0872407\n",
      "Training until validation scores don't improve for 200 rounds\n",
      "[100]\tvalid's l2: 0.0914108\n",
      "[200]\tvalid's l2: 0.0901596\n",
      "[300]\tvalid's l2: 0.0899324\n",
      "[400]\tvalid's l2: 0.0898221\n"
     ]
    },
    {
     "name": "stderr",
     "output_type": "stream",
     "text": [
      "Time limit exceeded after calculating fold 2\n"
     ]
    },
    {
     "name": "stdout",
     "output_type": "stream",
     "text": [
      "[500]\tvalid's l2: 0.0901311\n",
      "Early stopping, best iteration is:\n",
      "[331]\tvalid's l2: 0.0897475\n",
      "Lvl_0_Pipe_1_Mod_0_LightGBM fitting and predicting completed\n",
      "Optuna may run 1 secs\n"
     ]
    },
    {
     "name": "stderr",
     "output_type": "stream",
     "text": [
      "[2021-02-15 15:53:54,709] (INFO): A new study created in memory with name: no-name-b5df84d5-62e6-4b04-ba60-d364d5e59a2b\n"
     ]
    },
    {
     "name": "stdout",
     "output_type": "stream",
     "text": [
      "Start fitting Lvl_0_Pipe_1_Mod_1_LightGBM ...\n",
      "Training until validation scores don't improve for 200 rounds\n",
      "[100]\tvalid's l2: 0.0851073\n",
      "[200]\tvalid's l2: 0.0841987\n",
      "[300]\tvalid's l2: 0.0840475\n",
      "[400]\tvalid's l2: 0.0845643\n",
      "Early stopping, best iteration is:\n",
      "[294]\tvalid's l2: 0.0839441\n",
      "Lvl_0_Pipe_1_Mod_1_LightGBM fitting and predicting completed\n"
     ]
    },
    {
     "name": "stderr",
     "output_type": "stream",
     "text": [
      "[2021-02-15 15:53:56,728] (INFO): Trial 0 finished with value: -0.08394413235941076 and parameters: {'feature_fraction': 0.6872700594236812, 'num_leaves': 108, 'bagging_fraction': 0.5917173949330818, 'min_sum_hessian_in_leaf': 1.3145103232150122, 'reg_alpha': 0.0023531598052637494, 'reg_lambda': 0.00010291881465670109}. Best is trial 0 with value: -0.08394413235941076.\n"
     ]
    },
    {
     "name": "stdout",
     "output_type": "stream",
     "text": [
      "Start fitting Lvl_0_Pipe_1_Mod_1_LightGBM ...\n",
      "Training until validation scores don't improve for 100 rounds\n",
      "[100]\tvalid's l2: 0.0885069\n",
      "Early stopping, best iteration is:\n",
      "[24]\tvalid's l2: 0.0855897\n",
      "Training until validation scores don't improve for 100 rounds\n",
      "[100]\tvalid's l2: 0.0918852\n",
      "Early stopping, best iteration is:\n",
      "[16]\tvalid's l2: 0.0887447\n",
      "Training until validation scores don't improve for 100 rounds\n",
      "[100]\tvalid's l2: 0.0949859\n",
      "Early stopping, best iteration is:\n",
      "[40]\tvalid's l2: 0.0905488\n",
      "Training until validation scores don't improve for 100 rounds\n",
      "[100]\tvalid's l2: 0.0986737\n",
      "Early stopping, best iteration is:\n",
      "[13]\tvalid's l2: 0.0948658\n",
      "Training until validation scores don't improve for 100 rounds\n",
      "[100]\tvalid's l2: 0.0989919\n",
      "Early stopping, best iteration is:\n",
      "[43]\tvalid's l2: 0.0965613\n",
      "Lvl_0_Pipe_1_Mod_1_LightGBM fitting and predicting completed\n",
      "Start fitting Lvl_0_Pipe_1_Mod_2_CatBoost ...\n",
      "0:\tlearn: 0.3079421\ttest: 0.2987882\tbest: 0.2987882 (0)\ttotal: 4.13ms\tremaining: 8.25s\n",
      "100:\tlearn: 0.2787539\ttest: 0.2924713\tbest: 0.2924094 (99)\ttotal: 289ms\tremaining: 5.44s\n",
      "200:\tlearn: 0.2579705\ttest: 0.2925354\tbest: 0.2918919 (121)\ttotal: 482ms\tremaining: 4.31s\n",
      "300:\tlearn: 0.2370700\ttest: 0.2927780\tbest: 0.2918919 (121)\ttotal: 666ms\tremaining: 3.76s\n",
      "400:\tlearn: 0.2181644\ttest: 0.2937690\tbest: 0.2918919 (121)\ttotal: 888ms\tremaining: 3.54s\n",
      "bestTest = 0.2918919059\n",
      "bestIteration = 121\n",
      "Shrink model to first 122 iterations.\n",
      "0:\tlearn: 0.3075881\ttest: 0.3002692\tbest: 0.3002692 (0)\ttotal: 2.19ms\tremaining: 4.39s\n",
      "100:\tlearn: 0.2784985\ttest: 0.2962812\tbest: 0.2962262 (64)\ttotal: 191ms\tremaining: 3.59s\n",
      "200:\tlearn: 0.2556934\ttest: 0.2968867\tbest: 0.2957637 (141)\ttotal: 370ms\tremaining: 3.31s\n",
      "300:\tlearn: 0.2346627\ttest: 0.2985298\tbest: 0.2957637 (141)\ttotal: 579ms\tremaining: 3.27s\n",
      "400:\tlearn: 0.2166878\ttest: 0.2993460\tbest: 0.2957637 (141)\ttotal: 775ms\tremaining: 3.09s\n",
      "bestTest = 0.2957636883\n",
      "bestIteration = 141\n",
      "Shrink model to first 142 iterations.\n",
      "0:\tlearn: 0.3056328\ttest: 0.3075414\tbest: 0.3075414 (0)\ttotal: 2.1ms\tremaining: 4.21s\n",
      "100:\tlearn: 0.2752783\ttest: 0.3015255\tbest: 0.3014927 (99)\ttotal: 159ms\tremaining: 3s\n",
      "200:\tlearn: 0.2538043\ttest: 0.3008475\tbest: 0.3008475 (200)\ttotal: 314ms\tremaining: 2.81s\n",
      "300:\tlearn: 0.2321464\ttest: 0.3014156\tbest: 0.3003055 (229)\ttotal: 468ms\tremaining: 2.64s\n",
      "400:\tlearn: 0.2144074\ttest: 0.3025149\tbest: 0.3003055 (229)\ttotal: 637ms\tremaining: 2.54s\n",
      "500:\tlearn: 0.1988387\ttest: 0.3028980\tbest: 0.3003055 (229)\ttotal: 790ms\tremaining: 2.36s\n"
     ]
    },
    {
     "name": "stderr",
     "output_type": "stream",
     "text": [
      "Time limit exceeded after calculating fold 2\n"
     ]
    },
    {
     "name": "stdout",
     "output_type": "stream",
     "text": [
      "bestTest = 0.3003054518\n",
      "bestIteration = 229\n",
      "Shrink model to first 230 iterations.\n",
      "Lvl_0_Pipe_1_Mod_2_CatBoost fitting and predicting completed\n",
      "Optuna may run 1 secs\n"
     ]
    },
    {
     "name": "stderr",
     "output_type": "stream",
     "text": [
      "[2021-02-15 15:54:03,254] (INFO): A new study created in memory with name: no-name-190831ed-495e-4118-973f-c7b374bc7f96\n"
     ]
    },
    {
     "name": "stdout",
     "output_type": "stream",
     "text": [
      "Start fitting Lvl_0_Pipe_1_Mod_3_CatBoost ...\n",
      "0:\tlearn: 0.3075129\ttest: 0.2980686\tbest: 0.2980686 (0)\ttotal: 2.3ms\tremaining: 4.6s\n",
      "100:\tlearn: 0.2608332\ttest: 0.2916723\tbest: 0.2913815 (82)\ttotal: 177ms\tremaining: 3.32s\n",
      "200:\tlearn: 0.2279068\ttest: 0.2923531\tbest: 0.2913815 (82)\ttotal: 367ms\tremaining: 3.29s\n",
      "300:\tlearn: 0.1981658\ttest: 0.2941775\tbest: 0.2913815 (82)\ttotal: 571ms\tremaining: 3.22s\n",
      "bestTest = 0.2913814889\n",
      "bestIteration = 82\n",
      "Shrink model to first 83 iterations.\n",
      "Lvl_0_Pipe_1_Mod_3_CatBoost fitting and predicting completed\n"
     ]
    },
    {
     "name": "stderr",
     "output_type": "stream",
     "text": [
      "[2021-02-15 15:54:04,650] (INFO): Trial 0 finished with value: -0.0849031639990009 and parameters: {'max_depth': 6, 'nan_mode': 'Max', 'l2_leaf_reg': 4.4762373716945623e-07, 'min_data_in_leaf': 8}. Best is trial 0 with value: -0.0849031639990009.\n"
     ]
    },
    {
     "name": "stdout",
     "output_type": "stream",
     "text": [
      "Start fitting Lvl_0_Pipe_1_Mod_3_CatBoost ...\n",
      "0:\tlearn: 0.3078785\ttest: 0.2984426\tbest: 0.2984426 (0)\ttotal: 4.47ms\tremaining: 13.4s\n",
      "100:\tlearn: 0.2748744\ttest: 0.2905843\tbest: 0.2905843 (100)\ttotal: 201ms\tremaining: 5.77s\n",
      "200:\tlearn: 0.2540287\ttest: 0.2901054\tbest: 0.2898661 (148)\ttotal: 383ms\tremaining: 5.33s\n",
      "bestTest = 0.2898661315\n",
      "bestIteration = 148\n",
      "Shrink model to first 149 iterations.\n",
      "0:\tlearn: 0.3074127\ttest: 0.3002040\tbest: 0.3002040 (0)\ttotal: 2.6ms\tremaining: 7.81s\n",
      "100:\tlearn: 0.2738830\ttest: 0.2946302\tbest: 0.2944386 (95)\ttotal: 185ms\tremaining: 5.31s\n",
      "bestTest = 0.2944385793\n",
      "bestIteration = 95\n",
      "Shrink model to first 96 iterations.\n",
      "0:\tlearn: 0.3056738\ttest: 0.3074561\tbest: 0.3074561 (0)\ttotal: 2.32ms\tremaining: 6.95s\n",
      "100:\tlearn: 0.2716304\ttest: 0.3007999\tbest: 0.3006421 (88)\ttotal: 230ms\tremaining: 6.61s\n",
      "200:\tlearn: 0.2495828\ttest: 0.3007540\tbest: 0.3002207 (152)\ttotal: 405ms\tremaining: 5.63s\n",
      "bestTest = 0.3002207243\n",
      "bestIteration = 152\n",
      "Shrink model to first 153 iterations.\n",
      "0:\tlearn: 0.3051717\ttest: 0.3095064\tbest: 0.3095064 (0)\ttotal: 2.6ms\tremaining: 7.8s\n",
      "100:\tlearn: 0.2693479\ttest: 0.3073682\tbest: 0.3068539 (46)\ttotal: 178ms\tremaining: 5.11s\n",
      "200:\tlearn: 0.2477237\ttest: 0.3079751\tbest: 0.3067960 (131)\ttotal: 362ms\tremaining: 5.05s\n",
      "bestTest = 0.3067959535\n",
      "bestIteration = 131\n",
      "Shrink model to first 132 iterations.\n",
      "0:\tlearn: 0.3035669\ttest: 0.3157092\tbest: 0.3157092 (0)\ttotal: 3.8ms\tremaining: 11.4s\n",
      "100:\tlearn: 0.2699471\ttest: 0.3089075\tbest: 0.3089075 (100)\ttotal: 199ms\tremaining: 5.71s\n",
      "200:\tlearn: 0.2488044\ttest: 0.3092838\tbest: 0.3088606 (154)\ttotal: 437ms\tremaining: 6.08s\n",
      "bestTest = 0.3088605692\n",
      "bestIteration = 154\n",
      "Shrink model to first 155 iterations.\n",
      "Lvl_0_Pipe_1_Mod_3_CatBoost fitting and predicting completed\n",
      "Time left 6.55254340171814\n"
     ]
    },
    {
     "name": "stderr",
     "output_type": "stream",
     "text": [
      "Time limit exceeded in one of the tasks. AutoML will blend level 1 models.                                         \n",
      "Try to set higher time limits or use Profiler to find bottleneck and optimize Pipelines settings\n"
     ]
    },
    {
     "name": "stdout",
     "output_type": "stream",
     "text": [
      "Blending: Optimization starts with equal weights and score -0.0898162004588539\n",
      "Blending, iter 0: score = -0.08965197394633671, weights = [0.10299551 0.5801565  0.         0.2123162  0.10453183]\n",
      "Blending, iter 1: score = -0.0896518932183273, weights = [0.10698034 0.5782108  0.         0.21387018 0.10093876]\n",
      "Blending, iter 2: score = -0.0896519250042691, weights = [0.10491388 0.580606   0.         0.21549109 0.09898901]\n",
      "Blending, iter 3: score = -0.08965197044943746, weights = [0.10357203 0.5821435  0.         0.21656156 0.09772294]\n",
      "Blending, iter 4: score = -0.089651889501419, weights = [0.10268024 0.5831688  0.         0.2172695  0.09688152]\n",
      "\n",
      "Automl preset training completed in 23.92 seconds.\n",
      "CPU times: user 4min 34s, sys: 18 s, total: 4min 52s\n",
      "Wall time: 1min 58s\n"
     ]
    }
   ],
   "source": [
    "%%time\n",
    "\n",
    "# Custom base algorithm\n",
    "xlearner = meta_learners.XLearner(\n",
    "    propensity_learner=TabularAutoML(task=Task('binary'), timeout=30),\n",
    "    outcome_learners=[\n",
    "        TabularAutoML(task=Task('binary'), timeout=30),\n",
    "        TabularAutoML(task=Task('binary'), timeout=30)\n",
    "    ],\n",
    "    effect_learners=[\n",
    "        TabularAutoML(task=Task('reg'), timeout=30),\n",
    "        TabularAutoML(task=Task('reg'), timeout=30)\n",
    "    ]\n",
    ")\n",
    "xlearner.fit(train, roles)"
   ]
  },
  {
   "cell_type": "markdown",
   "metadata": {},
   "source": [
    "### Predict to test data and check metrics"
   ]
  },
  {
   "cell_type": "code",
   "execution_count": 13,
   "metadata": {},
   "outputs": [
    {
     "name": "stderr",
     "output_type": "stream",
     "text": [
      "[2021-02-15 15:54:13,085] (INFO): --- Check scores ---\n",
      "[2021-02-15 15:54:13,086] (INFO): OOF scores \"ROC_AUC\":\n",
      "[2021-02-15 15:54:13,086] (INFO): \tTreatment = 0.736287\n",
      "[2021-02-15 15:54:13,086] (INFO): \tControl   = 0.696889\n",
      "[2021-02-15 15:54:13,087] (INFO): Uplift score of test group (default=\"adj_qini\"):\n",
      "[2021-02-15 15:54:13,087] (INFO): \tBaseline      = 0.027138\n",
      "[2021-02-15 15:54:13,087] (INFO): \tAlgo (Normed) = 0.035572 (0.368601)\n",
      "[2021-02-15 15:54:13,088] (INFO): \tPerfect       = 0.096506\n"
     ]
    },
    {
     "name": "stdout",
     "output_type": "stream",
     "text": [
      "CPU times: user 5.53 s, sys: 75.1 ms, total: 5.61 s\n",
      "Wall time: 4.04 s\n"
     ]
    }
   ],
   "source": [
    "%%time\n",
    "\n",
    "uplift_pred, treatment_pred, control_pred = xlearner.predict(test)\n",
    "uplift_pred = uplift_pred.ravel()\n",
    "\n",
    "roc_auc_treatment = roc_auc_score(test_target[test_treatment == 1], treatment_pred[test_treatment == 1])\n",
    "roc_auc_control = roc_auc_score(test_target[test_treatment == 0], control_pred[test_treatment == 0])\n",
    "\n",
    "uplift_auc_algo = calculate_uplift_auc(test_target, uplift_pred, test_treatment, normed=False)\n",
    "uplift_auc_algo_normed = calculate_uplift_auc(test_target, uplift_pred, test_treatment, normed=True)\n",
    "auc_base, auc_perfect = calculate_min_max_uplift_auc(test_target, test_treatment)\n",
    "\n",
    "logging.info('--- Check scores ---')\n",
    "logging.info('OOF scores \"ROC_AUC\":')\n",
    "logging.info('\\tTreatment = %f', roc_auc_treatment)\n",
    "logging.info('\\tControl   = %f', roc_auc_control)\n",
    "logging.info('Uplift score of test group (default=\"adj_qini\"):')\n",
    "logging.info('\\tBaseline      = %f', auc_base)\n",
    "logging.info('\\tAlgo (Normed) = %f (%f)', uplift_auc_algo, uplift_auc_algo_normed)\n",
    "logging.info('\\tPerfect       = %f', auc_perfect)"
   ]
  },
  {
   "cell_type": "markdown",
   "metadata": {},
   "source": [
    "# Uplift metrics and graphics (using xlearner predictions)"
   ]
  },
  {
   "cell_type": "code",
   "execution_count": 14,
   "metadata": {},
   "outputs": [
    {
     "name": "stderr",
     "output_type": "stream",
     "text": [
      "[2021-02-15 15:54:13,092] (INFO): All available uplift metrics: ('qini', 'cum_gain', 'adj_qini')\n"
     ]
    },
    {
     "name": "stdout",
     "output_type": "stream",
     "text": [
      "CPU times: user 938 µs, sys: 0 ns, total: 938 µs\n",
      "Wall time: 628 µs\n"
     ]
    }
   ],
   "source": [
    "%%time \n",
    "\n",
    "UPLIFT_METRIC = 'adj_qini'\n",
    "\n",
    "logging.info(\"All available uplift metrics: %s\", _available_uplift_modes)"
   ]
  },
  {
   "cell_type": "markdown",
   "metadata": {},
   "source": [
    "## Algorithm uplift curve "
   ]
  },
  {
   "cell_type": "code",
   "execution_count": 15,
   "metadata": {},
   "outputs": [
    {
     "name": "stdout",
     "output_type": "stream",
     "text": [
      "CPU times: user 955 µs, sys: 0 ns, total: 955 µs\n",
      "Wall time: 768 µs\n"
     ]
    }
   ],
   "source": [
    "%%time\n",
    "\n",
    "# Algorithm curve\n",
    "xs_xlearner, ys_xlearner = calculate_graphic_uplift_curve(\n",
    "    test_target, uplift_pred, test_treatment, mode=UPLIFT_METRIC\n",
    ")"
   ]
  },
  {
   "cell_type": "markdown",
   "metadata": {},
   "source": [
    "## Baseline, perfect curve"
   ]
  },
  {
   "cell_type": "code",
   "execution_count": 16,
   "metadata": {},
   "outputs": [],
   "source": [
    "# Baseline curve\n",
    "xs_base, ys_base = [0, 1], [0, ys_xlearner[-1]]\n",
    "\n",
    "# Perfect curver\n",
    "perfect_uplift = perfect_uplift_curve(test_target, test_treatment)\n",
    "xs_perfect, ys_perfect = calculate_graphic_uplift_curve(\n",
    "    test_target, perfect_uplift, test_treatment, mode=UPLIFT_METRIC)"
   ]
  },
  {
   "cell_type": "code",
   "execution_count": 17,
   "metadata": {},
   "outputs": [
    {
     "data": {
      "image/png": "[encoded data removed]",
      "text/plain": [
       "<Figure size 720x504 with 1 Axes>"
      ]
     },
     "metadata": {
      "needs_background": "light"
     },
     "output_type": "display_data"
    }
   ],
   "source": [
    "plt.figure(figsize=(10, 7))\n",
    "\n",
    "plt.plot(xs_base, ys_base, 'black')\n",
    "plt.plot(xs_xlearner, ys_xlearner, 'red')\n",
    "plt.plot(xs_perfect, ys_perfect, 'green')\n",
    "\n",
    "plt.fill_between(xs_xlearner, ys_xlearner, alpha=0.5, color='orange')\n",
    "\n",
    "plt.xlabel('Cumulative percentage of people in T/C groups')\n",
    "plt.ylabel('Uplift metric (%s)'.format(UPLIFT_METRIC))\n",
    "plt.grid()\n",
    "plt.legend(['Baseline', 'XLearner', 'Perfect']);"
   ]
  },
  {
   "cell_type": "markdown",
   "metadata": {},
   "source": [
    "# Report"
   ]
  },
  {
   "cell_type": "code",
   "execution_count": 18,
   "metadata": {},
   "outputs": [
    {
     "name": "stdout",
     "output_type": "stream",
     "text": [
      "Train data shape: (4126, 125)\n",
      "Feats was rejected during automatic roles guess: ['FLAG_DOCUMENT_9', 'FLAG_DOCUMENT_11', 'FLAG_DOCUMENT_13', 'FLAG_DOCUMENT_14', 'FLAG_DOCUMENT_16', 'FLAG_DOCUMENT_18', 'FLAG_DOCUMENT_19', 'NAME_TYPE_SUITE']\n",
      "\n",
      "\n",
      "Layer 1 ...\n",
      "Train process start. Time left 9999999999.077793 secs\n",
      "Start fitting Lvl_0_Pipe_0_Mod_0_LinearL2 ...\n",
      "Linear model: C = 1e-05 score = 0.6811692927378272\n",
      "Linear model: C = 5e-05 score = 0.7071585120246417\n",
      "Linear model: C = 0.0001 score = 0.7262320815069304\n",
      "Linear model: C = 0.0005 score = 0.7715318090273664\n",
      "Linear model: C = 0.001 score = 0.7800616040753465\n",
      "Linear model: C = 0.005 score = 0.7778847292974767\n",
      "Linear model: C = 0.01 score = 0.7718872171543656\n",
      "Linear model: C = 1e-05 score = 0.6514507291074048\n",
      "Linear model: C = 5e-05 score = 0.6661975626553283\n",
      "Linear model: C = 0.0001 score = 0.6793574273138305\n",
      "Linear model: C = 0.0005 score = 0.7096445788543881\n",
      "Linear model: C = 0.001 score = 0.7198850196125401\n",
      "Linear model: C = 0.005 score = 0.7289277480013174\n",
      "Linear model: C = 0.01 score = 0.7267868371410606\n",
      "Linear model: C = 0.05 score = 0.7132526873671288\n",
      "Linear model: C = 1e-05 score = 0.6415845734646823\n",
      "Linear model: C = 5e-05 score = 0.6551486660478486\n",
      "Linear model: C = 0.0001 score = 0.6662574482737971\n",
      "Linear model: C = 0.0005 score = 0.6950175165434022\n",
      "Linear model: C = 0.001 score = 0.706335898433991\n",
      "Linear model: C = 0.005 score = 0.7190915351678295\n",
      "Linear model: C = 0.01 score = 0.7190765637632123\n",
      "Linear model: C = 0.05 score = 0.7055573853938977\n",
      "Linear model: C = 1e-05 score = 0.6424080007186275\n",
      "Linear model: C = 5e-05 score = 0.6638021379165793\n",
      "Linear model: C = 0.0001 score = 0.6804203970416505\n",
      "Linear model: C = 0.0005 score = 0.7136269724825584\n",
      "Linear model: C = 0.001 score = 0.7204838757972273\n",
      "Linear model: C = 0.005 score = 0.7255292391532173\n",
      "Linear model: C = 0.01 score = 0.7223553013743749\n",
      "Linear model: C = 0.05 score = 0.7142258286672456\n",
      "Linear model: C = 1e-05 score = 0.6474234212653832\n",
      "Linear model: C = 5e-05 score = 0.6673952750247029\n",
      "Linear model: C = 0.0001 score = 0.6859598167500076\n",
      "Linear model: C = 0.0005 score = 0.7307542593646135\n",
      "Linear model: C = 0.001 score = 0.7424768691798664\n",
      "Linear model: C = 0.005 score = 0.7485852022636763\n",
      "Linear model: C = 0.01 score = 0.7460550348833728\n",
      "Linear model: C = 0.05 score = 0.7321166571847771\n",
      "Lvl_0_Pipe_0_Mod_0_LinearL2 fitting and predicting completed\n",
      "Time left 9999999995.7797\n",
      "Train data shape: (3874, 125)\n",
      "Feats was rejected during automatic roles guess: ['FLAG_OWN_REALTY']\n",
      "\n",
      "\n",
      "Layer 1 ...\n",
      "Train process start. Time left 9999999998.976913 secs\n",
      "Start fitting Lvl_0_Pipe_0_Mod_0_LinearL2 ...\n",
      "Linear model: C = 1e-05 score = 0.6099498327759197\n",
      "Linear model: C = 5e-05 score = 0.624860646599777\n",
      "Linear model: C = 0.0001 score = 0.6332566889632107\n",
      "Linear model: C = 0.0005 score = 0.6603957636566332\n",
      "Linear model: C = 0.001 score = 0.6688614827201784\n",
      "Linear model: C = 0.005 score = 0.6788600891861761\n",
      "Linear model: C = 0.01 score = 0.679278149386845\n",
      "Linear model: C = 0.05 score = 0.6718227424749164\n",
      "Linear model: C = 0.1 score = 0.6659002229654404\n",
      "Linear model: C = 1e-05 score = 0.6900340136054421\n",
      "Linear model: C = 5e-05 score = 0.6893027210884354\n",
      "Linear model: C = 0.0001 score = 0.6890136054421769\n",
      "Linear model: C = 1e-05 score = 0.701530612244898\n",
      "Linear model: C = 5e-05 score = 0.7148979591836735\n",
      "Linear model: C = 0.0001 score = 0.7269727891156462\n",
      "Linear model: C = 0.0005 score = 0.7601700680272108\n",
      "Linear model: C = 0.001 score = 0.7734013605442177\n",
      "Linear model: C = 0.005 score = 0.7904421768707484\n",
      "Linear model: C = 0.01 score = 0.7904761904761904\n",
      "Linear model: C = 0.05 score = 0.7831632653061225\n",
      "Linear model: C = 0.1 score = 0.7782653061224489\n",
      "Linear model: C = 1e-05 score = 0.5790136054421768\n",
      "Linear model: C = 5e-05 score = 0.5951020408163266\n",
      "Linear model: C = 0.0001 score = 0.6082993197278911\n",
      "Linear model: C = 0.0005 score = 0.6872448979591838\n",
      "Linear model: C = 0.001 score = 0.7233673469387756\n",
      "Linear model: C = 0.005 score = 0.7759863945578231\n",
      "Linear model: C = 0.01 score = 0.7837755102040816\n",
      "Linear model: C = 0.05 score = 0.7931972789115647\n",
      "Linear model: C = 0.1 score = 0.7877551020408163\n",
      "Linear model: C = 0.5 score = 0.7639795918367347\n",
      "Linear model: C = 1e-05 score = 0.6058956916099772\n",
      "Linear model: C = 5e-05 score = 0.6142333856619571\n",
      "Linear model: C = 0.0001 score = 0.6201290772719344\n",
      "Linear model: C = 0.0005 score = 0.6416884702598988\n",
      "Linear model: C = 0.001 score = 0.6482818768533055\n",
      "Linear model: C = 0.005 score = 0.6537240537240536\n",
      "Linear model: C = 0.01 score = 0.6533751962323391\n",
      "Linear model: C = 0.05 score = 0.6455607884179313\n",
      "Lvl_0_Pipe_0_Mod_0_LinearL2 fitting and predicting completed\n",
      "Time left 9999999995.664227\n",
      "CPU times: user 24.5 s, sys: 279 ms, total: 24.8 s\n",
      "Wall time: 15.7 s\n"
     ]
    },
    {
     "data": {
      "text/plain": [
       "(array([ 0.03579801,  0.050707  ,  0.00819561, ..., -0.01529248,\n",
       "         0.0715549 ,  0.06681152], dtype=float32),\n",
       " array([0.08295936, 0.08791099, 0.02465368, ..., 0.08157068, 0.12309559,\n",
       "        0.11612513], dtype=float32),\n",
       " array([0.04716135, 0.037204  , 0.01645806, ..., 0.09686317, 0.05154068,\n",
       "        0.0493136 ], dtype=float32))"
      ]
     },
     "execution_count": 18,
     "metadata": {},
     "output_type": "execute_result"
    },
    {
     "data": {
      "image/png": "[encoded data removed]",
      "text/plain": [
       "<Figure size 720x2160 with 3 Axes>"
      ]
     },
     "metadata": {},
     "output_type": "display_data"
    }
   ],
   "source": [
    "%%time\n",
    "\n",
    "RDU = ReportDecoUplift()\n",
    "tlearner_deco = RDU(meta_learners.TLearner(base_task=Task('binary')))\n",
    "tlearner_deco.fit(train, roles)\n",
    "tlearner_deco.predict(test);\n",
    "\n",
    "# Path to report: PATH_TO_CURRENT_NOTEBOOK/lama_report/lama_interactive_report.html"
   ]
  },
  {
   "cell_type": "code",
   "execution_count": null,
   "metadata": {},
   "outputs": [],
   "source": []
  }
 ],
 "metadata": {
  "kernelspec": {
   "display_name": "Python 3.8.5 64-bit ('lama_venv')",
   "language": "python",
   "name": "python38564bitlamavenv59c2c471446542c5a82f1a901d0eaec6"
  },
  "language_info": {
   "codemirror_mode": {
    "name": "ipython",
    "version": 3
   },
   "file_extension": ".py",
   "mimetype": "text/x-python",
   "name": "python",
   "nbconvert_exporter": "python",
   "pygments_lexer": "ipython3",
   "version": "3.8.5"
  },
  "toc": {
   "base_numbering": 1,
   "nav_menu": {},
   "number_sections": true,
   "sideBar": true,
   "skip_h1_title": false,
   "title_cell": "Table of Contents",
   "title_sidebar": "Contents",
   "toc_cell": false,
   "toc_position": {},
   "toc_section_display": true,
   "toc_window_display": true
  }
 },
 "nbformat": 4,
 "nbformat_minor": 4
}
