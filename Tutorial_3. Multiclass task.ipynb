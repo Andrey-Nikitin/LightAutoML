{
 "cells": [
  {
   "cell_type": "markdown",
   "metadata": {},
   "source": [
    "# Step 0.1. Import necessary libraries "
   ]
  },
  {
   "cell_type": "code",
   "execution_count": 1,
   "metadata": {},
   "outputs": [],
   "source": [
    "# Standard python libraries\n",
    "import logging\n",
    "import os\n",
    "import time\n",
    "logging.basicConfig(format='[%(asctime)s] (%(levelname)s): %(message)s', level=logging.INFO)\n",
    "\n",
    "# Installed libraries\n",
    "import numpy as np\n",
    "import pandas as pd\n",
    "from sklearn.metrics import roc_auc_score, log_loss\n",
    "from sklearn.model_selection import train_test_split\n",
    "import torch\n",
    "\n",
    "# Imports from our package\n",
    "from lightautoml.automl.base import AutoML\n",
    "from lightautoml.automl.blend import WeightedBlender\n",
    "from lightautoml.ml_algo.boost_lgbm import BoostLGBM\n",
    "from lightautoml.ml_algo.linear_sklearn import LinearLBFGS\n",
    "from lightautoml.ml_algo.tuning.optuna import OptunaTuner\n",
    "from lightautoml.pipelines.features.lgb_pipeline import LGBSimpleFeatures, LGBAdvancedPipeline\n",
    "from lightautoml.pipelines.features.linear_pipeline import LinearFeatures\n",
    "from lightautoml.pipelines.ml.base import MLPipeline\n",
    "from lightautoml.pipelines.selection.importance_based import ModelBasedImportanceEstimator, ImportanceCutoffSelector\n",
    "from lightautoml.reader.base import PandasToPandasReader\n",
    "from lightautoml.tasks import Task\n",
    "from lightautoml.utils.profiler import Profiler\n",
    "from lightautoml.utils.timer import PipelineTimer"
   ]
  },
  {
   "cell_type": "markdown",
   "metadata": {},
   "source": [
    "# Step 0.2. Parameters "
   ]
  },
  {
   "cell_type": "code",
   "execution_count": 2,
   "metadata": {},
   "outputs": [],
   "source": [
    "N_THREADS = 8 # threads cnt for lgbm and linear models\n",
    "N_FOLDS = 5 # folds cnt for AutoML\n",
    "RANDOM_STATE = 42 # fixed random state for various reasons\n",
    "TEST_SIZE = 0.2 # Test size for metric check\n",
    "TIMEOUT = 600 # Time in seconds for automl run\n",
    "TARGET_NAME = 'TARGET' # Target column name"
   ]
  },
  {
   "cell_type": "markdown",
   "metadata": {},
   "source": [
    "# Step 0.3. Fix torch number of threads and numpy seed "
   ]
  },
  {
   "cell_type": "code",
   "execution_count": 3,
   "metadata": {},
   "outputs": [],
   "source": [
    "np.random.seed(RANDOM_STATE)\n",
    "torch.set_num_threads(N_THREADS)"
   ]
  },
  {
   "cell_type": "markdown",
   "metadata": {},
   "source": [
    "# Step 0.4. Change profiling decorators settings "
   ]
  },
  {
   "cell_type": "markdown",
   "metadata": {},
   "source": [
    "By default, profiling decorators are turned off for speed and memory reduction. If you want to see profiling report after using LAMA, you need to turn on the decorators using command below: "
   ]
  },
  {
   "cell_type": "code",
   "execution_count": 4,
   "metadata": {},
   "outputs": [
    {
     "name": "stdout",
     "output_type": "stream",
     "text": [
      "ALL_FUNCS len = 381\n",
      "\t Func with no decorator - <function numpy_and_pandas_concat at 0x7fc085cac950>\n"
     ]
    }
   ],
   "source": [
    "p = Profiler()\n",
    "p.change_deco_settings({'enabled': True})"
   ]
  },
  {
   "cell_type": "markdown",
   "metadata": {},
   "source": [
    "# Step 0.5. Example data load "
   ]
  },
  {
   "cell_type": "code",
   "execution_count": 5,
   "metadata": {},
   "outputs": [
    {
     "name": "stdout",
     "output_type": "stream",
     "text": [
      "CPU times: user 76.7 ms, sys: 7.77 ms, total: 84.4 ms\n",
      "Wall time: 84.1 ms\n"
     ]
    },
    {
     "data": {
      "text/html": [
       "<div>\n",
       "<style scoped>\n",
       "    .dataframe tbody tr th:only-of-type {\n",
       "        vertical-align: middle;\n",
       "    }\n",
       "\n",
       "    .dataframe tbody tr th {\n",
       "        vertical-align: top;\n",
       "    }\n",
       "\n",
       "    .dataframe thead th {\n",
       "        text-align: right;\n",
       "    }\n",
       "</style>\n",
       "<table border=\"1\" class=\"dataframe\">\n",
       "  <thead>\n",
       "    <tr style=\"text-align: right;\">\n",
       "      <th></th>\n",
       "      <th>SK_ID_CURR</th>\n",
       "      <th>TARGET</th>\n",
       "      <th>NAME_CONTRACT_TYPE</th>\n",
       "      <th>CODE_GENDER</th>\n",
       "      <th>FLAG_OWN_CAR</th>\n",
       "      <th>FLAG_OWN_REALTY</th>\n",
       "      <th>CNT_CHILDREN</th>\n",
       "      <th>AMT_INCOME_TOTAL</th>\n",
       "      <th>AMT_CREDIT</th>\n",
       "      <th>AMT_ANNUITY</th>\n",
       "      <th>...</th>\n",
       "      <th>FLAG_DOCUMENT_18</th>\n",
       "      <th>FLAG_DOCUMENT_19</th>\n",
       "      <th>FLAG_DOCUMENT_20</th>\n",
       "      <th>FLAG_DOCUMENT_21</th>\n",
       "      <th>AMT_REQ_CREDIT_BUREAU_HOUR</th>\n",
       "      <th>AMT_REQ_CREDIT_BUREAU_DAY</th>\n",
       "      <th>AMT_REQ_CREDIT_BUREAU_WEEK</th>\n",
       "      <th>AMT_REQ_CREDIT_BUREAU_MON</th>\n",
       "      <th>AMT_REQ_CREDIT_BUREAU_QRT</th>\n",
       "      <th>AMT_REQ_CREDIT_BUREAU_YEAR</th>\n",
       "    </tr>\n",
       "  </thead>\n",
       "  <tbody>\n",
       "    <tr>\n",
       "      <th>0</th>\n",
       "      <td>313802</td>\n",
       "      <td>0</td>\n",
       "      <td>Cash loans</td>\n",
       "      <td>M</td>\n",
       "      <td>N</td>\n",
       "      <td>Y</td>\n",
       "      <td>0</td>\n",
       "      <td>270000.0</td>\n",
       "      <td>327024.0</td>\n",
       "      <td>15372.0</td>\n",
       "      <td>...</td>\n",
       "      <td>0</td>\n",
       "      <td>0</td>\n",
       "      <td>0</td>\n",
       "      <td>0</td>\n",
       "      <td>0.0</td>\n",
       "      <td>0.0</td>\n",
       "      <td>0.0</td>\n",
       "      <td>0.0</td>\n",
       "      <td>0.0</td>\n",
       "      <td>1.0</td>\n",
       "    </tr>\n",
       "    <tr>\n",
       "      <th>1</th>\n",
       "      <td>319656</td>\n",
       "      <td>0</td>\n",
       "      <td>Cash loans</td>\n",
       "      <td>F</td>\n",
       "      <td>N</td>\n",
       "      <td>N</td>\n",
       "      <td>0</td>\n",
       "      <td>108000.0</td>\n",
       "      <td>675000.0</td>\n",
       "      <td>19737.0</td>\n",
       "      <td>...</td>\n",
       "      <td>0</td>\n",
       "      <td>0</td>\n",
       "      <td>0</td>\n",
       "      <td>0</td>\n",
       "      <td>0.0</td>\n",
       "      <td>0.0</td>\n",
       "      <td>0.0</td>\n",
       "      <td>0.0</td>\n",
       "      <td>0.0</td>\n",
       "      <td>0.0</td>\n",
       "    </tr>\n",
       "    <tr>\n",
       "      <th>2</th>\n",
       "      <td>207678</td>\n",
       "      <td>0</td>\n",
       "      <td>Revolving loans</td>\n",
       "      <td>F</td>\n",
       "      <td>Y</td>\n",
       "      <td>Y</td>\n",
       "      <td>2</td>\n",
       "      <td>112500.0</td>\n",
       "      <td>270000.0</td>\n",
       "      <td>13500.0</td>\n",
       "      <td>...</td>\n",
       "      <td>0</td>\n",
       "      <td>0</td>\n",
       "      <td>0</td>\n",
       "      <td>0</td>\n",
       "      <td>0.0</td>\n",
       "      <td>0.0</td>\n",
       "      <td>0.0</td>\n",
       "      <td>0.0</td>\n",
       "      <td>0.0</td>\n",
       "      <td>1.0</td>\n",
       "    </tr>\n",
       "    <tr>\n",
       "      <th>3</th>\n",
       "      <td>381593</td>\n",
       "      <td>0</td>\n",
       "      <td>Cash loans</td>\n",
       "      <td>F</td>\n",
       "      <td>N</td>\n",
       "      <td>N</td>\n",
       "      <td>1</td>\n",
       "      <td>67500.0</td>\n",
       "      <td>142200.0</td>\n",
       "      <td>9630.0</td>\n",
       "      <td>...</td>\n",
       "      <td>0</td>\n",
       "      <td>0</td>\n",
       "      <td>0</td>\n",
       "      <td>0</td>\n",
       "      <td>0.0</td>\n",
       "      <td>0.0</td>\n",
       "      <td>0.0</td>\n",
       "      <td>0.0</td>\n",
       "      <td>0.0</td>\n",
       "      <td>4.0</td>\n",
       "    </tr>\n",
       "    <tr>\n",
       "      <th>4</th>\n",
       "      <td>258153</td>\n",
       "      <td>0</td>\n",
       "      <td>Cash loans</td>\n",
       "      <td>F</td>\n",
       "      <td>Y</td>\n",
       "      <td>Y</td>\n",
       "      <td>0</td>\n",
       "      <td>337500.0</td>\n",
       "      <td>1483231.5</td>\n",
       "      <td>46570.5</td>\n",
       "      <td>...</td>\n",
       "      <td>0</td>\n",
       "      <td>0</td>\n",
       "      <td>0</td>\n",
       "      <td>0</td>\n",
       "      <td>0.0</td>\n",
       "      <td>0.0</td>\n",
       "      <td>0.0</td>\n",
       "      <td>2.0</td>\n",
       "      <td>0.0</td>\n",
       "      <td>0.0</td>\n",
       "    </tr>\n",
       "  </tbody>\n",
       "</table>\n",
       "<p>5 rows × 122 columns</p>\n",
       "</div>"
      ],
      "text/plain": [
       "   SK_ID_CURR  TARGET NAME_CONTRACT_TYPE CODE_GENDER FLAG_OWN_CAR  \\\n",
       "0      313802       0         Cash loans           M            N   \n",
       "1      319656       0         Cash loans           F            N   \n",
       "2      207678       0    Revolving loans           F            Y   \n",
       "3      381593       0         Cash loans           F            N   \n",
       "4      258153       0         Cash loans           F            Y   \n",
       "\n",
       "  FLAG_OWN_REALTY  CNT_CHILDREN  AMT_INCOME_TOTAL  AMT_CREDIT  AMT_ANNUITY  \\\n",
       "0               Y             0          270000.0    327024.0      15372.0   \n",
       "1               N             0          108000.0    675000.0      19737.0   \n",
       "2               Y             2          112500.0    270000.0      13500.0   \n",
       "3               N             1           67500.0    142200.0       9630.0   \n",
       "4               Y             0          337500.0   1483231.5      46570.5   \n",
       "\n",
       "   ...  FLAG_DOCUMENT_18 FLAG_DOCUMENT_19 FLAG_DOCUMENT_20 FLAG_DOCUMENT_21  \\\n",
       "0  ...                 0                0                0                0   \n",
       "1  ...                 0                0                0                0   \n",
       "2  ...                 0                0                0                0   \n",
       "3  ...                 0                0                0                0   \n",
       "4  ...                 0                0                0                0   \n",
       "\n",
       "  AMT_REQ_CREDIT_BUREAU_HOUR AMT_REQ_CREDIT_BUREAU_DAY  \\\n",
       "0                        0.0                       0.0   \n",
       "1                        0.0                       0.0   \n",
       "2                        0.0                       0.0   \n",
       "3                        0.0                       0.0   \n",
       "4                        0.0                       0.0   \n",
       "\n",
       "   AMT_REQ_CREDIT_BUREAU_WEEK  AMT_REQ_CREDIT_BUREAU_MON  \\\n",
       "0                         0.0                        0.0   \n",
       "1                         0.0                        0.0   \n",
       "2                         0.0                        0.0   \n",
       "3                         0.0                        0.0   \n",
       "4                         0.0                        2.0   \n",
       "\n",
       "   AMT_REQ_CREDIT_BUREAU_QRT  AMT_REQ_CREDIT_BUREAU_YEAR  \n",
       "0                        0.0                         1.0  \n",
       "1                        0.0                         0.0  \n",
       "2                        0.0                         1.0  \n",
       "3                        0.0                         4.0  \n",
       "4                        0.0                         0.0  \n",
       "\n",
       "[5 rows x 122 columns]"
      ]
     },
     "execution_count": 5,
     "metadata": {},
     "output_type": "execute_result"
    }
   ],
   "source": [
    "%%time\n",
    "\n",
    "data = pd.read_csv('./example_data/test_data_files/sampled_app_train.csv')\n",
    "data.head()"
   ]
  },
  {
   "cell_type": "markdown",
   "metadata": {},
   "source": [
    "# Step 0.6. (Optional) Some user feature preparation "
   ]
  },
  {
   "cell_type": "markdown",
   "metadata": {},
   "source": [
    "Cell below shows some user feature preparations to create task more difficult (this block can be omitted if you don't want to change the initial data):"
   ]
  },
  {
   "cell_type": "code",
   "execution_count": 6,
   "metadata": {},
   "outputs": [
    {
     "name": "stderr",
     "output_type": "stream",
     "text": [
      "[2020-10-18 16:00:26,242] (INFO): Note: detected 96 virtual cores but NumExpr set to maximum of 64, check \"NUMEXPR_MAX_THREADS\" environment variable.\n",
      "[2020-10-18 16:00:26,243] (INFO): Note: NumExpr detected 96 cores but \"NUMEXPR_MAX_THREADS\" not set, so enforcing safe limit of 8.\n",
      "[2020-10-18 16:00:26,243] (INFO): NumExpr defaulting to 8 threads.\n"
     ]
    },
    {
     "name": "stdout",
     "output_type": "stream",
     "text": [
      "CPU times: user 96.9 ms, sys: 11.7 ms, total: 109 ms\n",
      "Wall time: 106 ms\n"
     ]
    }
   ],
   "source": [
    "%%time\n",
    "\n",
    "data['BIRTH_DATE'] = (np.datetime64('2018-01-01') + data['DAYS_BIRTH'].astype(np.dtype('timedelta64[D]'))).astype(str)\n",
    "data['EMP_DATE'] = (np.datetime64('2018-01-01') + np.clip(data['DAYS_EMPLOYED'], None, 0).astype(np.dtype('timedelta64[D]'))\n",
    "                    ).astype(str)\n",
    "\n",
    "data['constant'] = 1\n",
    "data['allnan'] = np.nan\n",
    "\n",
    "data.drop(['DAYS_BIRTH', 'DAYS_EMPLOYED'], axis=1, inplace=True)"
   ]
  },
  {
   "cell_type": "markdown",
   "metadata": {},
   "source": [
    "# Step 0.7. Create fake multiclass target "
   ]
  },
  {
   "cell_type": "code",
   "execution_count": 7,
   "metadata": {},
   "outputs": [
    {
     "data": {
      "text/plain": [
       "2    4924\n",
       "0    4677\n",
       "1     399\n",
       "Name: TARGET, dtype: int64"
      ]
     },
     "execution_count": 7,
     "metadata": {},
     "output_type": "execute_result"
    }
   ],
   "source": [
    "data[TARGET_NAME] = np.where(np.random.rand(data.shape[0]) > .5, 2, data[TARGET_NAME].values)\n",
    "data[TARGET_NAME].value_counts()"
   ]
  },
  {
   "cell_type": "markdown",
   "metadata": {},
   "source": [
    "# Step 0.8. (Optional) Data splitting for train-test "
   ]
  },
  {
   "cell_type": "markdown",
   "metadata": {},
   "source": [
    "Block below can be omitted if you are going to train model only or you have specific train and test files:"
   ]
  },
  {
   "cell_type": "code",
   "execution_count": 8,
   "metadata": {},
   "outputs": [
    {
     "name": "stderr",
     "output_type": "stream",
     "text": [
      "[2020-10-18 16:00:26,335] (INFO): Data splitted. Parts sizes: train_data = (8000, 124), test_data = (2000, 124)\n"
     ]
    },
    {
     "name": "stdout",
     "output_type": "stream",
     "text": [
      "CPU times: user 12.3 ms, sys: 355 µs, total: 12.7 ms\n",
      "Wall time: 12.3 ms\n"
     ]
    }
   ],
   "source": [
    "%%time\n",
    "\n",
    "train_data, test_data = train_test_split(data, \n",
    "                                         test_size=TEST_SIZE, \n",
    "                                         stratify=data[TARGET_NAME], \n",
    "                                         random_state=RANDOM_STATE)\n",
    "logging.info('Data splitted. Parts sizes: train_data = {}, test_data = {}'\n",
    "              .format(train_data.shape, test_data.shape))"
   ]
  },
  {
   "cell_type": "code",
   "execution_count": 9,
   "metadata": {},
   "outputs": [
    {
     "data": {
      "text/html": [
       "<div>\n",
       "<style scoped>\n",
       "    .dataframe tbody tr th:only-of-type {\n",
       "        vertical-align: middle;\n",
       "    }\n",
       "\n",
       "    .dataframe tbody tr th {\n",
       "        vertical-align: top;\n",
       "    }\n",
       "\n",
       "    .dataframe thead th {\n",
       "        text-align: right;\n",
       "    }\n",
       "</style>\n",
       "<table border=\"1\" class=\"dataframe\">\n",
       "  <thead>\n",
       "    <tr style=\"text-align: right;\">\n",
       "      <th></th>\n",
       "      <th>SK_ID_CURR</th>\n",
       "      <th>TARGET</th>\n",
       "      <th>NAME_CONTRACT_TYPE</th>\n",
       "      <th>CODE_GENDER</th>\n",
       "      <th>FLAG_OWN_CAR</th>\n",
       "      <th>FLAG_OWN_REALTY</th>\n",
       "      <th>CNT_CHILDREN</th>\n",
       "      <th>AMT_INCOME_TOTAL</th>\n",
       "      <th>AMT_CREDIT</th>\n",
       "      <th>AMT_ANNUITY</th>\n",
       "      <th>...</th>\n",
       "      <th>AMT_REQ_CREDIT_BUREAU_HOUR</th>\n",
       "      <th>AMT_REQ_CREDIT_BUREAU_DAY</th>\n",
       "      <th>AMT_REQ_CREDIT_BUREAU_WEEK</th>\n",
       "      <th>AMT_REQ_CREDIT_BUREAU_MON</th>\n",
       "      <th>AMT_REQ_CREDIT_BUREAU_QRT</th>\n",
       "      <th>AMT_REQ_CREDIT_BUREAU_YEAR</th>\n",
       "      <th>BIRTH_DATE</th>\n",
       "      <th>EMP_DATE</th>\n",
       "      <th>constant</th>\n",
       "      <th>allnan</th>\n",
       "    </tr>\n",
       "  </thead>\n",
       "  <tbody>\n",
       "    <tr>\n",
       "      <th>3273</th>\n",
       "      <td>293399</td>\n",
       "      <td>2</td>\n",
       "      <td>Revolving loans</td>\n",
       "      <td>F</td>\n",
       "      <td>Y</td>\n",
       "      <td>N</td>\n",
       "      <td>0</td>\n",
       "      <td>292500.0</td>\n",
       "      <td>765000.0</td>\n",
       "      <td>38250.0</td>\n",
       "      <td>...</td>\n",
       "      <td>0.0</td>\n",
       "      <td>0.0</td>\n",
       "      <td>0.0</td>\n",
       "      <td>0.0</td>\n",
       "      <td>0.0</td>\n",
       "      <td>0.0</td>\n",
       "      <td>1980-08-03</td>\n",
       "      <td>2013-06-26</td>\n",
       "      <td>1</td>\n",
       "      <td>NaN</td>\n",
       "    </tr>\n",
       "    <tr>\n",
       "      <th>812</th>\n",
       "      <td>426509</td>\n",
       "      <td>1</td>\n",
       "      <td>Cash loans</td>\n",
       "      <td>F</td>\n",
       "      <td>N</td>\n",
       "      <td>Y</td>\n",
       "      <td>1</td>\n",
       "      <td>225000.0</td>\n",
       "      <td>349258.5</td>\n",
       "      <td>17959.5</td>\n",
       "      <td>...</td>\n",
       "      <td>0.0</td>\n",
       "      <td>0.0</td>\n",
       "      <td>0.0</td>\n",
       "      <td>0.0</td>\n",
       "      <td>0.0</td>\n",
       "      <td>5.0</td>\n",
       "      <td>1984-05-06</td>\n",
       "      <td>2013-02-17</td>\n",
       "      <td>1</td>\n",
       "      <td>NaN</td>\n",
       "    </tr>\n",
       "    <tr>\n",
       "      <th>9630</th>\n",
       "      <td>403114</td>\n",
       "      <td>0</td>\n",
       "      <td>Cash loans</td>\n",
       "      <td>M</td>\n",
       "      <td>Y</td>\n",
       "      <td>Y</td>\n",
       "      <td>2</td>\n",
       "      <td>135000.0</td>\n",
       "      <td>922500.0</td>\n",
       "      <td>29889.0</td>\n",
       "      <td>...</td>\n",
       "      <td>0.0</td>\n",
       "      <td>0.0</td>\n",
       "      <td>0.0</td>\n",
       "      <td>4.0</td>\n",
       "      <td>0.0</td>\n",
       "      <td>4.0</td>\n",
       "      <td>1984-01-23</td>\n",
       "      <td>2009-06-01</td>\n",
       "      <td>1</td>\n",
       "      <td>NaN</td>\n",
       "    </tr>\n",
       "    <tr>\n",
       "      <th>7757</th>\n",
       "      <td>366682</td>\n",
       "      <td>2</td>\n",
       "      <td>Cash loans</td>\n",
       "      <td>F</td>\n",
       "      <td>N</td>\n",
       "      <td>N</td>\n",
       "      <td>0</td>\n",
       "      <td>254475.0</td>\n",
       "      <td>1485000.0</td>\n",
       "      <td>39303.0</td>\n",
       "      <td>...</td>\n",
       "      <td>0.0</td>\n",
       "      <td>0.0</td>\n",
       "      <td>0.0</td>\n",
       "      <td>0.0</td>\n",
       "      <td>0.0</td>\n",
       "      <td>0.0</td>\n",
       "      <td>1971-11-28</td>\n",
       "      <td>2016-01-10</td>\n",
       "      <td>1</td>\n",
       "      <td>NaN</td>\n",
       "    </tr>\n",
       "    <tr>\n",
       "      <th>9973</th>\n",
       "      <td>289050</td>\n",
       "      <td>0</td>\n",
       "      <td>Cash loans</td>\n",
       "      <td>F</td>\n",
       "      <td>N</td>\n",
       "      <td>Y</td>\n",
       "      <td>0</td>\n",
       "      <td>112500.0</td>\n",
       "      <td>260640.0</td>\n",
       "      <td>25906.5</td>\n",
       "      <td>...</td>\n",
       "      <td>NaN</td>\n",
       "      <td>NaN</td>\n",
       "      <td>NaN</td>\n",
       "      <td>NaN</td>\n",
       "      <td>NaN</td>\n",
       "      <td>NaN</td>\n",
       "      <td>1966-11-27</td>\n",
       "      <td>2002-07-12</td>\n",
       "      <td>1</td>\n",
       "      <td>NaN</td>\n",
       "    </tr>\n",
       "  </tbody>\n",
       "</table>\n",
       "<p>5 rows × 124 columns</p>\n",
       "</div>"
      ],
      "text/plain": [
       "      SK_ID_CURR  TARGET NAME_CONTRACT_TYPE CODE_GENDER FLAG_OWN_CAR  \\\n",
       "3273      293399       2    Revolving loans           F            Y   \n",
       "812       426509       1         Cash loans           F            N   \n",
       "9630      403114       0         Cash loans           M            Y   \n",
       "7757      366682       2         Cash loans           F            N   \n",
       "9973      289050       0         Cash loans           F            N   \n",
       "\n",
       "     FLAG_OWN_REALTY  CNT_CHILDREN  AMT_INCOME_TOTAL  AMT_CREDIT  AMT_ANNUITY  \\\n",
       "3273               N             0          292500.0    765000.0      38250.0   \n",
       "812                Y             1          225000.0    349258.5      17959.5   \n",
       "9630               Y             2          135000.0    922500.0      29889.0   \n",
       "7757               N             0          254475.0   1485000.0      39303.0   \n",
       "9973               Y             0          112500.0    260640.0      25906.5   \n",
       "\n",
       "      ...  AMT_REQ_CREDIT_BUREAU_HOUR AMT_REQ_CREDIT_BUREAU_DAY  \\\n",
       "3273  ...                         0.0                       0.0   \n",
       "812   ...                         0.0                       0.0   \n",
       "9630  ...                         0.0                       0.0   \n",
       "7757  ...                         0.0                       0.0   \n",
       "9973  ...                         NaN                       NaN   \n",
       "\n",
       "     AMT_REQ_CREDIT_BUREAU_WEEK AMT_REQ_CREDIT_BUREAU_MON  \\\n",
       "3273                        0.0                       0.0   \n",
       "812                         0.0                       0.0   \n",
       "9630                        0.0                       4.0   \n",
       "7757                        0.0                       0.0   \n",
       "9973                        NaN                       NaN   \n",
       "\n",
       "     AMT_REQ_CREDIT_BUREAU_QRT AMT_REQ_CREDIT_BUREAU_YEAR  BIRTH_DATE  \\\n",
       "3273                       0.0                        0.0  1980-08-03   \n",
       "812                        0.0                        5.0  1984-05-06   \n",
       "9630                       0.0                        4.0  1984-01-23   \n",
       "7757                       0.0                        0.0  1971-11-28   \n",
       "9973                       NaN                        NaN  1966-11-27   \n",
       "\n",
       "        EMP_DATE  constant  allnan  \n",
       "3273  2013-06-26         1     NaN  \n",
       "812   2013-02-17         1     NaN  \n",
       "9630  2009-06-01         1     NaN  \n",
       "7757  2016-01-10         1     NaN  \n",
       "9973  2002-07-12         1     NaN  \n",
       "\n",
       "[5 rows x 124 columns]"
      ]
     },
     "execution_count": 9,
     "metadata": {},
     "output_type": "execute_result"
    }
   ],
   "source": [
    "train_data.head()"
   ]
  },
  {
   "cell_type": "markdown",
   "metadata": {},
   "source": [
    "# ========= AutoML creation =========\n",
    "\n",
    "![AutoML pipeline for this task](imgs/tutorial_2_pipeline.png)\n",
    "\n",
    "\n",
    "## Step 1. Create Timer for pipeline\n",
    "\n",
    "Here we are going to use strict timer for AutoML pipeline, which helps not to go outside the limit:"
   ]
  },
  {
   "cell_type": "code",
   "execution_count": 10,
   "metadata": {},
   "outputs": [
    {
     "name": "stdout",
     "output_type": "stream",
     "text": [
      "CPU times: user 56 µs, sys: 101 µs, total: 157 µs\n",
      "Wall time: 160 µs\n"
     ]
    }
   ],
   "source": [
    "%%time\n",
    "\n",
    "timer = PipelineTimer(600, mode=2)"
   ]
  },
  {
   "cell_type": "markdown",
   "metadata": {},
   "source": [
    "## Step 2. Create feature selector"
   ]
  },
  {
   "cell_type": "code",
   "execution_count": 11,
   "metadata": {},
   "outputs": [
    {
     "name": "stdout",
     "output_type": "stream",
     "text": [
      "CPU times: user 348 µs, sys: 631 µs, total: 979 µs\n",
      "Wall time: 938 µs\n"
     ]
    },
    {
     "name": "stderr",
     "output_type": "stream",
     "text": [
      "/mnt/alex/LightAutoML/lightautoml/utils/timer.py:208: UserWarning:\n",
      "\n",
      "Copying TaskTimer may affect the parent PipelineTimer, so copy will create new unlimited TaskTimer\n",
      "\n"
     ]
    }
   ],
   "source": [
    "%%time\n",
    "\n",
    "timer_gbm = timer.get_task_timer('gbm') # Get task timer from pipeline timer \n",
    "feat_sel_0 = LGBSimpleFeatures()\n",
    "mod_sel_0 = BoostLGBM(timer=timer_gbm)\n",
    "imp_sel_0 = ModelBasedImportanceEstimator()\n",
    "selector_0 = ImportanceCutoffSelector(feat_sel_0, mod_sel_0, imp_sel_0, cutoff=0, )"
   ]
  },
  {
   "cell_type": "markdown",
   "metadata": {},
   "source": [
    "## Step 3.1. Create GBMs pipeline for AutoML "
   ]
  },
  {
   "cell_type": "markdown",
   "metadata": {},
   "source": [
    "Our GBMs ML pipeline:\n",
    "- Advanced features for gradient boosting built on selected features (using step 2) \n",
    "- 2 different models:\n",
    "    * LightGBM with params tuning (using OptunaTuner)\n",
    "    * LightGBM with heuristic params\n"
   ]
  },
  {
   "cell_type": "code",
   "execution_count": 12,
   "metadata": {},
   "outputs": [
    {
     "name": "stdout",
     "output_type": "stream",
     "text": [
      "CPU times: user 243 µs, sys: 438 µs, total: 681 µs\n",
      "Wall time: 683 µs\n"
     ]
    }
   ],
   "source": [
    "%%time \n",
    "\n",
    "feats_gbm_0 = LGBAdvancedPipeline(top_intersections=4, \n",
    "                                  output_categories=True, \n",
    "                                  feats_imp=imp_sel_0)\n",
    "timer_gbm_0 = timer.get_task_timer('gbm')\n",
    "timer_gbm_1 = timer.get_task_timer('gbm')\n",
    "\n",
    "gbm_0 = BoostLGBM(timer=timer_gbm_0)\n",
    "gbm_1 = BoostLGBM(timer=timer_gbm_1)\n",
    "\n",
    "tuner_0 = OptunaTuner(n_trials=20, timeout=30, fit_on_holdout=True)\n",
    "gbm_lvl0 = MLPipeline([\n",
    "        (gbm_0, tuner_0),\n",
    "        gbm_1\n",
    "    ],\n",
    "    pre_selection=selector_0,\n",
    "    features_pipeline=feats_gbm_0, \n",
    "    post_selection=None\n",
    ")"
   ]
  },
  {
   "cell_type": "markdown",
   "metadata": {},
   "source": [
    "## Step 3.2. Create linear pipeline for AutoML "
   ]
  },
  {
   "cell_type": "markdown",
   "metadata": {},
   "source": [
    "Our linear pipeline:\n",
    "- Using features, special for linear models\n",
    "- LinearLBFGS as a model\n",
    "- Without feature selection here"
   ]
  },
  {
   "cell_type": "code",
   "execution_count": 13,
   "metadata": {},
   "outputs": [
    {
     "name": "stdout",
     "output_type": "stream",
     "text": [
      "CPU times: user 618 µs, sys: 0 ns, total: 618 µs\n",
      "Wall time: 620 µs\n"
     ]
    }
   ],
   "source": [
    "%%time\n",
    "\n",
    "feats_reg_0 = LinearFeatures(output_categories=True, \n",
    "                             sparse_ohe='auto')\n",
    "\n",
    "timer_reg = timer.get_task_timer('reg')\n",
    "reg_0 = LinearLBFGS(timer=timer_reg)\n",
    "\n",
    "reg_lvl0 = MLPipeline([\n",
    "        reg_0\n",
    "    ],\n",
    "    pre_selection=None,\n",
    "    features_pipeline=feats_reg_0, \n",
    "    post_selection=None\n",
    ")"
   ]
  },
  {
   "cell_type": "markdown",
   "metadata": {},
   "source": [
    "## Step 4. Create multiclass task and reader"
   ]
  },
  {
   "cell_type": "code",
   "execution_count": 14,
   "metadata": {},
   "outputs": [
    {
     "name": "stdout",
     "output_type": "stream",
     "text": [
      "CPU times: user 3.2 ms, sys: 0 ns, total: 3.2 ms\n",
      "Wall time: 3.03 ms\n"
     ]
    }
   ],
   "source": [
    "%%time \n",
    "\n",
    "task = Task('multiclass', metric = 'crossentropy', ) \n",
    "reader = PandasToPandasReader(task = task, samples = None, max_nan_rate = 1, max_constant_rate = 1,\n",
    "                              advanced_roles = True, drop_score_co = -1, n_jobs = 4)"
   ]
  },
  {
   "cell_type": "markdown",
   "metadata": {},
   "source": [
    "## Step 5. Create blender for 2nd level "
   ]
  },
  {
   "cell_type": "markdown",
   "metadata": {},
   "source": [
    "To combine predictions from different models into one vector we use WeightedBlender:"
   ]
  },
  {
   "cell_type": "code",
   "execution_count": 15,
   "metadata": {},
   "outputs": [
    {
     "name": "stdout",
     "output_type": "stream",
     "text": [
      "CPU times: user 29 µs, sys: 51 µs, total: 80 µs\n",
      "Wall time: 82.5 µs\n"
     ]
    }
   ],
   "source": [
    "%%time\n",
    "\n",
    "blender = WeightedBlender()"
   ]
  },
  {
   "cell_type": "markdown",
   "metadata": {},
   "source": [
    "## Step 6. Create AutoML pipeline"
   ]
  },
  {
   "cell_type": "code",
   "execution_count": 16,
   "metadata": {},
   "outputs": [
    {
     "name": "stdout",
     "output_type": "stream",
     "text": [
      "CPU times: user 376 µs, sys: 0 ns, total: 376 µs\n",
      "Wall time: 377 µs\n"
     ]
    }
   ],
   "source": [
    "%%time\n",
    "\n",
    "automl = AutoML(reader=reader, levels=[\n",
    "    [gbm_lvl0, reg_lvl0]\n",
    "], timer=timer, blender=blender, skip_conn=False)"
   ]
  },
  {
   "cell_type": "markdown",
   "metadata": {},
   "source": [
    "## Step 7. Train AutoML on loaded data "
   ]
  },
  {
   "cell_type": "markdown",
   "metadata": {},
   "source": [
    "In cell below we train AutoML with target column `TARGET` to receive fitted model and OOF predictions:"
   ]
  },
  {
   "cell_type": "code",
   "execution_count": 17,
   "metadata": {},
   "outputs": [
    {
     "name": "stderr",
     "output_type": "stream",
     "text": [
      "/mnt/alex/LightAutoML/lightautoml/reader/guess_roles.py:351: SettingWithCopyWarning:\n",
      "\n",
      "\n",
      "A value is trying to be set on a copy of a slice from a DataFrame.\n",
      "Try using .loc[row_indexer,col_indexer] = value instead\n",
      "\n",
      "See the caveats in the documentation: https://pandas.pydata.org/pandas-docs/stable/user_guide/indexing.html#returning-a-view-versus-a-copy\n",
      "\n"
     ]
    },
    {
     "name": "stdout",
     "output_type": "stream",
     "text": [
      "Feats was rejected during automatic roles guess: []\n",
      "Train process start. Time left 595.9772322177887 secs\n",
      "Training until validation scores don't improve for 100 rounds\n",
      "[100]\tvalid's multi_logloss: 0.833296\n",
      "Early stopping, best iteration is:\n",
      "[32]\tvalid's multi_logloss: 0.821232\n",
      "Time history [3.936596393585205]. Time left 129.95871782302856\n"
     ]
    },
    {
     "name": "stderr",
     "output_type": "stream",
     "text": [
      "/mnt/alex/LightAutoML/lightautoml/utils/timer.py:208: UserWarning:\n",
      "\n",
      "Copying TaskTimer may affect the parent PipelineTimer, so copy will create new unlimited TaskTimer\n",
      "\n",
      "\u001b[32m[I 2020-10-18 16:00:35,784]\u001b[0m A new study created in memory with name: no-name-45b0b7a1-8fa3-4d74-8e6e-5180ae986078\u001b[0m\n"
     ]
    },
    {
     "name": "stdout",
     "output_type": "stream",
     "text": [
      "Optuna may run 157.22964708010355 secs\n",
      "Training until validation scores don't improve for 100 rounds\n",
      "[100]\tvalid's multi_logloss: 0.82247\n"
     ]
    },
    {
     "name": "stderr",
     "output_type": "stream",
     "text": [
      "\u001b[32m[I 2020-10-18 16:00:40,362]\u001b[0m Trial 0 finished with value: -0.8164646521955728 and parameters: {'feature_fraction': 0.6872700594236812, 'num_leaves': 108}. Best is trial 0 with value: -0.8164646521955728.\u001b[0m\n"
     ]
    },
    {
     "name": "stdout",
     "output_type": "stream",
     "text": [
      "Early stopping, best iteration is:\n",
      "[55]\tvalid's multi_logloss: 0.816465\n",
      "Time history [4.570739030838013]. Time left 8999999995.427128\n",
      "Training until validation scores don't improve for 100 rounds\n"
     ]
    },
    {
     "name": "stderr",
     "output_type": "stream",
     "text": [
      "/mnt/alex/LightAutoML/lightautoml/utils/timer.py:208: UserWarning:\n",
      "\n",
      "Copying TaskTimer may affect the parent PipelineTimer, so copy will create new unlimited TaskTimer\n",
      "\n"
     ]
    },
    {
     "name": "stdout",
     "output_type": "stream",
     "text": [
      "[100]\tvalid's multi_logloss: 0.821377\n"
     ]
    },
    {
     "name": "stderr",
     "output_type": "stream",
     "text": [
      "\u001b[32m[I 2020-10-18 16:00:44,741]\u001b[0m Trial 1 finished with value: -0.8157873297296464 and parameters: {'feature_fraction': 0.5917173949330818, 'num_leaves': 87}. Best is trial 1 with value: -0.8157873297296464.\u001b[0m\n"
     ]
    },
    {
     "name": "stdout",
     "output_type": "stream",
     "text": [
      "Early stopping, best iteration is:\n",
      "[52]\tvalid's multi_logloss: 0.815787\n",
      "Time history [4.366024017333984]. Time left 8999999995.631552\n",
      "Training until validation scores don't improve for 100 rounds\n"
     ]
    },
    {
     "name": "stderr",
     "output_type": "stream",
     "text": [
      "/mnt/alex/LightAutoML/lightautoml/utils/timer.py:208: UserWarning:\n",
      "\n",
      "Copying TaskTimer may affect the parent PipelineTimer, so copy will create new unlimited TaskTimer\n",
      "\n"
     ]
    },
    {
     "name": "stdout",
     "output_type": "stream",
     "text": [
      "[100]\tvalid's multi_logloss: 0.821295\n"
     ]
    },
    {
     "name": "stderr",
     "output_type": "stream",
     "text": [
      "\u001b[32m[I 2020-10-18 16:00:49,692]\u001b[0m Trial 2 finished with value: -0.8177480276487767 and parameters: {'feature_fraction': 0.7993292420985183, 'num_leaves': 118}. Best is trial 1 with value: -0.8157873297296464.\u001b[0m\n"
     ]
    },
    {
     "name": "stdout",
     "output_type": "stream",
     "text": [
      "Early stopping, best iteration is:\n",
      "[58]\tvalid's multi_logloss: 0.817748\n",
      "Time history [4.939683198928833]. Time left 8999999995.058239\n",
      "Training until validation scores don't improve for 100 rounds\n"
     ]
    },
    {
     "name": "stderr",
     "output_type": "stream",
     "text": [
      "/mnt/alex/LightAutoML/lightautoml/utils/timer.py:208: UserWarning:\n",
      "\n",
      "Copying TaskTimer may affect the parent PipelineTimer, so copy will create new unlimited TaskTimer\n",
      "\n"
     ]
    },
    {
     "name": "stdout",
     "output_type": "stream",
     "text": [
      "[100]\tvalid's multi_logloss: 0.827363\n"
     ]
    },
    {
     "name": "stderr",
     "output_type": "stream",
     "text": [
      "\u001b[32m[I 2020-10-18 16:00:54,044]\u001b[0m Trial 3 finished with value: -0.8189346228726209 and parameters: {'feature_fraction': 0.7229163764267956, 'num_leaves': 230}. Best is trial 1 with value: -0.8157873297296464.\u001b[0m\n"
     ]
    },
    {
     "name": "stdout",
     "output_type": "stream",
     "text": [
      "Early stopping, best iteration is:\n",
      "[34]\tvalid's multi_logloss: 0.818935\n",
      "Time history [4.341119766235352]. Time left 8999999995.656822\n",
      "Training until validation scores don't improve for 100 rounds\n"
     ]
    },
    {
     "name": "stderr",
     "output_type": "stream",
     "text": [
      "/mnt/alex/LightAutoML/lightautoml/utils/timer.py:208: UserWarning:\n",
      "\n",
      "Copying TaskTimer may affect the parent PipelineTimer, so copy will create new unlimited TaskTimer\n",
      "\n"
     ]
    },
    {
     "name": "stdout",
     "output_type": "stream",
     "text": [
      "[100]\tvalid's multi_logloss: 0.828237\n"
     ]
    },
    {
     "name": "stderr",
     "output_type": "stream",
     "text": [
      "\u001b[32m[I 2020-10-18 16:00:57,443]\u001b[0m Trial 4 finished with value: -0.8214827415719629 and parameters: {'feature_fraction': 0.5290418060840998, 'num_leaves': 103}. Best is trial 1 with value: -0.8157873297296464.\u001b[0m\n"
     ]
    },
    {
     "name": "stdout",
     "output_type": "stream",
     "text": [
      "Early stopping, best iteration is:\n",
      "[35]\tvalid's multi_logloss: 0.821483\n",
      "Time history [3.3893532752990723]. Time left 8999999996.608639\n",
      "Training until validation scores don't improve for 100 rounds\n"
     ]
    },
    {
     "name": "stderr",
     "output_type": "stream",
     "text": [
      "/mnt/alex/LightAutoML/lightautoml/utils/timer.py:208: UserWarning:\n",
      "\n",
      "Copying TaskTimer may affect the parent PipelineTimer, so copy will create new unlimited TaskTimer\n",
      "\n"
     ]
    },
    {
     "name": "stdout",
     "output_type": "stream",
     "text": [
      "[100]\tvalid's multi_logloss: 0.82015\n"
     ]
    },
    {
     "name": "stderr",
     "output_type": "stream",
     "text": [
      "\u001b[32m[I 2020-10-18 16:01:01,826]\u001b[0m Trial 5 finished with value: -0.8166165582090616 and parameters: {'feature_fraction': 0.6668543055695109, 'num_leaves': 119}. Best is trial 1 with value: -0.8157873297296464.\u001b[0m\n"
     ]
    },
    {
     "name": "stdout",
     "output_type": "stream",
     "text": [
      "Early stopping, best iteration is:\n",
      "[52]\tvalid's multi_logloss: 0.816617\n",
      "Time history [4.373297452926636]. Time left 8999999995.624895\n",
      "Training until validation scores don't improve for 100 rounds\n"
     ]
    },
    {
     "name": "stderr",
     "output_type": "stream",
     "text": [
      "/mnt/alex/LightAutoML/lightautoml/utils/timer.py:208: UserWarning:\n",
      "\n",
      "Copying TaskTimer may affect the parent PipelineTimer, so copy will create new unlimited TaskTimer\n",
      "\n"
     ]
    },
    {
     "name": "stdout",
     "output_type": "stream",
     "text": [
      "[100]\tvalid's multi_logloss: 0.826314\n"
     ]
    },
    {
     "name": "stderr",
     "output_type": "stream",
     "text": [
      "\u001b[32m[I 2020-10-18 16:01:07,010]\u001b[0m Trial 6 finished with value: -0.8201091270335019 and parameters: {'feature_fraction': 0.8540362888980227, 'num_leaves': 165}. Best is trial 1 with value: -0.8157873297296464.\u001b[0m\n"
     ]
    },
    {
     "name": "stdout",
     "output_type": "stream",
     "text": [
      "Early stopping, best iteration is:\n",
      "[53]\tvalid's multi_logloss: 0.820109\n",
      "Time history [5.175848007202148]. Time left 8999999994.822277\n",
      "Training until validation scores don't improve for 100 rounds\n",
      "[100]\tvalid's multi_logloss: 0.821377\n",
      "Early stopping, best iteration is:\n",
      "[52]\tvalid's multi_logloss: 0.815787\n",
      "Training until validation scores don't improve for 100 rounds\n",
      "[100]\tvalid's multi_logloss: 0.836264\n",
      "Early stopping, best iteration is:\n",
      "[47]\tvalid's multi_logloss: 0.825268\n",
      "Training until validation scores don't improve for 100 rounds\n",
      "[100]\tvalid's multi_logloss: 0.833029\n",
      "Early stopping, best iteration is:\n",
      "[28]\tvalid's multi_logloss: 0.821758\n",
      "Training until validation scores don't improve for 100 rounds\n",
      "[100]\tvalid's multi_logloss: 0.841979\n",
      "Early stopping, best iteration is:\n",
      "[33]\tvalid's multi_logloss: 0.829801\n",
      "Training until validation scores don't improve for 100 rounds\n",
      "[100]\tvalid's multi_logloss: 0.837374\n",
      "Early stopping, best iteration is:\n",
      "[20]\tvalid's multi_logloss: 0.827673\n",
      "Time history [3.936596393585205, 4.495136499404907, 4.136204242706299, 3.679347038269043, 4.033290147781372, 3.6013190746307373]. Time left 125.70821181933084\n",
      "Training until validation scores don't improve for 100 rounds\n",
      "[100]\tvalid's multi_logloss: 0.821908\n",
      "Early stopping, best iteration is:\n",
      "[38]\tvalid's multi_logloss: 0.817559\n",
      "Training until validation scores don't improve for 100 rounds\n",
      "[100]\tvalid's multi_logloss: 0.83079\n",
      "Early stopping, best iteration is:\n",
      "[27]\tvalid's multi_logloss: 0.822739\n",
      "Training until validation scores don't improve for 100 rounds\n",
      "[100]\tvalid's multi_logloss: 0.842406\n",
      "Early stopping, best iteration is:\n",
      "[26]\tvalid's multi_logloss: 0.827879\n",
      "Training until validation scores don't improve for 100 rounds\n",
      "[100]\tvalid's multi_logloss: 0.843036\n",
      "Early stopping, best iteration is:\n",
      "[20]\tvalid's multi_logloss: 0.830333\n",
      "Training until validation scores don't improve for 100 rounds\n",
      "[100]\tvalid's multi_logloss: 0.840233\n",
      "Early stopping, best iteration is:\n",
      "[40]\tvalid's multi_logloss: 0.828553\n",
      "Time history [3.936596393585205, 4.495136499404907, 4.136204242706299, 3.679347038269043, 4.033290147781372, 3.6013190746307373, 4.183204412460327, 3.8283348083496094, 3.803053379058838, 3.588028907775879, 4.195718288421631]. Time left 220.14631962776184\n",
      "Time left 519.9105076789856\n",
      "C = 1e-05 score = -0.8312689848616719\n",
      "C = 5e-05 score = -0.8287778506428003\n",
      "C = 0.0001 score = -0.8273980696871877\n",
      "C = 0.0005 score = -0.8246448650024831\n",
      "C = 0.001 score = -0.8244837016984821\n",
      "C = 0.005 score = -0.8297254551108927\n",
      "C = 0.01 score = -0.8345760753750802\n",
      "C = 1e-05 score = -0.8312914571911096\n",
      "C = 5e-05 score = -0.8281384637393058\n",
      "C = 0.0001 score = -0.8259962591715158\n",
      "C = 0.0005 score = -0.8206663262844086\n",
      "C = 0.001 score = -0.8194807489216328\n",
      "C = 0.005 score = -0.8244699984509498\n",
      "C = 0.01 score = -0.8294971688091755\n",
      "C = 1e-05 score = -0.8316743693128228\n",
      "C = 5e-05 score = -0.8295571425557137\n",
      "C = 0.0001 score = -0.8283514352142811\n",
      "C = 0.0005 score = -0.826869348436594\n",
      "C = 0.001 score = -0.827577405385673\n",
      "C = 0.005 score = -0.8356569626461714\n",
      "C = 1e-05 score = -0.8316299327462912\n",
      "C = 5e-05 score = -0.8313928686082364\n",
      "C = 0.0001 score = -0.8311152306199073\n",
      "C = 0.0005 score = -0.8316939301043749\n",
      "C = 0.001 score = -0.833645056951791\n",
      "C = 1e-05 score = -0.8327187759801745\n",
      "C = 5e-05 score = -0.831392225176096\n",
      "C = 0.0001 score = -0.8302297678589821\n",
      "C = 0.0005 score = -0.8275095833651721\n",
      "C = 0.001 score = -0.8278693752922117\n",
      "C = 0.005 score = -0.8353612481430173\n",
      "Time history [1.7756774425506592, 1.454049825668335, 1.1692440509796143, 0.8166377544403076, 1.038938283920288]. Time left 452.60471630096436\n",
      "Time left 512.6028861999512\n",
      "Blending: Optimization starts with equal weights and score -0.8219351900666952\n",
      "Blending, iter 0: score = -0.8218545271158219, weights = [0.44281423 0.1974778  0.35970798]\n",
      "Blending, iter 1: score = -0.8218538321144879, weights = [0.4314817  0.2096814  0.35883695]\n"
     ]
    },
    {
     "name": "stderr",
     "output_type": "stream",
     "text": [
      "[2020-10-18 16:01:54,210] (INFO): oof_pred:\n",
      "array([[0.5181386 , 0.02629192, 0.45556957],\n",
      "       [0.42177942, 0.05007775, 0.52814287],\n",
      "       [0.4119503 , 0.03302733, 0.5550224 ],\n",
      "       ...,\n",
      "       [0.4941727 , 0.02103278, 0.48479462],\n",
      "       [0.49897087, 0.02025075, 0.4807784 ],\n",
      "       [0.3574488 , 0.02743687, 0.61511433]], dtype=float32)\n",
      "Shape = (8000, 3)\n"
     ]
    },
    {
     "name": "stdout",
     "output_type": "stream",
     "text": [
      "Blending, iter 2: score = -0.8218538210578262, weights = [0.4314722  0.20969875 0.35882908]\n",
      "Blending, iter 3: score = -0.8218538210578262, weights = [0.4314722  0.20969875 0.35882908]\n",
      "No score update. Terminated\n",
      "CPU times: user 5min 41s, sys: 4.55 s, total: 5min 46s\n",
      "Wall time: 1min 27s\n"
     ]
    }
   ],
   "source": [
    "%%time\n",
    "\n",
    "oof_pred = automl.fit_predict(train_data, roles={'target': TARGET_NAME})\n",
    "logging.info('oof_pred:\\n{}\\nShape = {}'.format(oof_pred, oof_pred.shape))"
   ]
  },
  {
   "cell_type": "markdown",
   "metadata": {},
   "source": [
    "## Step 8. Predict to test data and check scores"
   ]
  },
  {
   "cell_type": "code",
   "execution_count": 18,
   "metadata": {},
   "outputs": [
    {
     "name": "stderr",
     "output_type": "stream",
     "text": [
      "[2020-10-18 16:01:54,604] (INFO): Check scores...\n",
      "[2020-10-18 16:01:54,607] (INFO): OOF score: 0.8218538206294179\n",
      "[2020-10-18 16:01:54,608] (INFO): TEST score: 0.8241283266842365\n"
     ]
    },
    {
     "name": "stdout",
     "output_type": "stream",
     "text": [
      "CPU times: user 989 ms, sys: 7.46 ms, total: 996 ms\n",
      "Wall time: 393 ms\n"
     ]
    }
   ],
   "source": [
    "%%time\n",
    "\n",
    "test_pred = automl.predict(test_data)\n",
    "logging.debug('Prediction for test data:\\n{}\\nShape = {}'\n",
    "              .format(test_pred, test_pred.shape))\n",
    "\n",
    "logging.info('Check scores...')\n",
    "logging.info('OOF score: {}'.format(log_loss(train_data[TARGET_NAME].values, oof_pred.data)))\n",
    "logging.info('TEST score: {}'.format(log_loss(test_data[TARGET_NAME].values, test_pred.data)))"
   ]
  },
  {
   "cell_type": "markdown",
   "metadata": {},
   "source": [
    "## Step 9. Check AUCs for each class in train and test data "
   ]
  },
  {
   "cell_type": "code",
   "execution_count": 19,
   "metadata": {},
   "outputs": [
    {
     "name": "stderr",
     "output_type": "stream",
     "text": [
      "[2020-10-18 16:01:54,617] (INFO): Class 0 train auc score: 0.543005350509457\n",
      "[2020-10-18 16:01:54,620] (INFO): Class 1 train auc score: 0.7221756734751182\n",
      "[2020-10-18 16:01:54,623] (INFO): Class 2 train auc score: 0.5337184979081697\n",
      "[2020-10-18 16:01:54,625] (INFO): Class 0 test auc score: 0.5429253596444981\n",
      "[2020-10-18 16:01:54,627] (INFO): Class 1 test auc score: 0.7166536458333335\n",
      "[2020-10-18 16:01:54,629] (INFO): Class 2 test auc score: 0.5279147808256858\n"
     ]
    }
   ],
   "source": [
    "for dat, df, name in zip([oof_pred, test_pred], [train_data, test_data], ['train', 'test']):\n",
    "    logging.debug('Check aucs {0}...'.format(name))\n",
    "    for cl in range(3):\n",
    "        sc = roc_auc_score((df[TARGET_NAME].values == cl).astype(np.float32), dat.data[:, cl])\n",
    "        logging.info('Class {0} {1} auc score: {2}'.format(cl, name, sc))"
   ]
  },
  {
   "cell_type": "markdown",
   "metadata": {},
   "source": [
    "## Step 10. Profiling AutoML "
   ]
  },
  {
   "cell_type": "markdown",
   "metadata": {},
   "source": [
    "To build report here, we must turn on decorators on step 0.4. Report is interactive and you can go as deep into functions call stack as you want:"
   ]
  },
  {
   "cell_type": "code",
   "execution_count": 20,
   "metadata": {},
   "outputs": [
    {
     "name": "stdout",
     "output_type": "stream",
     "text": [
      "\t Func with no stats - <function numpy_and_pandas_concat at 0x7fc085cac950>\n",
      "FULL_STATS_DF shape = (8791, 6)\n",
      "RUN_FNAME vc head:\n",
      "CatMulticlass.forward [115]                 1\n",
      "WeightedBlender._get_scorer [9]             1\n",
      "PandasDataset._get_cols_idx [26]            1\n",
      "TorchBasedLinearEstimator._loss_fn [379]    1\n",
      "NumericRole.__init__ [225]                  1\n",
      "Name: run_fname, dtype: int64\n",
      "CONNECTED COMPONENTS cnt = 1\n",
      "PATH LENS describe:\n",
      "count    8792.000000\n",
      "mean        7.802889\n",
      "std         2.411472\n",
      "min         0.000000\n",
      "25%         6.000000\n",
      "50%         8.000000\n",
      "75%         9.000000\n",
      "max        17.000000\n",
      "dtype: float64\n",
      "CPU times: user 950 ms, sys: 16.1 ms, total: 966 ms\n",
      "Wall time: 958 ms\n"
     ]
    }
   ],
   "source": [
    "%%time\n",
    "p.profile('my_report_profile.html')\n",
    "assert os.path.exists('my_report_profile.html'), 'Profile report failed to build'"
   ]
  },
  {
   "cell_type": "markdown",
   "metadata": {},
   "source": [
    "# Appendix. Profiling report screenshots "
   ]
  },
  {
   "cell_type": "markdown",
   "metadata": {},
   "source": [
    "After loading HTML with profiling report, you can see fully folded report (please wait for green LOAD OK text for full load finish). If you click on triangle on the left, it unfolds and look like this:  \n",
    "\n",
    "<img src=\"imgs/tutorial_3_initial_report.png\" alt=\"Initial profiling report\" style=\"width: 500px;\"/>\n",
    "\n",
    "If we go even deeper we will receive situation like this:\n",
    "\n",
    "<img src=\"imgs/tutorial_3_unfolded_report.png\" alt=\"Profiling report after several unfoldings on different levels\" style=\"width: 500px;\"/>\n"
   ]
  },
  {
   "cell_type": "code",
   "execution_count": null,
   "metadata": {},
   "outputs": [],
   "source": []
  }
 ],
 "metadata": {
  "kernelspec": {
   "display_name": "Python 3",
   "language": "python",
   "name": "python3"
  },
  "language_info": {
   "codemirror_mode": {
    "name": "ipython",
    "version": 3
   },
   "file_extension": ".py",
   "mimetype": "text/x-python",
   "name": "python",
   "nbconvert_exporter": "python",
   "pygments_lexer": "ipython3",
   "version": "3.6.9"
  }
 },
 "nbformat": 4,
 "nbformat_minor": 4
}
